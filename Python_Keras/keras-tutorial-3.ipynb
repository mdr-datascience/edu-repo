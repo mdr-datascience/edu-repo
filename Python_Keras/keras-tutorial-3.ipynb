{
 "cells": [
  {
   "cell_type": "markdown",
   "metadata": {},
   "source": [
    "# Neural Network Hyperparameters\n",
    "\n",
    "This tutorial provides code that helps experimenting with different neural network hyperparameters."
   ]
  },
  {
   "cell_type": "code",
   "execution_count": 10,
   "metadata": {},
   "outputs": [],
   "source": [
    "# Import keras and other functionality\n",
    "from tensorflow import keras\n",
    "from tensorflow import random\n",
    "from keras.callbacks import EarlyStopping, ModelCheckpoint\n",
    "\n",
    "keras.backend.clear_session()\n",
    "random.set_seed(42)"
   ]
  },
  {
   "cell_type": "code",
   "execution_count": 11,
   "metadata": {},
   "outputs": [],
   "source": [
    "# Load Fashion MNIST data\n",
    "fashion_mnist = keras.datasets.fashion_mnist.load_data()\n",
    "(X_train_full, y_train_full), (X_test, y_test) = fashion_mnist\n",
    "\n",
    "# Select 55,000 datapoints for training and 5,000 datapoints for validation\n",
    "X_train, y_train = X_train_full[:-5000], y_train_full[:-5000]\n",
    "X_valid, y_valid = X_train_full[-5000:], y_train_full[-5000:]"
   ]
  },
  {
   "cell_type": "code",
   "execution_count": 12,
   "metadata": {},
   "outputs": [],
   "source": [
    "# Preprocess training and validation data\n",
    "X_train, X_valid, X_test = X_train / 255., X_valid / 255., X_test / 255."
   ]
  },
  {
   "cell_type": "code",
   "execution_count": 13,
   "metadata": {},
   "outputs": [],
   "source": [
    "# Use early stopping to avoid wasting resources with unnecessary training\n",
    "# Training will stop if validation loss does not improve for 5 epochs (patience)\n",
    "early_stopping = EarlyStopping(monitor='val_loss', patience=5, restore_best_weights=True)\n",
    "\n",
    "# Callback to save best model (according to validation loss)\n",
    "name_model = 'keras_best_model.keras'\n",
    "best_model = ModelCheckpoint(name_model, monitor='val_loss', mode='min', save_best_only=True)\n",
    "\n",
    "call_backs=[early_stopping, best_model] \n",
    "# Choose optimiser\n",
    "l_rate=0.000001\n",
    "opt = keras.optimizers.SGD(learning_rate=l_rate)"
   ]
  },
  {
   "cell_type": "code",
   "execution_count": 14,
   "metadata": {},
   "outputs": [],
   "source": [
    "# Define neural network in keras using specified hyperparameters\n",
    "def build_and_train_model(n_hidden=2, n_neurons=[300,100], optimizer=keras.optimizers.SGD(learning_rate=0.01), i_shape=[28, 28], epochs=30, call_backs=[]):\n",
    "    \n",
    "    model = keras.models.Sequential()\n",
    "    model.add(keras.layers.Flatten(input_shape=i_shape))\n",
    "    for layer in range(n_hidden):\n",
    "        model.add(keras.layers.Dense(n_neurons[layer], activation=\"relu\"))\n",
    "    model.add(keras.layers.Dense(10, activation=\"softmax\"))\n",
    "   \n",
    "    model.compile(loss=\"sparse_categorical_crossentropy\", optimizer=optimizer, metrics=[\"accuracy\"])\n",
    "\n",
    "    history = model.fit(X_train, y_train, epochs=epochs, validation_data=(X_valid, y_valid), callbacks=call_backs)\n",
    "\n",
    "    return model, history"
   ]
  },
  {
   "cell_type": "code",
   "execution_count": 15,
   "metadata": {},
   "outputs": [
    {
     "name": "stdout",
     "output_type": "stream",
     "text": [
      "Epoch 1/50\n",
      "1719/1719 [==============================] - 4s 2ms/step - loss: 2.3619 - accuracy: 0.1289 - val_loss: 2.3616 - val_accuracy: 0.1338\n",
      "Epoch 2/50\n",
      "1719/1719 [==============================] - 4s 2ms/step - loss: 2.3558 - accuracy: 0.1311 - val_loss: 2.3553 - val_accuracy: 0.1358\n",
      "Epoch 3/50\n",
      "1719/1719 [==============================] - 4s 2ms/step - loss: 2.3498 - accuracy: 0.1333 - val_loss: 2.3491 - val_accuracy: 0.1374\n",
      "Epoch 4/50\n",
      "1719/1719 [==============================] - 3s 2ms/step - loss: 2.3438 - accuracy: 0.1359 - val_loss: 2.3430 - val_accuracy: 0.1406\n",
      "Epoch 5/50\n",
      "1719/1719 [==============================] - 4s 2ms/step - loss: 2.3379 - accuracy: 0.1380 - val_loss: 2.3369 - val_accuracy: 0.1422\n",
      "Epoch 6/50\n",
      "1719/1719 [==============================] - 3s 2ms/step - loss: 2.3321 - accuracy: 0.1400 - val_loss: 2.3310 - val_accuracy: 0.1454\n",
      "Epoch 7/50\n",
      "1719/1719 [==============================] - 4s 2ms/step - loss: 2.3264 - accuracy: 0.1428 - val_loss: 2.3251 - val_accuracy: 0.1474\n",
      "Epoch 8/50\n",
      "1719/1719 [==============================] - 3s 2ms/step - loss: 2.3207 - accuracy: 0.1451 - val_loss: 2.3193 - val_accuracy: 0.1504\n",
      "Epoch 9/50\n",
      "1719/1719 [==============================] - 4s 2ms/step - loss: 2.3152 - accuracy: 0.1476 - val_loss: 2.3136 - val_accuracy: 0.1530\n",
      "Epoch 10/50\n",
      "1719/1719 [==============================] - 3s 2ms/step - loss: 2.3097 - accuracy: 0.1501 - val_loss: 2.3080 - val_accuracy: 0.1546\n",
      "Epoch 11/50\n",
      "1719/1719 [==============================] - 3s 2ms/step - loss: 2.3042 - accuracy: 0.1525 - val_loss: 2.3024 - val_accuracy: 0.1564\n",
      "Epoch 12/50\n",
      "1719/1719 [==============================] - 3s 2ms/step - loss: 2.2989 - accuracy: 0.1551 - val_loss: 2.2969 - val_accuracy: 0.1598\n",
      "Epoch 13/50\n",
      "1719/1719 [==============================] - 3s 2ms/step - loss: 2.2936 - accuracy: 0.1575 - val_loss: 2.2915 - val_accuracy: 0.1616\n",
      "Epoch 14/50\n",
      "1719/1719 [==============================] - 3s 2ms/step - loss: 2.2884 - accuracy: 0.1607 - val_loss: 2.2861 - val_accuracy: 0.1644\n",
      "Epoch 15/50\n",
      "1719/1719 [==============================] - 4s 2ms/step - loss: 2.2833 - accuracy: 0.1637 - val_loss: 2.2809 - val_accuracy: 0.1678\n",
      "Epoch 16/50\n",
      "1719/1719 [==============================] - 3s 2ms/step - loss: 2.2782 - accuracy: 0.1671 - val_loss: 2.2757 - val_accuracy: 0.1716\n",
      "Epoch 17/50\n",
      "1719/1719 [==============================] - 3s 2ms/step - loss: 2.2732 - accuracy: 0.1703 - val_loss: 2.2705 - val_accuracy: 0.1752\n",
      "Epoch 18/50\n",
      "1719/1719 [==============================] - 3s 2ms/step - loss: 2.2682 - accuracy: 0.1739 - val_loss: 2.2654 - val_accuracy: 0.1794\n",
      "Epoch 19/50\n",
      "1719/1719 [==============================] - 3s 2ms/step - loss: 2.2633 - accuracy: 0.1773 - val_loss: 2.2604 - val_accuracy: 0.1824\n",
      "Epoch 20/50\n",
      "1719/1719 [==============================] - 3s 2ms/step - loss: 2.2585 - accuracy: 0.1813 - val_loss: 2.2555 - val_accuracy: 0.1862\n",
      "Epoch 21/50\n",
      "1719/1719 [==============================] - 3s 2ms/step - loss: 2.2537 - accuracy: 0.1852 - val_loss: 2.2506 - val_accuracy: 0.1894\n",
      "Epoch 22/50\n",
      "1719/1719 [==============================] - 3s 2ms/step - loss: 2.2490 - accuracy: 0.1889 - val_loss: 2.2457 - val_accuracy: 0.1946\n",
      "Epoch 23/50\n",
      "1719/1719 [==============================] - 3s 2ms/step - loss: 2.2444 - accuracy: 0.1931 - val_loss: 2.2410 - val_accuracy: 0.2006\n",
      "Epoch 24/50\n",
      "1719/1719 [==============================] - 3s 2ms/step - loss: 2.2398 - accuracy: 0.1971 - val_loss: 2.2362 - val_accuracy: 0.2076\n",
      "Epoch 25/50\n",
      "1719/1719 [==============================] - 3s 2ms/step - loss: 2.2352 - accuracy: 0.2014 - val_loss: 2.2316 - val_accuracy: 0.2128\n",
      "Epoch 26/50\n",
      "1719/1719 [==============================] - 3s 2ms/step - loss: 2.2308 - accuracy: 0.2053 - val_loss: 2.2270 - val_accuracy: 0.2176\n",
      "Epoch 27/50\n",
      "1719/1719 [==============================] - 3s 2ms/step - loss: 2.2263 - accuracy: 0.2098 - val_loss: 2.2224 - val_accuracy: 0.2228\n",
      "Epoch 28/50\n",
      "1719/1719 [==============================] - 3s 2ms/step - loss: 2.2219 - accuracy: 0.2149 - val_loss: 2.2179 - val_accuracy: 0.2274\n",
      "Epoch 29/50\n",
      "1719/1719 [==============================] - 3s 2ms/step - loss: 2.2176 - accuracy: 0.2196 - val_loss: 2.2135 - val_accuracy: 0.2312\n",
      "Epoch 30/50\n",
      "1719/1719 [==============================] - 3s 2ms/step - loss: 2.2133 - accuracy: 0.2242 - val_loss: 2.2091 - val_accuracy: 0.2374\n",
      "Epoch 31/50\n",
      "1719/1719 [==============================] - 3s 2ms/step - loss: 2.2090 - accuracy: 0.2291 - val_loss: 2.2047 - val_accuracy: 0.2420\n",
      "Epoch 32/50\n",
      "1719/1719 [==============================] - 3s 2ms/step - loss: 2.2048 - accuracy: 0.2334 - val_loss: 2.2004 - val_accuracy: 0.2474\n",
      "Epoch 33/50\n",
      "1719/1719 [==============================] - 3s 2ms/step - loss: 2.2007 - accuracy: 0.2385 - val_loss: 2.1962 - val_accuracy: 0.2518\n",
      "Epoch 34/50\n",
      "1719/1719 [==============================] - 3s 2ms/step - loss: 2.1966 - accuracy: 0.2434 - val_loss: 2.1920 - val_accuracy: 0.2578\n",
      "Epoch 35/50\n",
      "1719/1719 [==============================] - 3s 2ms/step - loss: 2.1925 - accuracy: 0.2486 - val_loss: 2.1878 - val_accuracy: 0.2640\n",
      "Epoch 36/50\n",
      "1719/1719 [==============================] - 3s 2ms/step - loss: 2.1885 - accuracy: 0.2530 - val_loss: 2.1837 - val_accuracy: 0.2680\n",
      "Epoch 37/50\n",
      "1719/1719 [==============================] - 3s 2ms/step - loss: 2.1845 - accuracy: 0.2579 - val_loss: 2.1796 - val_accuracy: 0.2712\n",
      "Epoch 38/50\n",
      "1719/1719 [==============================] - 3s 2ms/step - loss: 2.1805 - accuracy: 0.2627 - val_loss: 2.1756 - val_accuracy: 0.2762\n",
      "Epoch 39/50\n",
      "1719/1719 [==============================] - 3s 2ms/step - loss: 2.1766 - accuracy: 0.2669 - val_loss: 2.1716 - val_accuracy: 0.2818\n",
      "Epoch 40/50\n",
      "1719/1719 [==============================] - 3s 2ms/step - loss: 2.1727 - accuracy: 0.2717 - val_loss: 2.1677 - val_accuracy: 0.2854\n",
      "Epoch 41/50\n",
      "1719/1719 [==============================] - 3s 2ms/step - loss: 2.1689 - accuracy: 0.2762 - val_loss: 2.1638 - val_accuracy: 0.2900\n",
      "Epoch 42/50\n",
      "1719/1719 [==============================] - 3s 2ms/step - loss: 2.1651 - accuracy: 0.2809 - val_loss: 2.1599 - val_accuracy: 0.2946\n",
      "Epoch 43/50\n",
      "1719/1719 [==============================] - 3s 2ms/step - loss: 2.1613 - accuracy: 0.2853 - val_loss: 2.1561 - val_accuracy: 0.3006\n",
      "Epoch 44/50\n",
      "1719/1719 [==============================] - 3s 2ms/step - loss: 2.1576 - accuracy: 0.2891 - val_loss: 2.1523 - val_accuracy: 0.3050\n",
      "Epoch 45/50\n",
      "1719/1719 [==============================] - 3s 2ms/step - loss: 2.1539 - accuracy: 0.2935 - val_loss: 2.1485 - val_accuracy: 0.3080\n",
      "Epoch 46/50\n",
      "1719/1719 [==============================] - 3s 2ms/step - loss: 2.1502 - accuracy: 0.2976 - val_loss: 2.1448 - val_accuracy: 0.3126\n",
      "Epoch 47/50\n",
      "1719/1719 [==============================] - 3s 2ms/step - loss: 2.1466 - accuracy: 0.3012 - val_loss: 2.1411 - val_accuracy: 0.3154\n",
      "Epoch 48/50\n",
      "1719/1719 [==============================] - 3s 2ms/step - loss: 2.1430 - accuracy: 0.3054 - val_loss: 2.1374 - val_accuracy: 0.3190\n",
      "Epoch 49/50\n",
      "1719/1719 [==============================] - 3s 2ms/step - loss: 2.1394 - accuracy: 0.3087 - val_loss: 2.1338 - val_accuracy: 0.3216\n",
      "Epoch 50/50\n",
      "1719/1719 [==============================] - 3s 2ms/step - loss: 2.1359 - accuracy: 0.3125 - val_loss: 2.1302 - val_accuracy: 0.3244\n"
     ]
    }
   ],
   "source": [
    "# Build and train model using specific hyperparameters\n",
    "[model, history] = build_and_train_model(n_hidden=2, n_neurons=[300,100], optimizer=opt, i_shape=[28, 28], epochs=50, call_backs=[early_stopping, best_model])"
   ]
  },
  {
   "cell_type": "code",
   "execution_count": 7,
   "metadata": {},
   "outputs": [
    {
     "name": "stdout",
     "output_type": "stream",
     "text": [
      "Model: \"sequential\"\n",
      "_________________________________________________________________\n",
      " Layer (type)                Output Shape              Param #   \n",
      "=================================================================\n",
      " flatten (Flatten)           (None, 784)               0         \n",
      "                                                                 \n",
      " dense (Dense)               (None, 300)               235500    \n",
      "                                                                 \n",
      " dense_1 (Dense)             (None, 100)               30100     \n",
      "                                                                 \n",
      " dense_2 (Dense)             (None, 10)                1010      \n",
      "                                                                 \n",
      "=================================================================\n",
      "Total params: 266610 (1.02 MB)\n",
      "Trainable params: 266610 (1.02 MB)\n",
      "Non-trainable params: 0 (0.00 Byte)\n",
      "_________________________________________________________________\n"
     ]
    }
   ],
   "source": [
    "# Check model summary\n",
    "model.summary()"
   ]
  },
  {
   "cell_type": "code",
   "execution_count": 8,
   "metadata": {},
   "outputs": [
    {
     "data": {
      "image/png": "[encoded data removed]",
      "text/plain": [
       "<Figure size 800x500 with 1 Axes>"
      ]
     },
     "metadata": {},
     "output_type": "display_data"
    }
   ],
   "source": [
    "# Create function for plotting learning curves\n",
    "import numpy as np\n",
    "import matplotlib.pyplot as plt\n",
    "\n",
    "def plot_curves(history):\n",
    "    plt.figure(figsize=(8, 5))\n",
    "    for key, style in zip(history.history, [\"r--\", \"r--.\", \"b-\", \"b-*\"]):\n",
    "        epochs = np.array(history.epoch) + (0 if key.startswith(\"val_\") else -0.5)\n",
    "        plt.plot(epochs, history.history[key], style, label=key)\n",
    "    plt.xlabel(\"Epoch\")\n",
    "    plt.legend(loc=\"lower left\")\n",
    "    plt.grid()\n",
    "    plt.show()\n",
    "\n",
    "plot_curves(history)"
   ]
  },
  {
   "cell_type": "code",
   "execution_count": 9,
   "metadata": {},
   "outputs": [
    {
     "name": "stdout",
     "output_type": "stream",
     "text": [
      "157/157 [==============================] - 0s 2ms/step - loss: 0.3117 - accuracy: 0.8848\n"
     ]
    },
    {
     "data": {
      "text/plain": [
       "[0.311710387468338, 0.8848000168800354]"
      ]
     },
     "execution_count": 9,
     "metadata": {},
     "output_type": "execute_result"
    }
   ],
   "source": [
    "# Load best model from training\n",
    "saved_model = keras.models.load_model(name_model)\n",
    "\n",
    "# Evaluate on the validation data (don't use test data if you are comparing different hyperparameters)\n",
    "saved_model.evaluate(X_valid, y_valid)"
   ]
  }
 ],
 "metadata": {
  "kernelspec": {
   "display_name": "base",
   "language": "python",
   "name": "python3"
  },
  "language_info": {
   "codemirror_mode": {
    "name": "ipython",
    "version": 3
   },
   "file_extension": ".py",
   "mimetype": "text/x-python",
   "name": "python",
   "nbconvert_exporter": "python",
   "pygments_lexer": "ipython3",
   "version": "3.10.9"
  }
 },
 "nbformat": 4,
 "nbformat_minor": 2
}
