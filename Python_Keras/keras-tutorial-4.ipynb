{
 "cells": [
  {
   "cell_type": "code",
   "execution_count": 17,
   "metadata": {},
   "outputs": [],
   "source": [
    "# Import keras and other functionality\n",
    "import tensorflow as tf\n",
    "from tensorflow import random\n",
    "from keras.callbacks import EarlyStopping, ModelCheckpoint\n",
    "\n",
    "tf.keras.backend.clear_session()\n",
    "random.set_seed(42)"
   ]
  },
  {
   "cell_type": "code",
   "execution_count": 18,
   "metadata": {},
   "outputs": [],
   "source": [
    "# Load Fashion MNIST data\n",
    "fashion_mnist = tf.keras.datasets.fashion_mnist.load_data()\n",
    "(X_train_full, y_train_full), (X_test, y_test) = fashion_mnist\n",
    "\n",
    "# Select 55,000 datapoints for training and 5,000 datapoints for validation\n",
    "X_train, y_train = X_train_full[:-5000], y_train_full[:-5000]\n",
    "X_valid, y_valid = X_train_full[-5000:], y_train_full[-5000:]"
   ]
  },
  {
   "cell_type": "code",
   "execution_count": 19,
   "metadata": {},
   "outputs": [],
   "source": [
    "# Preprocess training and validation data\n",
    "X_train, X_valid, X_test = X_train / 255., X_valid / 255., X_test / 255."
   ]
  },
  {
   "cell_type": "code",
   "execution_count": 20,
   "metadata": {},
   "outputs": [
    {
     "name": "stdout",
     "output_type": "stream",
     "text": [
      "Epoch 1/30\n",
      "1719/1719 [==============================] - 13s 7ms/step - loss: 10.7696 - accuracy: 0.5921 - val_loss: 2.1421 - val_accuracy: 0.5806\n",
      "Epoch 2/30\n",
      "1719/1719 [==============================] - 9s 5ms/step - loss: 2.0573 - accuracy: 0.5493 - val_loss: 2.0194 - val_accuracy: 0.5450\n",
      "Epoch 3/30\n",
      "1719/1719 [==============================] - 10s 6ms/step - loss: 2.0155 - accuracy: 0.5510 - val_loss: 2.0005 - val_accuracy: 0.5628\n",
      "Epoch 4/30\n",
      "1719/1719 [==============================] - 10s 6ms/step - loss: 2.0027 - accuracy: 0.5563 - val_loss: 1.9893 - val_accuracy: 0.5702\n",
      "Epoch 5/30\n",
      "1719/1719 [==============================] - 11s 6ms/step - loss: 1.9945 - accuracy: 0.5526 - val_loss: 1.9875 - val_accuracy: 0.5732\n",
      "Epoch 6/30\n",
      "1719/1719 [==============================] - 10s 6ms/step - loss: 1.9895 - accuracy: 0.5509 - val_loss: 1.9874 - val_accuracy: 0.5352\n",
      "Epoch 7/30\n",
      "1719/1719 [==============================] - 11s 6ms/step - loss: 1.9854 - accuracy: 0.5475 - val_loss: 1.9798 - val_accuracy: 0.5412\n",
      "Epoch 8/30\n",
      "1719/1719 [==============================] - 9s 6ms/step - loss: 1.9825 - accuracy: 0.5467 - val_loss: 1.9757 - val_accuracy: 0.5332\n",
      "Epoch 9/30\n",
      "1719/1719 [==============================] - 9s 6ms/step - loss: 1.9800 - accuracy: 0.5400 - val_loss: 1.9741 - val_accuracy: 0.5572\n",
      "Epoch 10/30\n",
      "1719/1719 [==============================] - 9s 5ms/step - loss: 1.9775 - accuracy: 0.5391 - val_loss: 1.9722 - val_accuracy: 0.5606\n",
      "Epoch 11/30\n",
      "1719/1719 [==============================] - 9s 5ms/step - loss: 1.9757 - accuracy: 0.5369 - val_loss: 1.9681 - val_accuracy: 0.5626\n",
      "Epoch 12/30\n",
      "1719/1719 [==============================] - 9s 5ms/step - loss: 1.9739 - accuracy: 0.5350 - val_loss: 1.9699 - val_accuracy: 0.5158\n",
      "Epoch 13/30\n",
      "1719/1719 [==============================] - 10s 6ms/step - loss: 1.9726 - accuracy: 0.5305 - val_loss: 1.9661 - val_accuracy: 0.5276\n",
      "Epoch 14/30\n",
      "1719/1719 [==============================] - 9s 5ms/step - loss: 1.9711 - accuracy: 0.5271 - val_loss: 1.9644 - val_accuracy: 0.5460\n",
      "Epoch 15/30\n",
      "1719/1719 [==============================] - 9s 5ms/step - loss: 1.9696 - accuracy: 0.5281 - val_loss: 1.9625 - val_accuracy: 0.5130\n",
      "Epoch 16/30\n",
      "1719/1719 [==============================] - 10s 6ms/step - loss: 1.9681 - accuracy: 0.5255 - val_loss: 1.9617 - val_accuracy: 0.5544\n",
      "Epoch 17/30\n",
      "1719/1719 [==============================] - 10s 6ms/step - loss: 1.9668 - accuracy: 0.5214 - val_loss: 1.9618 - val_accuracy: 0.5574\n",
      "Epoch 18/30\n",
      "1719/1719 [==============================] - 10s 6ms/step - loss: 1.9655 - accuracy: 0.5207 - val_loss: 1.9601 - val_accuracy: 0.5542\n",
      "Epoch 19/30\n",
      "1719/1719 [==============================] - 10s 6ms/step - loss: 1.9642 - accuracy: 0.5197 - val_loss: 1.9583 - val_accuracy: 0.5202\n",
      "Epoch 20/30\n",
      "1719/1719 [==============================] - 10s 6ms/step - loss: 1.9628 - accuracy: 0.5170 - val_loss: 1.9560 - val_accuracy: 0.5272\n",
      "Epoch 21/30\n",
      "1719/1719 [==============================] - 10s 6ms/step - loss: 1.9614 - accuracy: 0.5152 - val_loss: 1.9550 - val_accuracy: 0.5176\n",
      "Epoch 22/30\n",
      "1719/1719 [==============================] - 11s 6ms/step - loss: 1.9595 - accuracy: 0.5105 - val_loss: 1.9593 - val_accuracy: 0.5082\n",
      "Epoch 23/30\n",
      "1719/1719 [==============================] - 10s 6ms/step - loss: 1.9581 - accuracy: 0.5122 - val_loss: 1.9501 - val_accuracy: 0.5250\n",
      "Epoch 24/30\n",
      "1719/1719 [==============================] - 10s 6ms/step - loss: 1.9564 - accuracy: 0.5114 - val_loss: 1.9537 - val_accuracy: 0.4834\n",
      "Epoch 25/30\n",
      "1719/1719 [==============================] - 10s 6ms/step - loss: 1.9548 - accuracy: 0.5088 - val_loss: 1.9466 - val_accuracy: 0.5454\n",
      "Epoch 26/30\n",
      "1719/1719 [==============================] - 9s 5ms/step - loss: 1.9539 - accuracy: 0.5089 - val_loss: 1.9480 - val_accuracy: 0.5402\n",
      "Epoch 27/30\n",
      "1719/1719 [==============================] - 9s 5ms/step - loss: 1.9526 - accuracy: 0.5072 - val_loss: 1.9477 - val_accuracy: 0.5490\n",
      "Epoch 28/30\n",
      "1719/1719 [==============================] - 10s 6ms/step - loss: 1.9518 - accuracy: 0.5112 - val_loss: 1.9432 - val_accuracy: 0.5082\n",
      "Epoch 29/30\n",
      "1719/1719 [==============================] - 10s 6ms/step - loss: 1.9506 - accuracy: 0.5061 - val_loss: 1.9447 - val_accuracy: 0.5332\n",
      "Epoch 30/30\n",
      "1719/1719 [==============================] - 9s 5ms/step - loss: 1.9500 - accuracy: 0.5099 - val_loss: 1.9456 - val_accuracy: 0.5078\n"
     ]
    }
   ],
   "source": [
    "loss_hyper = 0.1\n",
    "model = tf.keras.models.Sequential()\n",
    "model.add(tf.keras.layers.Flatten(input_shape=[28,28]))\n",
    "model.add(tf.keras.layers.Dense(300, activation=\"relu\", kernel_regularizer=tf.keras.regularizers.L2(loss_hyper)))\n",
    "model.add(tf.keras.layers.Dense(100, activation=\"relu\", kernel_regularizer=tf.keras.regularizers.L2(loss_hyper)))\n",
    "model.add(tf.keras.layers.Dense(10, activation=\"softmax\", kernel_regularizer=tf.keras.regularizers.L2(loss_hyper)))\n",
    "\n",
    "#model.add(tf.keras.layers.Flatten(input_shape=[28,28]))\n",
    "#model.add(tf.keras.layers.Dense(300, activation=\"relu\"))\n",
    "#model.add(tf.keras.layers.Dense(100, activation=\"relu\"))\n",
    "#model.add(tf.keras.layers.Dense(10, activation=\"softmax\"))\n",
    "   \n",
    "model.compile(loss=\"sparse_categorical_crossentropy\", optimizer=\"sgd\", metrics=[\"accuracy\"])\n",
    "\n",
    "history = model.fit(X_train, y_train, epochs=30, validation_data=(X_valid, y_valid))"
   ]
  },
  {
   "cell_type": "code",
   "execution_count": 21,
   "metadata": {},
   "outputs": [
    {
     "data": {
      "image/png": "[encoded data removed]",
      "text/plain": [
       "<Figure size 800x500 with 1 Axes>"
      ]
     },
     "metadata": {},
     "output_type": "display_data"
    }
   ],
   "source": [
    "# Create function for plotting learning curves\n",
    "import numpy as np\n",
    "import matplotlib.pyplot as plt\n",
    "\n",
    "def plot_curves(history):\n",
    "    plt.figure(figsize=(8, 5))\n",
    "    for key, style in zip(history.history, [\"r--\", \"r--.\", \"b-\", \"b-*\"]):\n",
    "        epochs = np.array(history.epoch) + (0 if key.startswith(\"val_\") else -0.5)\n",
    "        plt.plot(epochs, history.history[key], style, label=key)\n",
    "    plt.xlabel(\"Epoch\")\n",
    "    plt.legend(loc=\"lower left\")\n",
    "    plt.grid()\n",
    "    plt.show()\n",
    "\n",
    "plot_curves(history)"
   ]
  },
  {
   "cell_type": "code",
   "execution_count": 22,
   "metadata": {},
   "outputs": [
    {
     "name": "stdout",
     "output_type": "stream",
     "text": [
      "313/313 [==============================] - 1s 4ms/step - loss: 1.9490 - accuracy: 0.5067\n"
     ]
    },
    {
     "data": {
      "text/plain": [
       "[1.9490386247634888, 0.5066999793052673]"
      ]
     },
     "execution_count": 22,
     "metadata": {},
     "output_type": "execute_result"
    }
   ],
   "source": [
    "# Evaluate model on test data\n",
    "model.evaluate(X_test, y_test)"
   ]
  },
  {
   "cell_type": "code",
   "execution_count": null,
   "metadata": {},
   "outputs": [],
   "source": []
  }
 ],
 "metadata": {
  "kernelspec": {
   "display_name": "base",
   "language": "python",
   "name": "python3"
  },
  "language_info": {
   "codemirror_mode": {
    "name": "ipython",
    "version": 3
   },
   "file_extension": ".py",
   "mimetype": "text/x-python",
   "name": "python",
   "nbconvert_exporter": "python",
   "pygments_lexer": "ipython3",
   "version": "3.10.9"
  }
 },
 "nbformat": 4,
 "nbformat_minor": 2
}
