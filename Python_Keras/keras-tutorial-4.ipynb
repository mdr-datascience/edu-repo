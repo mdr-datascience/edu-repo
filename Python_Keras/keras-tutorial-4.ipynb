{
 "cells": [
  {
   "cell_type": "markdown",
   "metadata": {},
   "source": [
    "# Avoid overfitting Through Regularisation and Dropout Layers\n",
    "\n",
    "This tutorial provides example code on how to apply regularisation to the layers of a small neural network as well as dropout layers to prevent overfitting."
   ]
  },
  {
   "cell_type": "code",
   "execution_count": 1,
   "metadata": {},
   "outputs": [
    {
     "name": "stdout",
     "output_type": "stream",
     "text": [
      "WARNING:tensorflow:From c:\\Users\\md82\\AppData\\Local\\anaconda3\\lib\\site-packages\\keras\\src\\losses.py:2976: The name tf.losses.sparse_softmax_cross_entropy is deprecated. Please use tf.compat.v1.losses.sparse_softmax_cross_entropy instead.\n",
      "\n",
      "WARNING:tensorflow:From c:\\Users\\md82\\AppData\\Local\\anaconda3\\lib\\site-packages\\keras\\src\\backend.py:277: The name tf.reset_default_graph is deprecated. Please use tf.compat.v1.reset_default_graph instead.\n",
      "\n"
     ]
    }
   ],
   "source": [
    "# Import keras and other functionality\n",
    "import tensorflow as tf\n",
    "from tensorflow import random\n",
    "\n",
    "tf.keras.backend.clear_session()\n",
    "random.set_seed(42)"
   ]
  },
  {
   "cell_type": "code",
   "execution_count": 2,
   "metadata": {},
   "outputs": [],
   "source": [
    "# Load Fashion MNIST data\n",
    "fashion_mnist = tf.keras.datasets.fashion_mnist.load_data()\n",
    "(X_train_full, y_train_full), (X_test, y_test) = fashion_mnist\n",
    "\n",
    "# Select 55,000 datapoints for training and 5,000 datapoints for validation\n",
    "X_train, y_train = X_train_full[:-5000], y_train_full[:-5000]\n",
    "X_valid, y_valid = X_train_full[-5000:], y_train_full[-5000:]"
   ]
  },
  {
   "cell_type": "code",
   "execution_count": 3,
   "metadata": {},
   "outputs": [],
   "source": [
    "# Preprocess training and validation data\n",
    "X_train, X_valid, X_test = X_train / 255., X_valid / 255., X_test / 255."
   ]
  },
  {
   "cell_type": "markdown",
   "metadata": {},
   "source": [
    "## Use Weight Regularisers"
   ]
  },
  {
   "cell_type": "code",
   "execution_count": 4,
   "metadata": {},
   "outputs": [
    {
     "name": "stdout",
     "output_type": "stream",
     "text": [
      "WARNING:tensorflow:From c:\\Users\\md82\\AppData\\Local\\anaconda3\\lib\\site-packages\\keras\\src\\optimizers\\__init__.py:309: The name tf.train.Optimizer is deprecated. Please use tf.compat.v1.train.Optimizer instead.\n",
      "\n",
      "Epoch 1/30\n",
      "WARNING:tensorflow:From c:\\Users\\md82\\AppData\\Local\\anaconda3\\lib\\site-packages\\keras\\src\\utils\\tf_utils.py:492: The name tf.ragged.RaggedTensorValue is deprecated. Please use tf.compat.v1.ragged.RaggedTensorValue instead.\n",
      "\n",
      "WARNING:tensorflow:From c:\\Users\\md82\\AppData\\Local\\anaconda3\\lib\\site-packages\\keras\\src\\engine\\base_layer_utils.py:384: The name tf.executing_eagerly_outside_functions is deprecated. Please use tf.compat.v1.executing_eagerly_outside_functions instead.\n",
      "\n",
      "1719/1719 [==============================] - 4s 2ms/step - loss: 10.7948 - accuracy: 0.5748 - val_loss: 2.1285 - val_accuracy: 0.5662\n",
      "Epoch 2/30\n",
      "1719/1719 [==============================] - 3s 2ms/step - loss: 2.0502 - accuracy: 0.5405 - val_loss: 2.0168 - val_accuracy: 0.5386\n",
      "Epoch 3/30\n",
      "1719/1719 [==============================] - 3s 2ms/step - loss: 2.0141 - accuracy: 0.5461 - val_loss: 1.9996 - val_accuracy: 0.5576\n",
      "Epoch 4/30\n",
      "1719/1719 [==============================] - 3s 2ms/step - loss: 2.0022 - accuracy: 0.5526 - val_loss: 1.9889 - val_accuracy: 0.5640\n",
      "Epoch 5/30\n",
      "1719/1719 [==============================] - 3s 2ms/step - loss: 1.9942 - accuracy: 0.5493 - val_loss: 1.9871 - val_accuracy: 0.5714\n",
      "Epoch 6/30\n",
      "1719/1719 [==============================] - 3s 2ms/step - loss: 1.9891 - accuracy: 0.5483 - val_loss: 1.9871 - val_accuracy: 0.5318\n",
      "Epoch 7/30\n",
      "1719/1719 [==============================] - 3s 2ms/step - loss: 1.9850 - accuracy: 0.5439 - val_loss: 1.9794 - val_accuracy: 0.5376\n",
      "Epoch 8/30\n",
      "1719/1719 [==============================] - 3s 2ms/step - loss: 1.9821 - accuracy: 0.5439 - val_loss: 1.9754 - val_accuracy: 0.5294\n",
      "Epoch 9/30\n",
      "1719/1719 [==============================] - 3s 2ms/step - loss: 1.9796 - accuracy: 0.5371 - val_loss: 1.9738 - val_accuracy: 0.5566\n",
      "Epoch 10/30\n",
      "1719/1719 [==============================] - 3s 2ms/step - loss: 1.9771 - accuracy: 0.5365 - val_loss: 1.9719 - val_accuracy: 0.5592\n",
      "Epoch 11/30\n",
      "1719/1719 [==============================] - 3s 2ms/step - loss: 1.9753 - accuracy: 0.5340 - val_loss: 1.9678 - val_accuracy: 0.5600\n",
      "Epoch 12/30\n",
      "1719/1719 [==============================] - 3s 2ms/step - loss: 1.9735 - accuracy: 0.5329 - val_loss: 1.9696 - val_accuracy: 0.5144\n",
      "Epoch 13/30\n",
      "1719/1719 [==============================] - 3s 2ms/step - loss: 1.9722 - accuracy: 0.5284 - val_loss: 1.9657 - val_accuracy: 0.5250\n",
      "Epoch 14/30\n",
      "1719/1719 [==============================] - 3s 2ms/step - loss: 1.9708 - accuracy: 0.5255 - val_loss: 1.9641 - val_accuracy: 0.5452\n",
      "Epoch 15/30\n",
      "1719/1719 [==============================] - 3s 2ms/step - loss: 1.9693 - accuracy: 0.5263 - val_loss: 1.9622 - val_accuracy: 0.5118\n",
      "Epoch 16/30\n",
      "1719/1719 [==============================] - 3s 2ms/step - loss: 1.9678 - accuracy: 0.5241 - val_loss: 1.9614 - val_accuracy: 0.5532\n",
      "Epoch 17/30\n",
      "1719/1719 [==============================] - 3s 2ms/step - loss: 1.9665 - accuracy: 0.5199 - val_loss: 1.9615 - val_accuracy: 0.5562\n",
      "Epoch 18/30\n",
      "1719/1719 [==============================] - 3s 2ms/step - loss: 1.9652 - accuracy: 0.5197 - val_loss: 1.9598 - val_accuracy: 0.5532\n",
      "Epoch 19/30\n",
      "1719/1719 [==============================] - 3s 2ms/step - loss: 1.9639 - accuracy: 0.5184 - val_loss: 1.9580 - val_accuracy: 0.5186\n",
      "Epoch 20/30\n",
      "1719/1719 [==============================] - 3s 2ms/step - loss: 1.9624 - accuracy: 0.5152 - val_loss: 1.9556 - val_accuracy: 0.5264\n",
      "Epoch 21/30\n",
      "1719/1719 [==============================] - 3s 2ms/step - loss: 1.9610 - accuracy: 0.5145 - val_loss: 1.9546 - val_accuracy: 0.5168\n",
      "Epoch 22/30\n",
      "1719/1719 [==============================] - 3s 2ms/step - loss: 1.9591 - accuracy: 0.5094 - val_loss: 1.9590 - val_accuracy: 0.5090\n",
      "Epoch 23/30\n",
      "1719/1719 [==============================] - 4s 2ms/step - loss: 1.9577 - accuracy: 0.5114 - val_loss: 1.9497 - val_accuracy: 0.5254\n",
      "Epoch 24/30\n",
      "1719/1719 [==============================] - 3s 2ms/step - loss: 1.9560 - accuracy: 0.5107 - val_loss: 1.9534 - val_accuracy: 0.4826\n",
      "Epoch 25/30\n",
      "1719/1719 [==============================] - 3s 2ms/step - loss: 1.9544 - accuracy: 0.5082 - val_loss: 1.9462 - val_accuracy: 0.5452\n",
      "Epoch 26/30\n",
      "1719/1719 [==============================] - 3s 2ms/step - loss: 1.9537 - accuracy: 0.5084 - val_loss: 1.9478 - val_accuracy: 0.5396\n",
      "Epoch 27/30\n",
      "1719/1719 [==============================] - 3s 2ms/step - loss: 1.9523 - accuracy: 0.5069 - val_loss: 1.9475 - val_accuracy: 0.5476\n",
      "Epoch 28/30\n",
      "1719/1719 [==============================] - 3s 2ms/step - loss: 1.9516 - accuracy: 0.5108 - val_loss: 1.9430 - val_accuracy: 0.5076\n",
      "Epoch 29/30\n",
      "1719/1719 [==============================] - 3s 2ms/step - loss: 1.9504 - accuracy: 0.5059 - val_loss: 1.9445 - val_accuracy: 0.5318\n",
      "Epoch 30/30\n",
      "1719/1719 [==============================] - 3s 2ms/step - loss: 1.9499 - accuracy: 0.5098 - val_loss: 1.9454 - val_accuracy: 0.5076\n"
     ]
    }
   ],
   "source": [
    "# Create model\n",
    "model = tf.keras.models.Sequential()\n",
    "\n",
    "# Create regulariser object with hyperparameter\n",
    "loss_hyper = 0.1\n",
    "l2reg = tf.keras.regularizers.L2(loss_hyper)\n",
    "\n",
    "# Add layers\n",
    "model.add(tf.keras.layers.Flatten(input_shape=[28,28]))\n",
    "model.add(tf.keras.layers.Dense(300, activation=\"relu\", kernel_regularizer=l2reg))\n",
    "model.add(tf.keras.layers.Dense(100, activation=\"relu\", kernel_regularizer=l2reg))\n",
    "model.add(tf.keras.layers.Dense(10, activation=\"softmax\", kernel_regularizer=l2reg))\n",
    "   \n",
    "# Compile model\n",
    "model.compile(loss=\"sparse_categorical_crossentropy\", optimizer=\"sgd\", metrics=[\"accuracy\"])\n",
    "\n",
    "# Train model with regularisation\n",
    "history = model.fit(X_train, y_train, epochs=30, validation_data=(X_valid, y_valid))"
   ]
  },
  {
   "cell_type": "code",
   "execution_count": 5,
   "metadata": {},
   "outputs": [
    {
     "data": {
      "image/png": "[encoded data removed]",
      "text/plain": [
       "<Figure size 800x500 with 1 Axes>"
      ]
     },
     "metadata": {},
     "output_type": "display_data"
    }
   ],
   "source": [
    "# Create function for plotting learning curves\n",
    "import numpy as np\n",
    "import matplotlib.pyplot as plt\n",
    "\n",
    "def plot_curves(history):\n",
    "    plt.figure(figsize=(8, 5))\n",
    "    for key, style in zip(history.history, [\"r--\", \"r--.\", \"b-\", \"b-*\"]):\n",
    "        epochs = np.array(history.epoch) + (0 if key.startswith(\"val_\") else -0.5)\n",
    "        plt.plot(epochs, history.history[key], style, label=key)\n",
    "    plt.xlabel(\"Epoch\")\n",
    "    plt.legend(loc=\"lower left\")\n",
    "    plt.title(\"Learning curves\")\n",
    "    plt.grid()\n",
    "    plt.show()\n",
    "\n",
    "# Plot curves\n",
    "plot_curves(history)"
   ]
  },
  {
   "cell_type": "markdown",
   "metadata": {},
   "source": [
    "As you might have noticed the model did not train very well. The loss is too high. This is because we set the hyperparameters for the regulariser to be too high. The model is underfitting! Change the hyperparameters to something much smaller such as 1e-3 or 1e-4 to see the model performing well again. To confirm that the model is underfitting check the accuracy on the training and validation data. It is now 0.5 instead of 0.89 as expected for this dataset with a well trained model."
   ]
  },
  {
   "cell_type": "code",
   "execution_count": 6,
   "metadata": {},
   "outputs": [
    {
     "name": "stdout",
     "output_type": "stream",
     "text": [
      "1719/1719 [==============================] - 2s 1ms/step - loss: 1.9480 - accuracy: 0.5037\n"
     ]
    },
    {
     "data": {
      "text/plain": [
       "[1.9479806423187256, 0.5037272572517395]"
      ]
     },
     "execution_count": 6,
     "metadata": {},
     "output_type": "execute_result"
    }
   ],
   "source": [
    "# Evaluate model on training data\n",
    "model.evaluate(X_train, y_train)"
   ]
  },
  {
   "cell_type": "code",
   "execution_count": 7,
   "metadata": {},
   "outputs": [
    {
     "name": "stdout",
     "output_type": "stream",
     "text": [
      "157/157 [==============================] - 0s 2ms/step - loss: 1.9454 - accuracy: 0.5076\n"
     ]
    },
    {
     "data": {
      "text/plain": [
       "[1.945406436920166, 0.5076000094413757]"
      ]
     },
     "execution_count": 7,
     "metadata": {},
     "output_type": "execute_result"
    }
   ],
   "source": [
    "# Evaluate model on validation data\n",
    "model.evaluate(X_valid, y_valid)\n"
   ]
  },
  {
   "cell_type": "markdown",
   "metadata": {},
   "source": [
    "## Use Dropout Layers\n",
    "\n",
    "Another technique to avoid overfitting is to use dropout layers. The layer takes as input the dropout rate, i.e. the probability of a neuron being dropped out at each training step. This is another hyperparameter you can control."
   ]
  },
  {
   "cell_type": "code",
   "execution_count": 8,
   "metadata": {},
   "outputs": [],
   "source": [
    "# Dropout rate hyperparameter\n",
    "dprate = 0.2\n",
    "\n",
    "# Create model\n",
    "model = tf.keras.Sequential([\n",
    "    tf.keras.layers.Flatten(input_shape=[28, 28]),\n",
    "    tf.keras.layers.Dropout(rate=dprate),\n",
    "    tf.keras.layers.Dense(300, activation=\"relu\"),\n",
    "    tf.keras.layers.Dropout(rate=dprate),\n",
    "    tf.keras.layers.Dense(100, activation=\"relu\"),\n",
    "    tf.keras.layers.Dropout(rate=dprate),\n",
    "    tf.keras.layers.Dense(10, activation=\"softmax\")\n",
    "])"
   ]
  },
  {
   "cell_type": "code",
   "execution_count": 9,
   "metadata": {},
   "outputs": [
    {
     "name": "stdout",
     "output_type": "stream",
     "text": [
      "Epoch 1/30\n",
      "1719/1719 [==============================] - 5s 3ms/step - loss: 0.9110 - accuracy: 0.6800 - val_loss: 0.5593 - val_accuracy: 0.8012\n",
      "Epoch 2/30\n",
      "1719/1719 [==============================] - 4s 2ms/step - loss: 0.6269 - accuracy: 0.7784 - val_loss: 0.4872 - val_accuracy: 0.8264\n",
      "Epoch 3/30\n",
      "1719/1719 [==============================] - 4s 2ms/step - loss: 0.5602 - accuracy: 0.8007 - val_loss: 0.4502 - val_accuracy: 0.8370\n",
      "Epoch 4/30\n",
      "1719/1719 [==============================] - 4s 2ms/step - loss: 0.5255 - accuracy: 0.8131 - val_loss: 0.4337 - val_accuracy: 0.8380\n",
      "Epoch 5/30\n",
      "1719/1719 [==============================] - 4s 2ms/step - loss: 0.4994 - accuracy: 0.8201 - val_loss: 0.4179 - val_accuracy: 0.8450\n",
      "Epoch 6/30\n",
      "1719/1719 [==============================] - 4s 2ms/step - loss: 0.4861 - accuracy: 0.8265 - val_loss: 0.4109 - val_accuracy: 0.8482\n",
      "Epoch 7/30\n",
      "1719/1719 [==============================] - 4s 2ms/step - loss: 0.4679 - accuracy: 0.8309 - val_loss: 0.3963 - val_accuracy: 0.8518\n",
      "Epoch 8/30\n",
      "1719/1719 [==============================] - 4s 2ms/step - loss: 0.4577 - accuracy: 0.8343 - val_loss: 0.3844 - val_accuracy: 0.8548\n",
      "Epoch 9/30\n",
      "1719/1719 [==============================] - 4s 2ms/step - loss: 0.4479 - accuracy: 0.8385 - val_loss: 0.3767 - val_accuracy: 0.8580\n",
      "Epoch 10/30\n",
      "1719/1719 [==============================] - 4s 2ms/step - loss: 0.4367 - accuracy: 0.8428 - val_loss: 0.3776 - val_accuracy: 0.8610\n",
      "Epoch 11/30\n",
      "1719/1719 [==============================] - 4s 2ms/step - loss: 0.4297 - accuracy: 0.8436 - val_loss: 0.3716 - val_accuracy: 0.8590\n",
      "Epoch 12/30\n",
      "1719/1719 [==============================] - 4s 2ms/step - loss: 0.4255 - accuracy: 0.8459 - val_loss: 0.3698 - val_accuracy: 0.8666\n",
      "Epoch 13/30\n",
      "1719/1719 [==============================] - 4s 2ms/step - loss: 0.4146 - accuracy: 0.8490 - val_loss: 0.3625 - val_accuracy: 0.8664\n",
      "Epoch 14/30\n",
      "1719/1719 [==============================] - 4s 2ms/step - loss: 0.4111 - accuracy: 0.8509 - val_loss: 0.3532 - val_accuracy: 0.8706\n",
      "Epoch 15/30\n",
      "1719/1719 [==============================] - 4s 2ms/step - loss: 0.4069 - accuracy: 0.8514 - val_loss: 0.3547 - val_accuracy: 0.8716\n",
      "Epoch 16/30\n",
      "1719/1719 [==============================] - 4s 2ms/step - loss: 0.4020 - accuracy: 0.8547 - val_loss: 0.3496 - val_accuracy: 0.8702\n",
      "Epoch 17/30\n",
      "1719/1719 [==============================] - 4s 2ms/step - loss: 0.3977 - accuracy: 0.8533 - val_loss: 0.3480 - val_accuracy: 0.8716\n",
      "Epoch 18/30\n",
      "1719/1719 [==============================] - 4s 2ms/step - loss: 0.3903 - accuracy: 0.8567 - val_loss: 0.3455 - val_accuracy: 0.8748\n",
      "Epoch 19/30\n",
      "1719/1719 [==============================] - 5s 3ms/step - loss: 0.3873 - accuracy: 0.8592 - val_loss: 0.3400 - val_accuracy: 0.8720\n",
      "Epoch 20/30\n",
      "1719/1719 [==============================] - 4s 3ms/step - loss: 0.3870 - accuracy: 0.8588 - val_loss: 0.3391 - val_accuracy: 0.8706\n",
      "Epoch 21/30\n",
      "1719/1719 [==============================] - 5s 3ms/step - loss: 0.3809 - accuracy: 0.8614 - val_loss: 0.3353 - val_accuracy: 0.8738\n",
      "Epoch 22/30\n",
      "1719/1719 [==============================] - 4s 2ms/step - loss: 0.3768 - accuracy: 0.8623 - val_loss: 0.3331 - val_accuracy: 0.8768\n",
      "Epoch 23/30\n",
      "1719/1719 [==============================] - 4s 2ms/step - loss: 0.3752 - accuracy: 0.8641 - val_loss: 0.3313 - val_accuracy: 0.8748\n",
      "Epoch 24/30\n",
      "1719/1719 [==============================] - 4s 3ms/step - loss: 0.3705 - accuracy: 0.8632 - val_loss: 0.3368 - val_accuracy: 0.8794\n",
      "Epoch 25/30\n",
      "1719/1719 [==============================] - 4s 2ms/step - loss: 0.3689 - accuracy: 0.8660 - val_loss: 0.3264 - val_accuracy: 0.8792\n",
      "Epoch 26/30\n",
      "1719/1719 [==============================] - 4s 2ms/step - loss: 0.3648 - accuracy: 0.8670 - val_loss: 0.3276 - val_accuracy: 0.8782\n",
      "Epoch 27/30\n",
      "1719/1719 [==============================] - 4s 2ms/step - loss: 0.3609 - accuracy: 0.8668 - val_loss: 0.3279 - val_accuracy: 0.8766\n",
      "Epoch 28/30\n",
      "1719/1719 [==============================] - 4s 2ms/step - loss: 0.3616 - accuracy: 0.8659 - val_loss: 0.3218 - val_accuracy: 0.8794\n",
      "Epoch 29/30\n",
      "1719/1719 [==============================] - 4s 2ms/step - loss: 0.3612 - accuracy: 0.8677 - val_loss: 0.3175 - val_accuracy: 0.8796\n",
      "Epoch 30/30\n",
      "1719/1719 [==============================] - 4s 2ms/step - loss: 0.3542 - accuracy: 0.8698 - val_loss: 0.3219 - val_accuracy: 0.8786\n"
     ]
    }
   ],
   "source": [
    "# Create optimiser object\n",
    "optimizer = tf.keras.optimizers.SGD(learning_rate=0.01)\n",
    "\n",
    "# Compile model\n",
    "model.compile(loss=\"sparse_categorical_crossentropy\", optimizer=optimizer,\n",
    "              metrics=[\"accuracy\"])\n",
    "\n",
    "# Train model\n",
    "history = model.fit(X_train, y_train, epochs=30,\n",
    "                    validation_data=(X_valid, y_valid))"
   ]
  },
  {
   "cell_type": "code",
   "execution_count": 10,
   "metadata": {},
   "outputs": [
    {
     "name": "stdout",
     "output_type": "stream",
     "text": [
      "1719/1719 [==============================] - 2s 1ms/step - loss: 0.2904 - accuracy: 0.8932\n"
     ]
    },
    {
     "data": {
      "text/plain": [
       "[0.290418416261673, 0.8931999802589417]"
      ]
     },
     "execution_count": 10,
     "metadata": {},
     "output_type": "execute_result"
    }
   ],
   "source": [
    "# Evaluate on training data\n",
    "model.evaluate(X_train, y_train)"
   ]
  },
  {
   "cell_type": "code",
   "execution_count": 11,
   "metadata": {},
   "outputs": [
    {
     "name": "stdout",
     "output_type": "stream",
     "text": [
      "157/157 [==============================] - 0s 1ms/step - loss: 0.3219 - accuracy: 0.8786\n"
     ]
    },
    {
     "data": {
      "text/plain": [
       "[0.3219159245491028, 0.878600001335144]"
      ]
     },
     "execution_count": 11,
     "metadata": {},
     "output_type": "execute_result"
    }
   ],
   "source": [
    "# Evaluate on validation data\n",
    "model.evaluate(X_valid, y_valid)"
   ]
  }
 ],
 "metadata": {
  "kernelspec": {
   "display_name": "base",
   "language": "python",
   "name": "python3"
  },
  "language_info": {
   "codemirror_mode": {
    "name": "ipython",
    "version": 3
   },
   "file_extension": ".py",
   "mimetype": "text/x-python",
   "name": "python",
   "nbconvert_exporter": "python",
   "pygments_lexer": "ipython3",
   "version": "3.10.9"
  }
 },
 "nbformat": 4,
 "nbformat_minor": 2
}
