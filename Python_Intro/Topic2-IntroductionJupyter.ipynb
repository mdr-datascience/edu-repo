{
 "cells": [
  {
   "cell_type": "markdown",
   "metadata": {},
   "source": [
    "# Introducing Jupyter Notebooks\n",
    "Jupyter Notebook is an \"open-source web application that allows you to create and share documents that contain live code, equations, visualizations and narrative text\" ( http://jupyter.org/ ). Jupyter notebooks are really useful for scientists because they make \"data analysis easier to record, understand and reproduce\" as explained in this [Nature Article: *Interactive notebooks: Sharing the code*](http://doi.org/10.1038/515151a). Note that the article discusses Juypter Notebooks using their original name \"IPython Notebooks\". Some researchers here use Jupyter Notebook in  research, for instance including \n",
    "[a notebook](https://doi.org/10.1107/S2059798318002541/ba5278sup3.html) as part of a [Research Paper](https://doi.org/10.1107/S2059798318002541) or our [Module Textbook](https://github.com/jakevdp/PythonDataScienceHandbook/tree/master/notebooks). \n",
    "\n",
    "This document is itself a *Jupyter notebook* and it consists of:\n",
    "\n",
    "* text cells (like the one you are reading now)\n",
    "* and code cells (like the next cell) that contain Python code.\n",
    "\n",
    "We should be working with this document in a web browser (like Chrome, Internet Explorer, Safari), using \n",
    "either the \n",
    "[Azure Notebooks](https://notebooks.azure.com) \n",
    "service, \n",
    "[Google Colab](https://colab.research.google.com/)\n",
    "or a local \n",
    "[Jupyter Notebook](http://jupyter.org/) \n",
    "installation using [Anaconda Installation](https://www.anaconda.com/distribution/), so that we can run the Python code and edit the code in cells."
   ]
  },
  {
   "cell_type": "markdown",
   "metadata": {},
   "source": [
    "## Editing Text cells\n",
    "\n",
    "There are ways of inserting Headings, images, links, Quotes etc. into the text cells also mostly used as 'Markdown cells'. \n",
    "\n",
    "### This is a third level heading\n",
    "\n",
    "```\n",
    "\"TODO Sentence is shown as a quotation.\"\n",
    "```\n",
    "*Make the Sentence Italic with single astericks.*\n",
    "**Make the Sentence bold with 2-3 astericks.**\n",
    "\n",
    "Image and link insertion examples can be seen in the other text cells in this notebook. All the fancy editing can be done using HTML tags similar to a standard rich text editor.\n"
   ]
  },
  {
   "cell_type": "markdown",
   "metadata": {
    "collapsed": true
   },
   "source": [
    "## Running Python code cells\n",
    "\n",
    "In Jupyter/Azure Notebook To run a code cell either click on the Run cell button in the menu above: \n",
    "\n",
    "![Jupyter Notebook Run Button >|](https://aru-bioinf-ibds.github.io./images/run_button.png)\n",
    "\n",
    "or you can use the `Shift` + `Enter` keyboard short cut.  In Google Colab the run button is on the left of the code cell.\n",
    "\n",
    "\n",
    "The code in the next cell prints `Hello World` the traditional first step in learning any Programming Language. \n",
    "\n",
    "**Instruction:** Run the cell below by clicking on the cell to select it and then hitting the run button."
   ]
  },
  {
   "cell_type": "code",
   "execution_count": null,
   "metadata": {
    "scrolled": true
   },
   "outputs": [],
   "source": [
    "# Instruction: run this cell!\n",
    "print('Hello world')"
   ]
  },
  {
   "cell_type": "code",
   "execution_count": null,
   "metadata": {},
   "outputs": [],
   "source": [
    "print(\"HI\")\n"
   ]
  },
  {
   "cell_type": "code",
   "execution_count": null,
   "metadata": {},
   "outputs": [],
   "source": [
    "print(In[1])"
   ]
  },
  {
   "cell_type": "markdown",
   "metadata": {},
   "source": [
    "This should print out `Hello world`."
   ]
  },
  {
   "cell_type": "markdown",
   "metadata": {},
   "source": [
    "## Editing Python code cells\n",
    "\n",
    "We have started with the traditonal first thing you do when trying out any new computer programming language printing `Hello world`. Now lets do the traditional second thing and `Hello your_name`.\n",
    "\n",
    "Jupyter Notebooks are interactive so you can edit the code in them.\n",
    "\n",
    "Try this in the next cell by clicking on it and altering the text in the print() statement"
   ]
  },
  {
   "cell_type": "code",
   "execution_count": null,
   "metadata": {},
   "outputs": [],
   "source": [
    "# Instruction: first run this cell then edit it to \n",
    "#              print your name instead of ????\n",
    "print('My name is ????')"
   ]
  },
  {
   "cell_type": "markdown",
   "metadata": {
    "collapsed": true
   },
   "source": [
    "Try writing some python code in the next code cell.\n",
    "\n",
    "**Instruction:** Add python code to print out the name of your favourite species in the next code cell and run it using the `Shift` + `Enter` keyboard short cut. "
   ]
  },
  {
   "cell_type": "code",
   "execution_count": null,
   "metadata": {},
   "outputs": [],
   "source": []
  },
  {
   "cell_type": "markdown",
   "metadata": {},
   "source": [
    "The \"In[]\" and \"Out[]\" tags that you see next to Python cells are the iPython list variables that store these iPython code or outputs. These won't be available in a standard Python script. One could access any previously stored value in this list using particular index. Don't worry about these details. You can learn a lot more about Jupyter in case interested from the recommended textbook. The basic functionalities needed for this module will be introduced whenever required. "
   ]
  },
  {
   "cell_type": "markdown",
   "metadata": {},
   "source": [
    "## Saving your work\n",
    "\n",
    "As you work through the work book it is important to regularly save your work. Notice that as you have made changes the jupyter window top line will warn you there are `(unsaved changes)` in small text.\n",
    "\n",
    "**Instruction:** Save your work in this notebook by either selecting menu item `File` `Save` or by hitting the save button:\n",
    "\n",
    "![Jupyter Notebook Save Button|](https://aru-bioinf-ibds.github.io./images/save_button.png)\n",
    "\n",
    "You should notice the `(unsaved changes)` message disappears from the top of the window."
   ]
  },
  {
   "cell_type": "markdown",
   "metadata": {
    "collapsed": true
   },
   "source": [
    "# Looking at what can be done with Python and Jupyter notebooks\n",
    "\n",
    "Now lets have a look at the kind of things can be done with Python. Do not worry about understanding any of the code! The idea is to show that Python can be used for some interesting stuff."
   ]
  },
  {
   "cell_type": "markdown",
   "metadata": {},
   "source": [
    "<hr>\n",
    "\n",
    "### Interactive quiz\n",
    "\n",
    "* run the cell below. It will prompt you for answers at the bottom of the cell"
   ]
  },
  {
   "cell_type": "code",
   "execution_count": null,
   "metadata": {},
   "outputs": [],
   "source": [
    "# This is a little interactive quiz\n",
    "correct = 'rhino'\n",
    "clues = ['It is grey.', 'It has a horn.', 'It is never seen in Cambridge',\n",
    "         'There are five species White, Black, Javan, Sumatran and Indian',\n",
    "         'Name starts with \"R\"', 'Name ends with \"O\"',\n",
    "         'Was the subject of a famous print by Albrecht Dürer']\n",
    "while(clues):\n",
    "    answer = input(\"What animal is Anglia Ruskin's mascot?> \")\n",
    "    answer = answer.lower()\n",
    "    if answer == correct:\n",
    "        print('Well done!', correct.capitalize(), 'is the correct answer.')\n",
    "        break;\n",
    "    else:\n",
    "        clue = clues.pop(0) # remove the first clue\n",
    "        print('Wrong! Here is a clue: \"' + clue + '\". Try again!')\n",
    "if not clues:\n",
    "    print('Sorry GAME OVER to many trys!')\n",
    "    print('The answer is', correct.upper() + '!')\n"
   ]
  },
  {
   "cell_type": "markdown",
   "metadata": {},
   "source": [
    "<hr>\n",
    "\n",
    "### Python to display an image from the web in Jupyter Notebook\n",
    "\n",
    "* Make sure that you have completed the interactive quiz in the previous cell - if it is still running the next cell will wait.\n",
    "* run the next cell - It will display a famous picture of a Rhino by Albrecht Dürer, see https://en.wikipedia.org/wiki/D%C3%BCrer%27s_Rhinoceros"
   ]
  },
  {
   "cell_type": "code",
   "execution_count": null,
   "metadata": {},
   "outputs": [],
   "source": [
    "# you can get images from the web in Python and display them\n",
    "from IPython.display import Image\n",
    "from IPython.core.display import HTML\n",
    "durer_rhino_url = 'https://upload.wikimedia.org/wikipedia/commons/thumb/b/bc/' \\\n",
    "                  'The_Rhinoceros_%28NGA_1964.8.697%29_enhanced.png/' \\\n",
    "                  '304px-The_Rhinoceros_%28NGA_1964.8.697%29_enhanced.png'\n",
    "Image(url= durer_rhino_url)\n",
    "\n"
   ]
  },
  {
   "cell_type": "markdown",
   "metadata": {},
   "source": [
    "## Try: Editing and Saving a Jupyter Notebook.\n",
    "Now create a new Jupyter notebook. Add some Markdown cells to add some contents to it. \n",
    "Can you add a few lines of ipython code? \n",
    "\n",
    "Try adding the following to an iPython cell. \n",
    "print(\"Hello! I am happy to start working with Jupyter!\")\n"
   ]
  },
  {
   "cell_type": "markdown",
   "metadata": {},
   "source": [
    "### A little Python gift\n",
    "\n",
    "What happens when you import the module *this*?"
   ]
  },
  {
   "cell_type": "code",
   "execution_count": null,
   "metadata": {},
   "outputs": [],
   "source": [
    "import this"
   ]
  }
 ],
 "metadata": {
  "kernelspec": {
   "display_name": "base",
   "language": "python",
   "name": "python3"
  },
  "language_info": {
   "codemirror_mode": {
    "name": "ipython",
    "version": 3
   },
   "file_extension": ".py",
   "mimetype": "text/x-python",
   "name": "python",
   "nbconvert_exporter": "python",
   "pygments_lexer": "ipython3",
   "version": "3.10.9"
  }
 },
 "nbformat": 4,
 "nbformat_minor": 2
}
