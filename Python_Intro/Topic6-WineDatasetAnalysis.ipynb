{
 "cells": [
  {
   "cell_type": "markdown",
   "id": "3356eb1c",
   "metadata": {},
   "source": [
    "# Wine Dataset Analysis"
   ]
  },
  {
   "cell_type": "markdown",
   "id": "7f182123",
   "metadata": {},
   "source": [
    "## 1. Analyse the Red Wine Quality Data"
   ]
  },
  {
   "cell_type": "code",
   "execution_count": 13,
   "id": "e6924883",
   "metadata": {},
   "outputs": [],
   "source": [
    "# Start by importing numpy\n",
    "import numpy as np"
   ]
  },
  {
   "cell_type": "code",
   "execution_count": 14,
   "id": "9a94f72d",
   "metadata": {},
   "outputs": [
    {
     "data": {
      "text/plain": [
       "array([[1.000e+00, 7.400e+00, 7.000e-01, ..., 5.600e-01, 9.400e+00,\n",
       "        5.000e+00],\n",
       "       [2.000e+00, 7.800e+00, 8.800e-01, ..., 6.800e-01, 9.800e+00,\n",
       "        5.000e+00],\n",
       "       [3.000e+00, 7.800e+00, 7.600e-01, ..., 6.500e-01, 9.800e+00,\n",
       "        5.000e+00],\n",
       "       ...,\n",
       "       [1.597e+03, 6.300e+00, 5.100e-01, ..., 7.500e-01, 1.100e+01,\n",
       "        6.000e+00],\n",
       "       [1.598e+03, 5.900e+00, 6.450e-01, ..., 7.100e-01, 1.020e+01,\n",
       "        5.000e+00],\n",
       "       [1.599e+03, 6.000e+00, 3.100e-01, ..., 6.600e-01, 1.100e+01,\n",
       "        6.000e+00]])"
      ]
     },
     "execution_count": 14,
     "metadata": {},
     "output_type": "execute_result"
    }
   ],
   "source": [
    "# Load the wineQuelityReds.csv file into a numpy array!\n",
    "warr = np.genfromtxt('Topic6-wineQualityReds.csv',skip_header=1,delimiter=',')\n",
    "warr"
   ]
  },
  {
   "cell_type": "code",
   "execution_count": 15,
   "id": "0d673c97",
   "metadata": {},
   "outputs": [],
   "source": [
    "# what datatype is this numpy array?"
   ]
  },
  {
   "cell_type": "code",
   "execution_count": null,
   "id": "b4264fd7",
   "metadata": {},
   "outputs": [],
   "source": [
    "# How many data points and features does this data contain?\n",
    "#\n",
    "# Solution: (1599, 13)"
   ]
  },
  {
   "cell_type": "code",
   "execution_count": null,
   "id": "91b4a68e",
   "metadata": {},
   "outputs": [],
   "source": [
    "# What are the features available? Create another array of feature names.\n",
    "#\n",
    "# Solution: array(['', 'fixed.acidity', 'volatile.acidity', 'citric.acid',\n",
    "#'residual.sugar', 'chlorides', 'free.sulfur.dioxide',\n",
    "#'total.sulfur.dioxide', 'density',"
   ]
  },
  {
   "cell_type": "code",
   "execution_count": null,
   "id": "c218d9cd",
   "metadata": {},
   "outputs": [],
   "source": [
    "# Find the wine ids as integer\n",
    "#\n",
    "# Solution: array([ 1, 2, 3, ..., 1597, 1598, 1599])"
   ]
  },
  {
   "cell_type": "code",
   "execution_count": 19,
   "id": "e72a8c92",
   "metadata": {},
   "outputs": [],
   "source": [
    "# Convert the whole array into integer datatype using astype()"
   ]
  },
  {
   "cell_type": "code",
   "execution_count": 20,
   "id": "bdb91418",
   "metadata": {},
   "outputs": [],
   "source": [
    "# Double the sugar contents of the wines."
   ]
  },
  {
   "cell_type": "code",
   "execution_count": 21,
   "id": "c55bec49",
   "metadata": {},
   "outputs": [],
   "source": [
    "# Find the combined acidity of the wines."
   ]
  },
  {
   "cell_type": "code",
   "execution_count": 22,
   "id": "6afa0999",
   "metadata": {},
   "outputs": [],
   "source": [
    "# Pick a wine that maximizes alcohol content and quality\n",
    "# (we want to get drunk, but were classy).\n",
    "# multiply alcohol by quality, and select the wine with the highest score:"
   ]
  },
  {
   "cell_type": "code",
   "execution_count": 23,
   "id": "82c0a07f",
   "metadata": {},
   "outputs": [],
   "source": [
    "# Find the maximum acidity of wines."
   ]
  },
  {
   "cell_type": "code",
   "execution_count": 24,
   "id": "d74e8841",
   "metadata": {},
   "outputs": [],
   "source": [
    "# Find the minimum quality of wines."
   ]
  },
  {
   "cell_type": "code",
   "execution_count": null,
   "id": "6b28238b",
   "metadata": {},
   "outputs": [],
   "source": [
    "# Find the average value of each feature."
   ]
  },
  {
   "cell_type": "code",
   "execution_count": null,
   "id": "a7ace38f",
   "metadata": {},
   "outputs": [],
   "source": [
    "# Find the std of each feature."
   ]
  },
  {
   "cell_type": "code",
   "execution_count": null,
   "id": "05919111",
   "metadata": {},
   "outputs": [],
   "source": [
    "# Find the range of chloride content.\n",
    "# Reset the chloride contents to the max value for all the wines."
   ]
  },
  {
   "cell_type": "code",
   "execution_count": null,
   "id": "e1ba39b5",
   "metadata": {},
   "outputs": [],
   "source": [
    "# Find the best quality wines which have quality over 7."
   ]
  },
  {
   "cell_type": "code",
   "execution_count": null,
   "id": "46b1b0b0",
   "metadata": {},
   "outputs": [],
   "source": [
    "# Select the rows in the data that have this quality"
   ]
  },
  {
   "cell_type": "code",
   "execution_count": null,
   "id": "1560bb64",
   "metadata": {},
   "outputs": [],
   "source": [
    "# Find for wines with a lot of alcohol (more than 10) and high quality."
   ]
  }
 ],
 "metadata": {
  "kernelspec": {
   "display_name": "base",
   "language": "python",
   "name": "python3"
  },
  "language_info": {
   "codemirror_mode": {
    "name": "ipython",
    "version": 3
   },
   "file_extension": ".py",
   "mimetype": "text/x-python",
   "name": "python",
   "nbconvert_exporter": "python",
   "pygments_lexer": "ipython3",
   "version": "3.10.9"
  }
 },
 "nbformat": 4,
 "nbformat_minor": 5
}
