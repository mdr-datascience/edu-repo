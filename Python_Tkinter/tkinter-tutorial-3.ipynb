{
 "cells": [
  {
   "cell_type": "markdown",
   "metadata": {},
   "source": [
    "# Tutorial 3 \n",
    "Example showing how to add functionality to a widget that does not have the *command* property. In this case, we have a single window, *root*, with a *Canvas* widget. The example demonstrates how to add the functionality of whenever the user clicks the mouse over the canvas, Python will print the coordinates of the mouse location."
   ]
  },
  {
   "cell_type": "code",
   "execution_count": 2,
   "metadata": {},
   "outputs": [
    {
     "name": "stdout",
     "output_type": "stream",
     "text": [
      "x coord:208\n",
      "y coord:120\n",
      "x coord:208\n",
      "y coord:120\n",
      "x coord:210\n",
      "y coord:125\n",
      "x coord:130\n",
      "y coord:74\n",
      "x coord:246\n",
      "y coord:77\n",
      "x coord:265\n",
      "y coord:171\n",
      "x coord:121\n",
      "y coord:175\n",
      "x coord:71\n",
      "y coord:86\n",
      "x coord:135\n",
      "y coord:140\n",
      "x coord:315\n",
      "y coord:182\n",
      "x coord:294\n",
      "y coord:101\n",
      "x coord:112\n",
      "y coord:198\n",
      "x coord:114\n",
      "y coord:157\n"
     ]
    }
   ],
   "source": [
    "# Import Tkinter functions\n",
    "from tkinter import *\n",
    "\n",
    "# Create main window\n",
    "root = Tk()\n",
    "\n",
    "# Create function to print coordinates \n",
    "# (e is the object with the information from the event)\n",
    "def mouse_press(e):\n",
    "    print(f\"x coord:{e.x}\")\n",
    "    print(f\"y coord:{e.y}\")\n",
    "\n",
    "# Create a Canvas widget\n",
    "canvas = Canvas(root)\n",
    "\n",
    "# Place widget on the main window\n",
    "canvas.pack()\n",
    "\n",
    "# Bind the event of clicking the mouse (<ButtonPress> event) with the mouse_press function defined above \n",
    "# which contains the functionality associated with the event\n",
    "canvas.bind('<ButtonPress>', mouse_press)\n",
    "\n",
    "# Run GUI\n",
    "root.mainloop()"
   ]
  },
  {
   "cell_type": "markdown",
   "metadata": {},
   "source": [
    "<img src=\"images/Image12.PNG\" alt=\"Output of previous cell\" width=150 />"
   ]
  }
 ],
 "metadata": {
  "kernelspec": {
   "display_name": "base",
   "language": "python",
   "name": "python3"
  },
  "language_info": {
   "codemirror_mode": {
    "name": "ipython",
    "version": 3
   },
   "file_extension": ".py",
   "mimetype": "text/x-python",
   "name": "python",
   "nbconvert_exporter": "python",
   "pygments_lexer": "ipython3",
   "version": "3.10.9"
  }
 },
 "nbformat": 4,
 "nbformat_minor": 2
}
