{
 "cells": [
  {
   "cell_type": "markdown",
   "metadata": {},
   "source": [
    "# Tutorial 2 \n",
    "Let's build a simple application that plots a Gaussian (Normal) distribution with some input from the user.\n",
    "We can start by re-using the code from the previous tutorial to build a simple GUI with a single Label for now."
   ]
  },
  {
   "cell_type": "code",
   "execution_count": 10,
   "metadata": {},
   "outputs": [],
   "source": [
    "from tkinter import Tk, Label\n",
    "\n",
    "# Organise your GUI code by creating a class\n",
    "class PlotNormalGUI:\n",
    "    def __init__(self, main):\n",
    "\n",
    "        # Main window\n",
    "        self.main = main\n",
    "        \n",
    "        # Add Label widget (displays text)\n",
    "        self.label = Label(main, text = \"Normal Distribution\")\n",
    "        self.label.pack()\n",
    "\n",
    "# Create the top-level window using Tk()\n",
    "root = Tk()\n",
    "my_gui = PlotNormalGUI(root)\n",
    "root.mainloop()"
   ]
  },
  {
   "cell_type": "markdown",
   "metadata": {},
   "source": [
    "<img src=\"images/Image6.PNG\" alt=\"Output of previous cell\" />"
   ]
  },
  {
   "cell_type": "markdown",
   "metadata": {},
   "source": [
    "Now let's add widgets, one for the user to choose the *n* (number of points), and two for the the mean and the standard deviation, respectively, of the distribution.\n",
    "Starting by adding the spin box to choose *n*. Spinbox is a widget that receives information from the user. We can create a variable object, in this case StringVar(), to store that information. We then use the method .get() to retrieve the information from the widget."
   ]
  },
  {
   "cell_type": "code",
   "execution_count": 11,
   "metadata": {},
   "outputs": [],
   "source": [
    "# Import more functionality from the Tkinter module\n",
    "from tkinter import *\n",
    "\n",
    "class PlotNormalGUI:\n",
    "    def __init__(self, main):\n",
    "\n",
    "        self.main = main\n",
    "        \n",
    "        self.label = Label(main, text = \"Normal Distribution\")\n",
    "        self.label.pack()\n",
    "\n",
    "        # Add Spinbox to choose the number of observations in the distribution \n",
    "        # (the property from_ has an underscore because from is a protected name in Python)\n",
    "        points = StringVar()\n",
    "        self.spinbox = Spinbox(main, from_= 1, to = 1000, textvariable = points)\n",
    "        self.spinbox.pack()\n",
    "\n",
    "root = Tk()\n",
    "my_gui = PlotNormalGUI(root)\n",
    "root.mainloop()"
   ]
  },
  {
   "cell_type": "markdown",
   "metadata": {},
   "source": [
    "<img src=\"images/Image7.PNG\" alt=\"Output of previous cell\" />"
   ]
  },
  {
   "cell_type": "markdown",
   "metadata": {},
   "source": [
    "Let's continue adding the other widgets. Now changing from the pack() geometry management method to the grid() geometry method in order to arrange the widgets in a two-dimensional table. Entry widgets can be used to allow the user to enter a single line of text (in our case the mean and standard deviation of the distribution)."
   ]
  },
  {
   "cell_type": "code",
   "execution_count": 90,
   "metadata": {},
   "outputs": [],
   "source": [
    "from tkinter import *\n",
    "\n",
    "class PlotNormalGUI:\n",
    "    def __init__(self, main):\n",
    "\n",
    "        self.main = main\n",
    "        \n",
    "        # Change from pack to grid method \n",
    "        self.label_title = Label(main, text=\"Normal Distribution\")\n",
    "        self.label_title.grid(row = 0, column = 0, columnspan = 2)\n",
    "\n",
    "        # Add Label widget for n\n",
    "        self.label_n = Label(main, text = \"Number of observation, n\")\n",
    "        self.label_n.grid(row = 1, column = 0)\n",
    "\n",
    "        # Add Spinbox to choose the number of observations in the distribution, n \n",
    "        points = StringVar()\n",
    "        self.spinbox = Spinbox(main, from_= 1, to = 1000, textvariable = points)\n",
    "        self.spinbox.grid(row = 2, column = 0)\n",
    "\n",
    "        # Add Button for the user to press to display the distribution\n",
    "        self.button = Button(main, text = \"Plot Normal Distribution\")\n",
    "        self.button.grid(row = 2, column = 1)\n",
    "\n",
    "        # Add Label widget for the mean\n",
    "        self.label_mean = Label(main, text = \"Mean\")\n",
    "        self.label_mean.grid(row = 3, column = 0)\n",
    "        \n",
    "        # Add Entry to input value for the mean\n",
    "        self.entry_mean = Entry(main)\n",
    "        self.entry_mean.grid(row = 4, column = 0)\n",
    "\n",
    "        # Add Label widget for the standard distribution\n",
    "        self.label_std = Label(main, text = \"Standard deviation\")\n",
    "        self.label_std.grid(row = 3, column = 1)\n",
    "\n",
    "        # Add Entry to input value for the standard deviation\n",
    "        self.entry_std = Entry(main)\n",
    "        self.entry_std.grid(row = 4, column = 1)\n",
    "\n",
    "root = Tk()\n",
    "my_gui = PlotNormalGUI(root)\n",
    "root.mainloop()"
   ]
  },
  {
   "cell_type": "markdown",
   "metadata": {},
   "source": [
    "<img src=\"images/Image8.PNG\" alt=\"Output of previous cell\" width = 300 />"
   ]
  },
  {
   "cell_type": "markdown",
   "metadata": {},
   "source": [
    "We have a lot of widgets in a single window. It might be good to organise them using an organisational widget called Frame. Frames allow one to group different widgets together. We can use one placement management method for the frames, and inside each frame we can use a different placement method. In this example, we will add two frames, one for all the entry boxes and buttons, and one for the plot. The frames are going to be placed using the pack() method, whilst inside the first frame we will use the grid() method to organise the widgets."
   ]
  },
  {
   "cell_type": "code",
   "execution_count": 2,
   "metadata": {},
   "outputs": [],
   "source": [
    "# Import ttk to create Frames\n",
    "from tkinter import *\n",
    "from tkinter import ttk\n",
    "import numpy as np\n",
    "import matplotlib.pyplot as plt\n",
    "\n",
    "class PlotNormalGUI:\n",
    "    def __init__(self, main):\n",
    "\n",
    "        self.main = main\n",
    "\n",
    "        # Create first Frame to group all the widgets together\n",
    "        # Use the pack method to place Frame in the main Window\n",
    "        self.frame_menu = ttk.Frame(main)\n",
    "        self.frame_menu.config(padding = (20,10))\n",
    "        self.frame_menu.pack()\n",
    "        \n",
    "        self.label_title = Label(self.frame_menu, text=\"Normal Distribution\")\n",
    "        self.label_title.grid(row = 0, column = 0, columnspan = 2)\n",
    "\n",
    "        self.label_n = Label(self.frame_menu, text = \"Number of observation, n\")\n",
    "        self.label_n.grid(row = 1, column = 0)\n",
    "\n",
    "        points = StringVar()\n",
    "        self.spinbox = Spinbox(self.frame_menu, from_= 1, to = 1000, textvariable = points)\n",
    "        self.spinbox.grid(row = 2, column = 0)\n",
    "\n",
    "        self.button = Button(self.frame_menu, text = \"Plot Normal Distribution\")\n",
    "        self.button.grid(row = 2, column = 1)\n",
    "\n",
    "        self.label_mean = Label(self.frame_menu, text = \"Mean\")\n",
    "        self.label_mean.grid(row = 3, column = 0)\n",
    "        \n",
    "        self.entry_mean = Entry(self.frame_menu)\n",
    "        self.entry_mean.grid(row = 4, column = 0)\n",
    "\n",
    "        self.label_std = Label(self.frame_menu, text = \"Standard deviation\")\n",
    "        self.label_std.grid(row = 3, column = 1)\n",
    "\n",
    "        self.entry_std= Entry(self.frame_menu)\n",
    "        self.entry_std.grid(row = 4, column = 1)\n",
    "\n",
    "        # Create second Frame to display the plot\n",
    "        # Use the pack method to place Frame in the main Window\n",
    "        # Without the plot this Frame will not show\n",
    "        self.frame_plot = ttk.Frame(main)\n",
    "        self.frame_plot.config(padding=(2,10))\n",
    "        self.frame_plot.pack()\n",
    "\n",
    "root = Tk()\n",
    "my_gui = PlotNormalGUI(root)\n",
    "root.mainloop()"
   ]
  },
  {
   "cell_type": "markdown",
   "metadata": {},
   "source": [
    "<img src=\"images/Image9.PNG\" alt=\"Output of previous cell\" width = 300 />"
   ]
  },
  {
   "cell_type": "markdown",
   "metadata": {},
   "source": [
    "Before we add the actual functionality to the widgets, let's define a utility function to create the plot we would like to show."
   ]
  },
  {
   "cell_type": "code",
   "execution_count": 101,
   "metadata": {},
   "outputs": [
    {
     "data": {
      "image/png": "[encoded data removed]",
      "text/plain": [
       "<Figure size 640x480 with 1 Axes>"
      ]
     },
     "metadata": {},
     "output_type": "display_data"
    }
   ],
   "source": [
    "import numpy as np\n",
    "import matplotlib.pyplot as plt\n",
    "\n",
    "# Utility function to plot histogram of random numbers\n",
    "def plot_distribution(input_mean, input_std, input_n):\n",
    "\n",
    "    # Generate random numbers using mean, standard deviation and number of points\n",
    "    x = np.random.normal(input_mean, input_std, input_n)\n",
    "\n",
    "    # Create bins for histogram\n",
    "    x_low = x.min()\n",
    "    x_high = x.max()\n",
    "    bins = np.arange(x_low, x_high, 0.1)\n",
    "\n",
    "    # Create histogram \n",
    "    f, ax = plt.subplots()\n",
    "    ax.clear()\n",
    "    ax.hist(x, bins)\n",
    "    ax.set_xlim(x_low, x_high)\n",
    "\n",
    "# Plot example distribution\n",
    "input_mean = 0.6\n",
    "input_std = 10\n",
    "input_n = 10000\n",
    "plot_distribution(input_mean, input_std, input_n)"
   ]
  },
  {
   "cell_type": "code",
   "execution_count": null,
   "metadata": {},
   "outputs": [],
   "source": [
    "# Add additional modules needed for plotting\n",
    "from tkinter import *\n",
    "from tkinter import ttk\n",
    "import numpy as np\n",
    "import matplotlib.pyplot as plt\n",
    "from matplotlib.backends.backend_tkagg import FigureCanvasTkAgg\n",
    "\n",
    "class PlotNormalGUI:\n",
    "    def __init__(self, main):\n",
    "\n",
    "        self.main = main\n",
    "\n",
    "        self.frame_menu = ttk.Frame(main)\n",
    "        self.frame_menu.config(padding = (20,10))\n",
    "        self.frame_menu.pack()\n",
    "        \n",
    "        # Format title font\n",
    "        self.label_title = Label(self.frame_menu, text=\"Normal Distribution\", font = (\"Arial\", 18))\n",
    "        self.label_title.grid(row = 0, column = 0, columnspan = 2)\n",
    "\n",
    "        self.label_n = Label(self.frame_menu, text = \"Number of observation, n\")\n",
    "        self.label_n.grid(row = 1, column = 0)\n",
    "\n",
    "        points = StringVar()\n",
    "        self.spinbox = Spinbox(self.frame_menu, from_= 1, to = 1000, textvariable = points)\n",
    "        self.spinbox.grid(row = 2, column = 0)\n",
    "\n",
    "        # Add functionality to the button using the command property,\n",
    "        # instructing the button to call the function plot_dist\n",
    "        self.button = Button(self.frame_menu, text = \"Plot Normal Distribution\", command = self.plot_dist)\n",
    "        self.button.grid(row = 2, column = 1)\n",
    "\n",
    "        self.label_mean = Label(self.frame_menu, text = \"Mean\")\n",
    "        self.label_mean.grid(row = 3, column = 0)\n",
    "        \n",
    "        self.entry_mean = Entry(self.frame_menu)\n",
    "        self.entry_mean.grid(row = 4, column = 0)\n",
    "\n",
    "        self.label_std = Label(self.frame_menu, text = \"Standard deviation\")\n",
    "        self.label_std.grid(row = 3, column = 1)\n",
    "\n",
    "        self.entry_std= Entry(self.frame_menu)\n",
    "        self.entry_std.grid(row = 4, column = 1)\n",
    "\n",
    "        self.frame_plot = ttk.Frame(main)\n",
    "        self.frame_plot.config(padding=(2,10))\n",
    "        self.frame_plot.pack()\n",
    "\n",
    "        # Figure\n",
    "        f, ax = plt.subplots(figsize=(4,2))\n",
    "        ax.axis('off')\n",
    "        self.a = ax\n",
    "        self.canvas = FigureCanvasTkAgg(f, self.frame_plot)\n",
    "        self.canvas.draw()\n",
    "        self.canvas._tkcanvas.pack()\n",
    "\n",
    "    # Add plotting method that we defined in the previous cell\n",
    "    def plot_dist(self):\n",
    "\n",
    "        # Read values from Entry boxes and spinbox\n",
    "        self.input_mean = self.entry_mean.get()\n",
    "        self.input_std = self.entry_std.get()\n",
    "        self.input_n = self.spinbox.get()\n",
    "        \n",
    "        # Generate random numbers using mean, standard deviation and number of points\n",
    "        x = np.random.normal(float(self.input_mean), float(self.input_std), int(self.input_n))\n",
    "\n",
    "        # Create bins for histogram\n",
    "        x_low = x.min()\n",
    "        x_high = x.max()\n",
    "        bins = np.arange(x_low, x_high, 0.1)\n",
    "\n",
    "        # Create histogram \n",
    "        self.a.clear()\n",
    "        self.a.hist(x, bins)\n",
    "        self.a.set_xlim(x_low, x_high)\n",
    "        self.a.axis('on')\n",
    "        self.canvas.draw()\n",
    "\n",
    "root = Tk()\n",
    "my_gui = PlotNormalGUI(root)\n",
    "root.mainloop()"
   ]
  },
  {
   "cell_type": "markdown",
   "metadata": {},
   "source": [
    "<img src=\"images/Image11.PNG\" alt=\"Output of previous cell\" width = 400 />"
   ]
  }
 ],
 "metadata": {
  "kernelspec": {
   "display_name": "base",
   "language": "python",
   "name": "python3"
  },
  "language_info": {
   "codemirror_mode": {
    "name": "ipython",
    "version": 3
   },
   "file_extension": ".py",
   "mimetype": "text/x-python",
   "name": "python",
   "nbconvert_exporter": "python",
   "pygments_lexer": "ipython3",
   "version": "3.10.9"
  }
 },
 "nbformat": 4,
 "nbformat_minor": 2
}
