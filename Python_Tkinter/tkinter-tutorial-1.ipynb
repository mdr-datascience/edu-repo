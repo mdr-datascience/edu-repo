{
 "cells": [
  {
   "cell_type": "markdown",
   "metadata": {},
   "source": [
    "# Tutorial 1\n",
    "In this tutorial we will create our first widgets. Let's start with a simple GUI with some display text (Label widget) and a single button (Button). Below is an example of how to write code for this simple window. Add other widgets to this window and explore their properties."
   ]
  },
  {
   "cell_type": "code",
   "execution_count": 1,
   "metadata": {},
   "outputs": [],
   "source": [
    "from tkinter import Tk, Label, Button\n",
    "\n",
    "# Organise your GUI code by creating a class\n",
    "class MyFirstGUI:\n",
    "    def __init__(self, main):\n",
    "\n",
    "        # Main window title and properties\n",
    "        self.main = main\n",
    "        main.title('My first GUI')\n",
    "        \n",
    "        # Add Label widget (displays text)\n",
    "        self.label = Label(main, text=\"Welcome to my first GUI!\")\n",
    "        self.label.pack()\n",
    "\n",
    "        # Add Button widget (clickable)\n",
    "        self.hello_button = Button(main, text=\"Hello\")\n",
    "        self.hello_button.pack()\n",
    "\n",
    "        # Add your own widget, for exammple another Label or Button here \n",
    "        # (place them using the pack() method)\n",
    "\n",
    "# Create the top-level window using Tk()\n",
    "root = Tk()\n",
    "my_gui = MyFirstGUI(root)\n",
    "root.mainloop()"
   ]
  },
  {
   "cell_type": "markdown",
   "metadata": {},
   "source": [
    "<img src=\"images/Image1.PNG\" alt=\"Output of previous cell\" />"
   ]
  },
  {
   "cell_type": "markdown",
   "metadata": {},
   "source": [
    "Let's modify the above code to use the *grid()* geometry management method instead of *pack()*. "
   ]
  },
  {
   "cell_type": "code",
   "execution_count": 2,
   "metadata": {},
   "outputs": [],
   "source": [
    "class MyFirstGUI:\n",
    "    def __init__(self, main):\n",
    "\n",
    "        self.main = main\n",
    "        main.title('My first GUI')\n",
    "        \n",
    "        self.label = Label(main, text=\"Welcome to my first GUI!\")\n",
    "        # Change from the pack() to the grid() method of widget placement\n",
    "        self.label.grid(row = 0, column = 0, columnspan = 1)\n",
    "\n",
    "        self.hello_button = Button(main, text=\"Hello\")\n",
    "        # Change from the pack() to the grid() method of widget placement\n",
    "        self.hello_button.grid(row = 1, column = 0, columnspan = 1)\n",
    "\n",
    "root = Tk()\n",
    "my_gui = MyFirstGUI(root)\n",
    "root.mainloop()"
   ]
  },
  {
   "cell_type": "markdown",
   "metadata": {},
   "source": [
    "<img src=\"images/Image1.PNG\" alt=\"Output of previous cell\" />"
   ]
  },
  {
   "cell_type": "markdown",
   "metadata": {},
   "source": [
    "No let's make the GUI interactive. The following code creates a similar window with a welcome message but two buttons. Depending on which button is pressed the window will display the welcome message in the language associated with the button. Explore the code to understand how the button widget knows what to do when the user presses the button. How it handles the user event."
   ]
  },
  {
   "cell_type": "code",
   "execution_count": 1,
   "metadata": {},
   "outputs": [],
   "source": [
    "from tkinter import *\n",
    "from tkinter import ttk \n",
    "\n",
    "class MyFirstGUI:\n",
    "    def __init__(self, main):\n",
    "        \n",
    "        self.label = Label(main, text = \"Welcome!\")\n",
    "        self.label.grid(row = 0, column = 0, columnspan = 2)\n",
    "\n",
    "        # Add first button\n",
    "        ttk.Button(main, text = \"French\",\n",
    "                            command = self.french_hello).grid(row = 1, column = 0)\n",
    "        \n",
    "        # Add second button\n",
    "        ttk.Button(main, text = \"Spanish\", \n",
    "                            command = self.spanish_hello).grid(row = 1, column = 1)\n",
    "        \n",
    "    # Methods to change the text of the Label widget\n",
    "    def french_hello(self):\n",
    "        self.label.config(text = 'Bienvenue!')\n",
    "\n",
    "    def spanish_hello(self):\n",
    "        self.label.config(text = 'Bienvenido!')\n",
    "\n",
    "root = Tk()\n",
    "my_gui = MyFirstGUI(root)\n",
    "root.mainloop()"
   ]
  },
  {
   "cell_type": "markdown",
   "metadata": {},
   "source": [
    "<img src=\"images/Image2.PNG\" alt=\"Output of previous cell\" width = 120/>\n",
    "<img src=\"images/Image4.PNG\" alt=\"Output of previous cell\" width = 120/>\n",
    "<img src=\"images/Image5.PNG\" alt=\"Output of previous cell\" width = 120/>"
   ]
  },
  {
   "cell_type": "markdown",
   "metadata": {},
   "source": [
    "This tutorial finishes with an example of how to add an image and text to the Label widget. The following code is not organised using classes to simplify the example."
   ]
  },
  {
   "cell_type": "code",
   "execution_count": 4,
   "metadata": {},
   "outputs": [],
   "source": [
    "# Imported modules including PIL (image manipulation module)\n",
    "from tkinter import *\n",
    "from tkinter import ttk \n",
    "from PIL import ImageTk, Image\n",
    "\n",
    "# Initialise new window\n",
    "root = Tk()\n",
    "\n",
    "# Create new image object and resize\n",
    "logo = Image.open(\"python-logo.jfif\")\n",
    "logo_resize = logo.resize((100, 100))\n",
    "logo = ImageTk.PhotoImage(logo_resize)\n",
    "    \n",
    "# Add Label widget using pack() method to position it in the main window    \n",
    "label = ttk.Label(root, text = 'Welcome to Python')\n",
    "label.pack()\n",
    "\n",
    "# Add image to Label widget using .config(), use compound to show both image and text (image on the left)\n",
    "label.config(image = logo, compound = 'left')\n",
    "\n",
    "# Generate window\n",
    "root.mainloop()"
   ]
  },
  {
   "cell_type": "markdown",
   "metadata": {},
   "source": [
    "<img src=\"images/Image3.PNG\" alt=\"Output of previous cell\" width = 200/>"
   ]
  },
  {
   "cell_type": "markdown",
   "metadata": {},
   "source": []
  }
 ],
 "metadata": {
  "kernelspec": {
   "display_name": "base",
   "language": "python",
   "name": "python3"
  },
  "language_info": {
   "codemirror_mode": {
    "name": "ipython",
    "version": 3
   },
   "file_extension": ".py",
   "mimetype": "text/x-python",
   "name": "python",
   "nbconvert_exporter": "python",
   "pygments_lexer": "ipython3",
   "version": "3.10.9"
  }
 },
 "nbformat": 4,
 "nbformat_minor": 2
}
