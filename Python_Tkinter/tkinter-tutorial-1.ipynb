{
 "cells": [
  {
   "cell_type": "markdown",
   "metadata": {},
   "source": [
    "# Tutorial 1\n",
    "In this tutorial we will create our first widgets. Let's start with a simple GUI with some display text and a single button. Below is an example of how to write the code for this simple window. Add other widgets to this window and explore their properties."
   ]
  },
  {
   "cell_type": "code",
   "execution_count": 7,
   "metadata": {},
   "outputs": [],
   "source": [
    "from tkinter import Tk, Label, Button\n",
    "\n",
    "# Organise your GUI code by creating a class\n",
    "class MyFirstGUI:\n",
    "    def __init__(self, main):\n",
    "\n",
    "        # Main window title and properties\n",
    "        self.main = main\n",
    "        main.title('My first GUI')\n",
    "        \n",
    "        # Add Label widget (displays text)\n",
    "        self.label = Label(main, text=\"Welcome to my first GUI!\")\n",
    "        self.label.pack()\n",
    "\n",
    "        # Add Button widget (clickable)\n",
    "        self.hello_button = Button(main, text=\"Hello\")\n",
    "        self.hello_button.pack()\n",
    "\n",
    "        # Add your own widget here (place them using the pack() method)\n",
    "\n",
    "# Create the top-level window using Tk()\n",
    "root = Tk()\n",
    "my_gui = MyFirstGUI(root)\n",
    "root.mainloop()"
   ]
  }
 ],
 "metadata": {
  "kernelspec": {
   "display_name": "base",
   "language": "python",
   "name": "python3"
  },
  "language_info": {
   "codemirror_mode": {
    "name": "ipython",
    "version": 3
   },
   "file_extension": ".py",
   "mimetype": "text/x-python",
   "name": "python",
   "nbconvert_exporter": "python",
   "pygments_lexer": "ipython3",
   "version": "3.10.9"
  },
  "orig_nbformat": 4
 },
 "nbformat": 4,
 "nbformat_minor": 2
}
