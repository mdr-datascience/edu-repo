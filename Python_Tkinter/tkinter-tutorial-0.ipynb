{
 "cells": [
  {
   "cell_type": "code",
   "execution_count": null,
   "metadata": {},
   "outputs": [],
   "source": [
    "# Check that Tkinter is installed\n",
    "# If no error is returned, all is good\n",
    "import tkinter\n",
    "import _tkinter\n",
    "\n",
    "# Run test routine\n",
    "tkinter._test()"
   ]
  }
 ],
 "metadata": {
  "language_info": {
   "name": "python"
  },
  "orig_nbformat": 4
 },
 "nbformat": 4,
 "nbformat_minor": 2
}
