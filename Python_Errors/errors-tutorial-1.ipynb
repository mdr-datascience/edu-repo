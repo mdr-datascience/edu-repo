{
 "cells": [
  {
   "cell_type": "markdown",
   "metadata": {},
   "source": [
    "# Tutorial 1\n",
    "\n",
    "In this tutorial we are going to practice handling errors with the *try/except* block. We will also practice how to raise Exceptions and use the debugging functionality in Python.\n",
    "\n",
    "## try/except block\n",
    "\n",
    "Let's create a new function that calculates the mean of a list of numbers by first converting them into integers and use the try/except functionality."
   ]
  },
  {
   "cell_type": "code",
   "execution_count": 3,
   "metadata": {},
   "outputs": [],
   "source": [
    "# Function that calculates the mean of integers in a list\n",
    "def myMean(x):\n",
    "    try:      \n",
    "        l = len(x)\n",
    "        x = [int(i) for i in x]\n",
    "        m = sum(x)\n",
    "        print(m/l)\n",
    "    except TypeError:\n",
    "        print(\"Oops! x was not a valid list. Try again...\")\n",
    "    except ValueError:\n",
    "        print(\"Oops! Can not convert x to integers. Try again...\")\n",
    "    except:\n",
    "        print(\"Unexpected error\")"
   ]
  },
  {
   "cell_type": "markdown",
   "metadata": {},
   "source": [
    "Let's start by calling the function *myMean* correctly."
   ]
  },
  {
   "cell_type": "code",
   "execution_count": 4,
   "metadata": {},
   "outputs": [
    {
     "name": "stdout",
     "output_type": "stream",
     "text": [
      "1.0\n"
     ]
    }
   ],
   "source": [
    "myMean(['1','1'])"
   ]
  },
  {
   "cell_type": "markdown",
   "metadata": {},
   "source": [
    "<font color='red'>**TO DO:** Try calling *myMean()* function correctly a few more times.</font>"
   ]
  },
  {
   "cell_type": "markdown",
   "metadata": {},
   "source": [
    "Now let's trigger the exceptions in the function. Starting with the TypeError, for example:"
   ]
  },
  {
   "cell_type": "code",
   "execution_count": 5,
   "metadata": {},
   "outputs": [
    {
     "name": "stdout",
     "output_type": "stream",
     "text": [
      "Oops! x was not a valid list. Try again...\n"
     ]
    }
   ],
   "source": [
    "myMean(print)"
   ]
  },
  {
   "cell_type": "markdown",
   "metadata": {},
   "source": [
    "<font color='red'>**TO DO:** Try passing some incorrect inputs to *myMean()* function to trigger the second exception, the ValueError. Hint: maybe a list of objects that cannot be converted into integers.</font>"
   ]
  },
  {
   "cell_type": "code",
   "execution_count": 13,
   "metadata": {},
   "outputs": [
    {
     "name": "stdout",
     "output_type": "stream",
     "text": [
      "Oops! x was not a valid list. Try again...\n"
     ]
    }
   ],
   "source": [
    "# Your code here"
   ]
  },
  {
   "cell_type": "markdown",
   "metadata": {},
   "source": [
    "<font color='red'>**TO DO:** Can you think of a way to trigger the final exception?</font>"
   ]
  },
  {
   "cell_type": "code",
   "execution_count": 4,
   "metadata": {},
   "outputs": [
    {
     "name": "stdout",
     "output_type": "stream",
     "text": [
      "Unexpected error\n"
     ]
    }
   ],
   "source": [
    "# Your code here"
   ]
  },
  {
   "cell_type": "markdown",
   "metadata": {},
   "source": [
    "<font color='red'>**TO DO:** Now define your own function with a try/except block of code and multiple exceptions. For example, try raising a ZeroDivisionError.</font>"
   ]
  },
  {
   "cell_type": "markdown",
   "metadata": {},
   "source": [
    "## raise Exception"
   ]
  },
  {
   "cell_type": "markdown",
   "metadata": {},
   "source": [
    "The following function raises an exception when the value of x is smaller than 10."
   ]
  },
  {
   "cell_type": "code",
   "execution_count": 1,
   "metadata": {},
   "outputs": [
    {
     "name": "stdout",
     "output_type": "stream",
     "text": [
      "10\n"
     ]
    }
   ],
   "source": [
    "def myFunction(x):\n",
    "    if x < 10:\n",
    "        raise(Exception('Input should not be smaller than 10!'))\n",
    "    print(x)\n",
    "    \n",
    "myFunction(10)"
   ]
  },
  {
   "cell_type": "code",
   "execution_count": 2,
   "metadata": {},
   "outputs": [
    {
     "ename": "Exception",
     "evalue": "Input should not be smaller than 10!",
     "output_type": "error",
     "traceback": [
      "\u001b[1;31m---------------------------------------------------------------------------\u001b[0m",
      "\u001b[1;31mException\u001b[0m                                 Traceback (most recent call last)",
      "\u001b[1;32mc:\\Users\\md82\\OneDrive - Anglia Ruskin University\\Documents\\Python_code\\edu-repo\\Python_Errors\\errors-tutorial-1.ipynb Cell 16\u001b[0m line \u001b[0;36m1\n\u001b[1;32m----> <a href='vscode-notebook-cell:/c%3A/Users/md82/OneDrive%20-%20Anglia%20Ruskin%20University/Documents/Python_code/edu-repo/Python_Errors/errors-tutorial-1.ipynb#X36sZmlsZQ%3D%3D?line=0'>1</a>\u001b[0m myFunction(\u001b[39m5\u001b[39;49m)\n",
      "\u001b[1;32mc:\\Users\\md82\\OneDrive - Anglia Ruskin University\\Documents\\Python_code\\edu-repo\\Python_Errors\\errors-tutorial-1.ipynb Cell 16\u001b[0m line \u001b[0;36m3\n\u001b[0;32m      <a href='vscode-notebook-cell:/c%3A/Users/md82/OneDrive%20-%20Anglia%20Ruskin%20University/Documents/Python_code/edu-repo/Python_Errors/errors-tutorial-1.ipynb#X36sZmlsZQ%3D%3D?line=0'>1</a>\u001b[0m \u001b[39mdef\u001b[39;00m \u001b[39mmyFunction\u001b[39m(x):\n\u001b[0;32m      <a href='vscode-notebook-cell:/c%3A/Users/md82/OneDrive%20-%20Anglia%20Ruskin%20University/Documents/Python_code/edu-repo/Python_Errors/errors-tutorial-1.ipynb#X36sZmlsZQ%3D%3D?line=1'>2</a>\u001b[0m     \u001b[39mif\u001b[39;00m x \u001b[39m<\u001b[39m \u001b[39m10\u001b[39m:\n\u001b[1;32m----> <a href='vscode-notebook-cell:/c%3A/Users/md82/OneDrive%20-%20Anglia%20Ruskin%20University/Documents/Python_code/edu-repo/Python_Errors/errors-tutorial-1.ipynb#X36sZmlsZQ%3D%3D?line=2'>3</a>\u001b[0m         \u001b[39mraise\u001b[39;00m(\u001b[39mException\u001b[39;00m(\u001b[39m'\u001b[39m\u001b[39mInput should not be smaller than 10!\u001b[39m\u001b[39m'\u001b[39m))\n\u001b[0;32m      <a href='vscode-notebook-cell:/c%3A/Users/md82/OneDrive%20-%20Anglia%20Ruskin%20University/Documents/Python_code/edu-repo/Python_Errors/errors-tutorial-1.ipynb#X36sZmlsZQ%3D%3D?line=3'>4</a>\u001b[0m     \u001b[39mprint\u001b[39m(x)\n",
      "\u001b[1;31mException\u001b[0m: Input should not be smaller than 10!"
     ]
    }
   ],
   "source": [
    "myFunction(5)"
   ]
  },
  {
   "cell_type": "markdown",
   "metadata": {},
   "source": [
    "<font color='red'>**TO DO:** Now define your own function that raises an exception if a certain condition is met. Can you think of a more interesting condition that the one in the example?</font>"
   ]
  },
  {
   "cell_type": "code",
   "execution_count": 21,
   "metadata": {},
   "outputs": [],
   "source": [
    "# Your code here"
   ]
  },
  {
   "cell_type": "markdown",
   "metadata": {},
   "source": [
    "## Debugging\n",
    "\n",
    "Use the following function to practice using the debbuging functionality in Python. The function *add_number_last* first adds a few numbers 1000 + 2000 + 3000 + 4000 + 5000 and then adds x to the total and returns this sum."
   ]
  },
  {
   "cell_type": "code",
   "execution_count": 6,
   "metadata": {},
   "outputs": [
    {
     "data": {
      "text/plain": [
       "15001"
      ]
     },
     "execution_count": 6,
     "metadata": {},
     "output_type": "execute_result"
    }
   ],
   "source": [
    "def add_number_last(x):\n",
    "    \n",
    "    a = 1000\n",
    "    a += 2000\n",
    "    a += 3000\n",
    "    a += 4000\n",
    "    a += 5000\n",
    "    a += x\n",
    "    \n",
    "    return a\n",
    "\n",
    "add_number_last(1)"
   ]
  },
  {
   "cell_type": "markdown",
   "metadata": {},
   "source": [
    "If we call the function using a str instead of a number we get an error as expected:"
   ]
  },
  {
   "cell_type": "code",
   "execution_count": 7,
   "metadata": {},
   "outputs": [
    {
     "ename": "TypeError",
     "evalue": "unsupported operand type(s) for +=: 'int' and 'str'",
     "output_type": "error",
     "traceback": [
      "\u001b[1;31m---------------------------------------------------------------------------\u001b[0m",
      "\u001b[1;31mTypeError\u001b[0m                                 Traceback (most recent call last)",
      "\u001b[1;32mc:\\Users\\md82\\OneDrive - Anglia Ruskin University\\Documents\\Python_code\\edu-repo\\Python_Errors\\errors-tutorial-1.ipynb Cell 21\u001b[0m line \u001b[0;36m1\n\u001b[1;32m----> <a href='vscode-notebook-cell:/c%3A/Users/md82/OneDrive%20-%20Anglia%20Ruskin%20University/Documents/Python_code/edu-repo/Python_Errors/errors-tutorial-1.ipynb#X44sZmlsZQ%3D%3D?line=0'>1</a>\u001b[0m add_number_last(\u001b[39m'\u001b[39;49m\u001b[39m10\u001b[39;49m\u001b[39m'\u001b[39;49m)\n",
      "\u001b[1;32mc:\\Users\\md82\\OneDrive - Anglia Ruskin University\\Documents\\Python_code\\edu-repo\\Python_Errors\\errors-tutorial-1.ipynb Cell 21\u001b[0m line \u001b[0;36m8\n\u001b[0;32m      <a href='vscode-notebook-cell:/c%3A/Users/md82/OneDrive%20-%20Anglia%20Ruskin%20University/Documents/Python_code/edu-repo/Python_Errors/errors-tutorial-1.ipynb#X44sZmlsZQ%3D%3D?line=5'>6</a>\u001b[0m a \u001b[39m+\u001b[39m\u001b[39m=\u001b[39m \u001b[39m4000\u001b[39m\n\u001b[0;32m      <a href='vscode-notebook-cell:/c%3A/Users/md82/OneDrive%20-%20Anglia%20Ruskin%20University/Documents/Python_code/edu-repo/Python_Errors/errors-tutorial-1.ipynb#X44sZmlsZQ%3D%3D?line=6'>7</a>\u001b[0m a \u001b[39m+\u001b[39m\u001b[39m=\u001b[39m \u001b[39m5000\u001b[39m\n\u001b[1;32m----> <a href='vscode-notebook-cell:/c%3A/Users/md82/OneDrive%20-%20Anglia%20Ruskin%20University/Documents/Python_code/edu-repo/Python_Errors/errors-tutorial-1.ipynb#X44sZmlsZQ%3D%3D?line=7'>8</a>\u001b[0m a \u001b[39m+\u001b[39m\u001b[39m=\u001b[39m x\n\u001b[0;32m     <a href='vscode-notebook-cell:/c%3A/Users/md82/OneDrive%20-%20Anglia%20Ruskin%20University/Documents/Python_code/edu-repo/Python_Errors/errors-tutorial-1.ipynb#X44sZmlsZQ%3D%3D?line=9'>10</a>\u001b[0m \u001b[39mreturn\u001b[39;00m a\n",
      "\u001b[1;31mTypeError\u001b[0m: unsupported operand type(s) for +=: 'int' and 'str'"
     ]
    }
   ],
   "source": [
    "add_number_last('10')"
   ]
  },
  {
   "cell_type": "markdown",
   "metadata": {},
   "source": [
    "Let's use the debugging module to step through the function to understand where the error comes from. First import the *pdb* module, and then add a breakpoint to where you would like to start tracing your code. For example:"
   ]
  },
  {
   "cell_type": "code",
   "execution_count": 1,
   "metadata": {},
   "outputs": [],
   "source": [
    "# Import debugging module\n",
    "import pdb\n",
    "\n",
    "def add_number_last(x):\n",
    "    \n",
    "    a = 1000\n",
    "\n",
    "    # add a breakpoint here for example\n",
    "    pdb.set_trace()\n",
    "\n",
    "    a += 2000\n",
    "    a += 3000\n",
    "    a += 4000\n",
    "    a += 5000\n",
    "    a += x\n",
    "    \n",
    "    return a"
   ]
  },
  {
   "cell_type": "markdown",
   "metadata": {},
   "source": [
    "Now if you call the function again, the code will stop running when it reaches the breakpoint and it will launch the debugger from there. You can then use commands from the debugger to interactively find problems with your code. One common thing to do is to run the code line by line to understand what each line is doing until you reach the error. Use the command *p* followed by the variable name to see the output of a variable. For example, *p a* will show the value of *a* at that point in the code. Use the command *n* to jump to the next line of code. Type *p a* again to see if the value of *a* has changed. Continue with *n* to the next line. The command *c* will continue running the rest of the code. For more information on the available pdb commands type *h* or check the online documentation: https://docs.python.org/3/library/pdb.html"
   ]
  },
  {
   "cell_type": "markdown",
   "metadata": {},
   "source": [
    "<font color='red'>**TO DO:** Run the following cell of code that activates the breakpoint in the previous function. Then use the instructions above to run through the code line by line and print the value of *a* each time (i.e. 'p a' and 'n'). If the debugger is quite slow try copying the code to a new .py file and then either run it interactively using VS Code or open IPython to run it. The debugger seems to work faster outside of Jupyter Notebook. To stop the debugger try Escape or simply Interrupt and Restart the Python kernel.</font>"
   ]
  },
  {
   "cell_type": "code",
   "execution_count": 2,
   "metadata": {},
   "outputs": [
    {
     "name": "stdout",
     "output_type": "stream",
     "text": [
      "> \u001b[1;32mc:\\users\\md82\\appdata\\local\\temp\\ipykernel_5764\\1956356420.py\u001b[0m(11)\u001b[0;36madd_number_last\u001b[1;34m()\u001b[0m\n",
      "\n",
      "1000\n",
      "1000\n",
      "> \u001b[1;32mc:\\users\\md82\\appdata\\local\\temp\\ipykernel_5764\\1956356420.py\u001b[0m(12)\u001b[0;36madd_number_last\u001b[1;34m()\u001b[0m\n",
      "\n",
      "> \u001b[1;32mc:\\users\\md82\\appdata\\local\\temp\\ipykernel_5764\\1956356420.py\u001b[0m(13)\u001b[0;36madd_number_last\u001b[1;34m()\u001b[0m\n",
      "\n",
      "6000\n",
      "6000\n",
      "> \u001b[1;32mc:\\users\\md82\\appdata\\local\\temp\\ipykernel_5764\\1956356420.py\u001b[0m(14)\u001b[0;36madd_number_last\u001b[1;34m()\u001b[0m\n",
      "\n",
      "> \u001b[1;32mc:\\users\\md82\\appdata\\local\\temp\\ipykernel_5764\\1956356420.py\u001b[0m(15)\u001b[0;36madd_number_last\u001b[1;34m()\u001b[0m\n",
      "\n",
      "> \u001b[1;32mc:\\users\\md82\\appdata\\local\\temp\\ipykernel_5764\\1956356420.py\u001b[0m(17)\u001b[0;36madd_number_last\u001b[1;34m()\u001b[0m\n",
      "\n",
      "15100\n",
      "15100\n",
      "--Return--\n",
      "15100\n",
      "> \u001b[1;32mc:\\users\\md82\\appdata\\local\\temp\\ipykernel_5764\\1956356420.py\u001b[0m(17)\u001b[0;36madd_number_last\u001b[1;34m()\u001b[0m\n",
      "\n"
     ]
    },
    {
     "data": {
      "text/plain": [
       "15100"
      ]
     },
     "execution_count": 2,
     "metadata": {},
     "output_type": "execute_result"
    }
   ],
   "source": [
    "add_number_last(100)"
   ]
  }
 ],
 "metadata": {
  "kernelspec": {
   "display_name": "Python 3 (ipykernel)",
   "language": "python",
   "name": "python3"
  },
  "language_info": {
   "codemirror_mode": {
    "name": "ipython",
    "version": 3
   },
   "file_extension": ".py",
   "mimetype": "text/x-python",
   "name": "python",
   "nbconvert_exporter": "python",
   "pygments_lexer": "ipython3",
   "version": "3.10.9"
  }
 },
 "nbformat": 4,
 "nbformat_minor": 2
}
