{
 "cells": [
  {
   "cell_type": "markdown",
   "metadata": {},
   "source": [
    "# Testing with PySpark\n",
    "\n",
    "More information:\n",
    "\n",
    "https://spark.apache.org/docs/latest/api/python/getting_started/testing_pyspark.html\n"
   ]
  },
  {
   "cell_type": "markdown",
   "metadata": {
    "vscode": {
     "languageId": "plaintext"
    }
   },
   "source": [
    "## Build simple PySpark application"
   ]
  },
  {
   "cell_type": "code",
   "execution_count": null,
   "metadata": {},
   "outputs": [],
   "source": [
    "!pip install pyspark==3.5.1"
   ]
  },
  {
   "cell_type": "code",
   "execution_count": null,
   "metadata": {},
   "outputs": [],
   "source": [
    "from pyspark.sql import SparkSession\n",
    "from pyspark.sql.functions import col\n",
    "\n",
    "# Create a SparkSession\n",
    "spark = SparkSession.builder.appName(\"Testing PySpark Example\").getOrCreate()"
   ]
  },
  {
   "cell_type": "code",
   "execution_count": null,
   "metadata": {},
   "outputs": [],
   "source": [
    "sample_data = [{\"name\": \"John    D.\", \"age\": 30},\n",
    "  {\"name\": \"Alice   G.\", \"age\": 25},\n",
    "  {\"name\": \"Bob  T.\", \"age\": 35},\n",
    "  {\"name\": \"Eve   A.\", \"age\": 28}]\n",
    "\n",
    "df = spark.createDataFrame(sample_data)"
   ]
  },
  {
   "cell_type": "code",
   "execution_count": null,
   "metadata": {},
   "outputs": [],
   "source": [
    "from pyspark.sql.functions import col, regexp_replace\n",
    "\n",
    "# Remove additional spaces in name\n",
    "def remove_extra_spaces(df, column_name):\n",
    "    # Remove extra spaces from the specified column\n",
    "    df_transformed = df.withColumn(column_name, regexp_replace(col(column_name), \"\\\\s+\", \" \"))\n",
    "\n",
    "    return df_transformed\n",
    "\n",
    "transformed_df = remove_extra_spaces(df, \"name\")\n",
    "\n",
    "transformed_df.show()"
   ]
  },
  {
   "cell_type": "markdown",
   "metadata": {},
   "source": [
    "## Test using PySpark functions"
   ]
  },
  {
   "cell_type": "markdown",
   "metadata": {},
   "source": [
    "### assertDataFrameEqual"
   ]
  },
  {
   "cell_type": "code",
   "execution_count": null,
   "metadata": {},
   "outputs": [],
   "source": [
    "import pyspark.testing\n",
    "from pyspark.testing.utils import assertDataFrameEqual\n",
    "\n",
    "# Example 1\n",
    "df1 = spark.createDataFrame(data=[(\"1\", 1000), (\"2\", 3000)], schema=[\"id\", \"amount\"])\n",
    "df2 = spark.createDataFrame(data=[(\"1\", 1000), (\"2\", 3000)], schema=[\"id\", \"amount\"])\n",
    "assertDataFrameEqual(df1, df2)  # pass, DataFrames are identical"
   ]
  },
  {
   "cell_type": "markdown",
   "metadata": {},
   "source": [
    "TO DO: make above assertion fail (e.g. by changing the amount in one of the dataframes)."
   ]
  },
  {
   "cell_type": "code",
   "execution_count": null,
   "metadata": {},
   "outputs": [],
   "source": [
    "# Example 2\n",
    "df1 = spark.createDataFrame(data=[(\"1\", 0.1), (\"2\", 3.23)], schema=[\"id\", \"amount\"])\n",
    "df2 = spark.createDataFrame(data=[(\"1\", 0.109), (\"2\", 3.23)], schema=[\"id\", \"amount\"])\n",
    "assertDataFrameEqual(df1, df2, rtol=1e-1)  # pass, DataFrames are approx equal by rtol"
   ]
  },
  {
   "cell_type": "markdown",
   "metadata": {},
   "source": [
    "TO DO: make above assertion fail by changing the tolerance value not the dataframes."
   ]
  },
  {
   "cell_type": "markdown",
   "metadata": {},
   "source": [
    "### assertSchemaEqual"
   ]
  },
  {
   "cell_type": "code",
   "execution_count": null,
   "metadata": {},
   "outputs": [],
   "source": [
    "from pyspark.testing.utils import assertSchemaEqual\n",
    "from pyspark.sql.types import StructType, StructField, ArrayType, DoubleType\n",
    "\n",
    "s1 = StructType([StructField(\"names\", ArrayType(DoubleType(), True), True)])\n",
    "s2 = StructType([StructField(\"names\", ArrayType(DoubleType(), True), True)])\n",
    "\n",
    "assertSchemaEqual(s1, s2)  # pass, schemas are identical"
   ]
  },
  {
   "cell_type": "code",
   "execution_count": null,
   "metadata": {},
   "outputs": [],
   "source": [
    "schema_actual = \"name STRING, amount DOUBLE\"\n",
    "\n",
    "data_expected = [[\"Alfred\", 1500], [\"Alfred\", 2500], [\"Anna\", 500], [\"Anna\", 3000]]\n",
    "data_actual = [[\"Alfred\", 1500.0], [\"Alfred\", 2500.0], [\"Anna\", 500.0], [\"Anna\", 3000.0]]\n",
    "\n",
    "df_expected = spark.createDataFrame(data = data_expected)\n",
    "df_actual = spark.createDataFrame(data = data_actual, schema = schema_actual)\n",
    "\n",
    "assertSchemaEqual(df_actual.schema, df_expected.schema)"
   ]
  },
  {
   "cell_type": "markdown",
   "metadata": {},
   "source": [
    "### PySparkAssertionError"
   ]
  },
  {
   "cell_type": "code",
   "execution_count": null,
   "metadata": {},
   "outputs": [],
   "source": [
    "df_expected = spark.createDataFrame(data=[(\"Alfred\", 1500), (\"Alfred\", 2500), \n",
    "(\"Anna\", 500), (\"Anna\", 3000)], schema=[\"name\", \"amount\"])\n",
    "df_actual = spark.createDataFrame(data=[(\"Alfred\", 1200), (\"Alfred\", 2500), (\"Anna\", \n",
    "500), (\"Anna\", 3000)], schema=[\"name\", \"amount\"])"
   ]
  },
  {
   "cell_type": "code",
   "execution_count": null,
   "metadata": {},
   "outputs": [],
   "source": [
    "from pyspark.testing import assertDataFrameEqual\n",
    "from pyspark.errors import PySparkAssertionError\n",
    "\n",
    "try:\n",
    "    assertDataFrameEqual(df_actual, df_expected, includeDiffRows=True)\n",
    "except PySparkAssertionError as e:\n",
    "    # `e.data` here looks like:\n",
    "    # [(Row(name='Alfred', amount=1200), Row(name='Alfred', amount=1500))]\n",
    "    spark.createDataFrame(e.data, schema=[\"Actual\", \"Expected\"]).show() "
   ]
  },
  {
   "cell_type": "markdown",
   "metadata": {},
   "source": [
    "### Pandas API on Spark "
   ]
  },
  {
   "cell_type": "code",
   "execution_count": null,
   "metadata": {},
   "outputs": [],
   "source": [
    "from pyspark.pandas.testing import assert_frame_equal, assert_series_equal, assert_index_equal\n",
    "import pyspark.pandas as ps\n",
    "\n",
    "# Create two slightly different Pandas API on Spark DataFrames\n",
    "df1 = ps.DataFrame({\"a\": [1, 2, 3], \"b\": [4.0, 5.0, 6.0]})\n",
    "df2 = ps.DataFrame({\"a\": [1, 2, 3], \"b\": [4, 5, 6]})  # 'b' column as integers\n",
    "\n",
    "# Validate DataFrame equality with strict data type checking\n",
    "assert_frame_equal(df1, df2, check_dtype=True)"
   ]
  },
  {
   "cell_type": "code",
   "execution_count": null,
   "metadata": {},
   "outputs": [],
   "source": [
    "# DataFrames are equal with check_dtype=False\n",
    "assert_frame_equal(df1, df2, check_dtype=False)"
   ]
  },
  {
   "cell_type": "code",
   "execution_count": null,
   "metadata": {},
   "outputs": [],
   "source": [
    "import pandas as pd\n",
    "\n",
    "# Pandas DataFrame\n",
    "df_pandas = pd.DataFrame({\"a\": [1, 2, 3], \"b\": [4.0, 5.0, 6.0]})\n",
    "\n",
    "# Comparing Pandas API on Spark DataFrame with the Pandas DataFrame\n",
    "assert_frame_equal(df1, df_pandas)\n",
    "\n",
    "# Comparing Pandas API on Spark Series with the Pandas Series\n",
    "assert_series_equal(df1.a, df_pandas.a)\n",
    "\n",
    "# Comparing Pandas API on Spark Index with the Pandas Index\n",
    "assert_index_equal(df1.index, df_pandas.index)"
   ]
  },
  {
   "cell_type": "markdown",
   "metadata": {},
   "source": [
    "## PyTest\n",
    "\n",
    "To run the following code. Create test_*.py script. Run from the command line using pytest test_*.py."
   ]
  },
  {
   "cell_type": "code",
   "execution_count": null,
   "metadata": {},
   "outputs": [],
   "source": [
    "import pytest\n",
    "\n",
    "@pytest.fixture\n",
    "def spark_fixture():\n",
    "    spark = SparkSession.builder.appName(\"Testing PySpark Example\").getOrCreate()\n",
    "    yield spark\n",
    "\n",
    "from pyspark.testing.utils import assertDataFrameEqual\n",
    "\n",
    "def test_single_space(spark_fixture):\n",
    "    sample_data = [{\"name\": \"John    D.\", \"age\": 30},\n",
    "                   {\"name\": \"Alice   G.\", \"age\": 25},\n",
    "                   {\"name\": \"Bob  T.\", \"age\": 35},\n",
    "                   {\"name\": \"Eve   A.\", \"age\": 28}]\n",
    "\n",
    "    # Create a Spark DataFrame\n",
    "    original_df = spark.createDataFrame(sample_data)\n",
    "\n",
    "    # Apply the transformation function from before\n",
    "    transformed_df = remove_extra_spaces(original_df, \"name\")\n",
    "\n",
    "    expected_data = [{\"name\": \"John D.\", \"age\": 30},\n",
    "    {\"name\": \"Alice G.\", \"age\": 25},\n",
    "    {\"name\": \"Bob T.\", \"age\": 35},\n",
    "    {\"name\": \"Eve A.\", \"age\": 28}]\n",
    "\n",
    "    expected_df = spark.createDataFrame(expected_data)\n",
    "\n",
    "    assertDataFrameEqual(transformed_df, expected_df)\n"
   ]
  }
 ],
 "metadata": {
  "kernelspec": {
   "display_name": "base",
   "language": "python",
   "name": "python3"
  },
  "language_info": {
   "codemirror_mode": {
    "name": "ipython",
    "version": 3
   },
   "file_extension": ".py",
   "mimetype": "text/x-python",
   "name": "python",
   "nbconvert_exporter": "python",
   "pygments_lexer": "ipython3",
   "version": "3.10.9"
  }
 },
 "nbformat": 4,
 "nbformat_minor": 2
}
