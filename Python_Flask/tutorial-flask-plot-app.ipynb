{
 "cells": [
  {
   "cell_type": "markdown",
   "metadata": {},
   "source": [
    "# Create a Flask app to display a Seaborn plot on a webpage"
   ]
  },
  {
   "cell_type": "markdown",
   "metadata": {},
   "source": [
    "## Step 1: Create the Project Structure\n",
    "Create the following directory structure for your project:\n",
    "\n",
    "my_flask_plot_app/\n",
    "│\n",
    "├── app.py\n",
    "├── templates/\n",
    "│   ├── base.html\n",
    "│   └── index.html\n",
    "└── static/\n",
    "    └── style.css"
   ]
  },
  {
   "cell_type": "markdown",
   "metadata": {},
   "source": [
    "## Step 2: Create the Flask Application\n",
    "\n",
    "Create a new Python file named app.py and add the following code:"
   ]
  },
  {
   "cell_type": "code",
   "execution_count": null,
   "metadata": {},
   "outputs": [],
   "source": [
    "from flask import Flask, render_template\n",
    "import seaborn as sns\n",
    "import matplotlib.pyplot as plt\n",
    "import io\n",
    "import base64\n",
    "\n",
    "app = Flask(__name__)\n",
    "\n",
    "@app.route('/')\n",
    "def home():\n",
    "    # Generate a plot using seaborn\n",
    "    sns.set(style=\"whitegrid\")\n",
    "    tips = sns.load_dataset(\"tips\")\n",
    "    plt.figure(figsize=(10, 6))\n",
    "    plot = sns.scatterplot(x=\"total_bill\", y=\"tip\", data=tips)\n",
    "    \n",
    "    # Save the plot to a BytesIO object\n",
    "    img = io.BytesIO()\n",
    "    plot.figure.savefig(img, format='png')\n",
    "    img.seek(0)\n",
    "    \n",
    "    # Encode the image to base64 string\n",
    "    plot_url = base64.b64encode(img.getvalue()).decode('utf8')\n",
    "    \n",
    "    # Render the template with the plot\n",
    "    return render_template('index.html', plot_url=plot_url)\n",
    "\n",
    "if __name__ == '__main__':\n",
    "    app.run(debug=True)"
   ]
  },
  {
   "cell_type": "markdown",
   "metadata": {},
   "source": [
    "## Step 3: Create the Base Template\n",
    "\n",
    "Create a file named base.html in the templates directory with the following content:"
   ]
  },
  {
   "cell_type": "code",
   "execution_count": null,
   "metadata": {
    "vscode": {
     "languageId": "html"
    }
   },
   "outputs": [],
   "source": [
    "<!DOCTYPE html>\n",
    "<html lang=\"en\">\n",
    "<head>\n",
    "    <meta charset=\"UTF-8\">\n",
    "    <title>{% block title %}Flask App{% endblock %}</title>\n",
    "    <link rel=\"stylesheet\" href=\"{{ url_for('static', filename='style.css') }}\">\n",
    "</head>\n",
    "<body>\n",
    "    <div class=\"container\">\n",
    "        {% block content %}{% endblock %}\n",
    "    </div>\n",
    "</body>\n",
    "</html>"
   ]
  },
  {
   "cell_type": "markdown",
   "metadata": {},
   "source": [
    "## Step 4: Create the Index Template\n",
    "\n",
    "Create a file named index.html in the templates directory with the following content:"
   ]
  },
  {
   "cell_type": "code",
   "execution_count": null,
   "metadata": {
    "vscode": {
     "languageId": "html"
    }
   },
   "outputs": [],
   "source": [
    "{% extends \"base.html\" %}\n",
    "\n",
    "{% block title %}Seaborn Plot{% endblock %}\n",
    "\n",
    "{% block content %}\n",
    "    <h1>Seaborn Plot</h1>\n",
    "    <img src=\"data:image/png;base64,{{ plot_url }}\">\n",
    "{% endblock %}\n"
   ]
  },
  {
   "cell_type": "markdown",
   "metadata": {},
   "source": [
    "## Step 5: Create the CSS File\n",
    "\n",
    "Create a file named style.css in the static directory with the following content:"
   ]
  },
  {
   "cell_type": "code",
   "execution_count": null,
   "metadata": {
    "vscode": {
     "languageId": "html"
    }
   },
   "outputs": [],
   "source": [
    "body {\n",
    "    font-family: Arial, sans-serif;\n",
    "}\n",
    "\n",
    ".container {\n",
    "    width: 80%;\n",
    "    margin: 0 auto;\n",
    "    text-align: center;\n",
    "}"
   ]
  },
  {
   "cell_type": "markdown",
   "metadata": {},
   "source": [
    "## Step 6: Run the Application\n",
    "\n",
    "Run your Flask application by executing the following command in your project directory:"
   ]
  },
  {
   "cell_type": "code",
   "execution_count": null,
   "metadata": {
    "vscode": {
     "languageId": "html"
    }
   },
   "outputs": [],
   "source": [
    "python app.py"
   ]
  },
  {
   "cell_type": "markdown",
   "metadata": {},
   "source": [
    "Open your web browser and navigate to http://127.0.0.1:5000/ to see the Seaborn plot displayed on the webpage."
   ]
  }
 ],
 "metadata": {
  "kernelspec": {
   "display_name": "web-env",
   "language": "python",
   "name": "python3"
  },
  "language_info": {
   "codemirror_mode": {
    "name": "ipython",
    "version": 3
   },
   "file_extension": ".py",
   "mimetype": "text/x-python",
   "name": "python",
   "nbconvert_exporter": "python",
   "pygments_lexer": "ipython3",
   "version": "3.12.7"
  }
 },
 "nbformat": 4,
 "nbformat_minor": 2
}
