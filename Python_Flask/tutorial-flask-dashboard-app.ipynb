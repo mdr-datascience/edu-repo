{
 "cells": [
  {
   "cell_type": "markdown",
   "metadata": {},
   "source": [
    "# Create a basic dashboard using Flask"
   ]
  },
  {
   "cell_type": "markdown",
   "metadata": {},
   "source": [
    "## Step 1: Create the Project Structure\n",
    "Create the following directory structure for your project:\n",
    "\n",
    "my_dashboard_app/\\\n",
    "\\\n",
    "└──  app.py\\\n",
    "└──  templates/ \\\n",
    "└──└── base.html \\\n",
    "└──└── index.html \\\n",
    "└── static/ \\\n",
    "└──└── style.css"
   ]
  },
  {
   "cell_type": "markdown",
   "metadata": {},
   "source": [
    "## Step 2: Create the Flask Application\n",
    "\n",
    "Create a new Python file named app.py and add the following code:"
   ]
  },
  {
   "cell_type": "code",
   "execution_count": null,
   "metadata": {},
   "outputs": [],
   "source": [
    "from flask import Flask, render_template, request, redirect, url_for\n",
    "import sqlite3\n",
    "import seaborn as sns\n",
    "import matplotlib.pyplot as plt\n",
    "import io\n",
    "import base64\n",
    "\n",
    "app = Flask(__name__)\n",
    "\n",
    "# Initialize the SQLite database\n",
    "def init_db():\n",
    "    conn = sqlite3.connect('data.db')\n",
    "    c = conn.cursor()\n",
    "    c.execute('''\n",
    "        CREATE TABLE IF NOT EXISTS data (\n",
    "            id INTEGER PRIMARY KEY AUTOINCREMENT,\n",
    "            category TEXT NOT NULL,\n",
    "            value REAL NOT NULL\n",
    "        )\n",
    "    ''')\n",
    "    conn.commit()\n",
    "    conn.close()\n",
    "\n",
    "# Route for the home page with form to add data\n",
    "@app.route('/', methods=['GET', 'POST'])\n",
    "def index():\n",
    "    if request.method == 'POST':\n",
    "        category = request.form['category']\n",
    "        value = request.form['value']\n",
    "        \n",
    "        conn = sqlite3.connect('data.db')\n",
    "        c = conn.cursor()\n",
    "        c.execute('INSERT INTO data (category, value) VALUES (?, ?)', (category, value))\n",
    "        conn.commit()\n",
    "        conn.close()\n",
    "        \n",
    "        return redirect(url_for('index'))\n",
    "    \n",
    "    return render_template('index.html')\n",
    "\n",
    "# Route to display the dashboard with seaborn plots\n",
    "@app.route('/dashboard')\n",
    "def dashboard():\n",
    "    conn = sqlite3.connect('data.db')\n",
    "    c = conn.cursor()\n",
    "    c.execute('SELECT category, value FROM data')\n",
    "    data = c.fetchall()\n",
    "    conn.close()\n",
    "    \n",
    "    # Convert data to a DataFrame\n",
    "    import pandas as pd\n",
    "    df = pd.DataFrame(data, columns=['Category', 'Value'])\n",
    "    \n",
    "    # Create a seaborn plot\n",
    "    sns.set_theme(style=\"whitegrid\")\n",
    "    plt.figure(figsize=(10, 6))\n",
    "    sns.barplot(x='Category', y='Value', data=df)\n",
    "    \n",
    "    # Save the plot to a PNG image in memory\n",
    "    img = io.BytesIO()\n",
    "    plt.savefig(img, format='png')\n",
    "    img.seek(0)\n",
    "    \n",
    "    # Encode the image to base64 string\n",
    "    plot_url = base64.b64encode(img.getvalue()).decode()\n",
    "    \n",
    "    return render_template('dashboard.html', plot_url=plot_url)\n",
    "\n",
    "if __name__ == '__main__':\n",
    "    init_db()\n",
    "    app.run(debug=True)"
   ]
  },
  {
   "cell_type": "markdown",
   "metadata": {},
   "source": [
    "## Step 3: Create the template for the index page\n",
    "\n",
    "Create a file named index.html in the templates directory with the following content:"
   ]
  },
  {
   "cell_type": "code",
   "execution_count": null,
   "metadata": {
    "vscode": {
     "languageId": "html"
    }
   },
   "outputs": [],
   "source": [
    "<!DOCTYPE html>\n",
    "<html lang=\"en\">\n",
    "<head>\n",
    "    <meta charset=\"UTF-8\">\n",
    "    <meta name=\"viewport\" content=\"width=device-width, initial-scale=1.0\">\n",
    "    <title>Daily Activity Data Tracker</title>\n",
    "    <link rel=\"stylesheet\" href=\"{{ url_for('static', filename='style.css') }}\">\n",
    "</head>\n",
    "<body>\n",
    "    <h1>Activity Data Entry</h1>\n",
    "    <form method=\"POST\">\n",
    "        <label for=\"category\">Activity:</label>\n",
    "        <input type=\"text\" id=\"category\" name=\"category\" required>\n",
    "        <br>\n",
    "        <label for=\"value\">Minutes:</label>\n",
    "        <input type=\"number\" id=\"value\" name=\"value\" step=\"1\" required>\n",
    "        <br>\n",
    "        <button type=\"submit\">Submit</button>\n",
    "    </form>\n",
    "    <br>\n",
    "    <a href=\"/dashboard\">Go to Dashboard</a>\n",
    "</body>\n",
    "</html>\n"
   ]
  },
  {
   "cell_type": "markdown",
   "metadata": {},
   "source": [
    "## Step 4: Create the template for the dashboard page\n",
    "\n",
    "Create a file named dashboard.html in the templates directory with the following content:"
   ]
  },
  {
   "cell_type": "code",
   "execution_count": null,
   "metadata": {
    "vscode": {
     "languageId": "html"
    }
   },
   "outputs": [],
   "source": [
    "<!DOCTYPE html>\n",
    "<html lang=\"en\">\n",
    "<head>\n",
    "    <meta charset=\"UTF-8\">\n",
    "    <meta name=\"viewport\" content=\"width=device-width, initial-scale=1.0\">\n",
    "    <title>Daily Activity Dashboard</title>\n",
    "    <link rel=\"stylesheet\" href=\"{{ url_for('static', filename='style.css') }}\">\n",
    "</head>\n",
    "<body>\n",
    "    <h1>Daily Activity Dashboard</h1>\n",
    "    <img src=\"data:image/png;base64,{{ plot_url }}\" alt=\"Seaborn Plot\">\n",
    "    <br>\n",
    "    <a href=\"/\">Back to Data Entry</a>\n",
    "</body>\n",
    "</html>\n"
   ]
  },
  {
   "cell_type": "markdown",
   "metadata": {},
   "source": [
    "## Step 5: Create the CSS File\n",
    "\n",
    "Create a file named style.css in the static directory with the following content:"
   ]
  },
  {
   "cell_type": "code",
   "execution_count": null,
   "metadata": {
    "vscode": {
     "languageId": "html"
    }
   },
   "outputs": [],
   "source": [
    "body {\n",
    "    font-family: Arial, sans-serif;\n",
    "    background-color: #f4f4f4;\n",
    "    margin: 0;\n",
    "    padding: 0;\n",
    "    display: flex;\n",
    "    flex-direction: column;\n",
    "    align-items: center;\n",
    "}\n",
    "\n",
    "h1 {\n",
    "    color: #333;\n",
    "}\n",
    "\n",
    "form {\n",
    "    background: #fff;\n",
    "    padding: 20px;\n",
    "    border-radius: 8px;\n",
    "    box-shadow: 0 0 10px rgba(0, 0, 0, 0.1);\n",
    "    margin-top: 20px;\n",
    "}\n",
    "\n",
    "label {\n",
    "    display: block;\n",
    "    margin-bottom: 8px;\n",
    "    color: #555;\n",
    "}\n",
    "\n",
    "input[type=\"text\"],\n",
    "input[type=\"number\"] {\n",
    "    width: 100%;\n",
    "    padding: 8px;\n",
    "    margin-bottom: 10px;\n",
    "    border: 1px solid #ccc;\n",
    "    border-radius: 4px;\n",
    "}\n",
    "\n",
    "button {\n",
    "    background-color: #28a745;\n",
    "    color: white;\n",
    "    padding: 10px 15px;\n",
    "    border: none;\n",
    "    border-radius: 4px;\n",
    "    cursor: pointer;\n",
    "}\n",
    "\n",
    "button:hover {\n",
    "    background-color: #218838;\n",
    "}\n",
    "\n",
    "a {\n",
    "    color: #007bff;\n",
    "    text-decoration: none;\n",
    "    margin-top: 20px;\n",
    "}\n",
    "\n",
    "a:hover {\n",
    "    text-decoration: underline;\n",
    "}\n",
    "\n",
    "img {\n",
    "    max-width: 100%;\n",
    "    height: auto;\n",
    "    border-radius: 8px;\n",
    "    box-shadow: 0 0 10px rgba(0, 0, 0, 0.1);\n",
    "}\n"
   ]
  },
  {
   "cell_type": "markdown",
   "metadata": {},
   "source": [
    "## Step 6: Run the Application\n",
    "\n",
    "Run your Flask application by executing the following command in your project directory:"
   ]
  },
  {
   "cell_type": "code",
   "execution_count": null,
   "metadata": {},
   "outputs": [],
   "source": [
    "python app.py"
   ]
  },
  {
   "cell_type": "markdown",
   "metadata": {},
   "source": [
    "Open your web browser and navigate to http://127.0.0.1:5000/ to see the Seaborn plot displayed on the webpage."
   ]
  }
 ],
 "metadata": {
  "language_info": {
   "name": "python"
  }
 },
 "nbformat": 4,
 "nbformat_minor": 2
}
