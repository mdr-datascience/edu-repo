{
 "cells": [
  {
   "cell_type": "markdown",
   "metadata": {},
   "source": [
    "# Tutorial \n",
    "\n",
    "This tutorial illustrates the basic use of logging in Python. The logging module is part of the standard distribution. By default, only the messages for warning, error and critical will be displayed."
   ]
  },
  {
   "cell_type": "code",
   "execution_count": 1,
   "metadata": {},
   "outputs": [
    {
     "name": "stderr",
     "output_type": "stream",
     "text": [
      "WARNING:root:This is a warning message.\n",
      "ERROR:root:This is an error message.\n",
      "CRITICAL:root:This is a critical message.\n"
     ]
    }
   ],
   "source": [
    "import logging\n",
    "\n",
    "logging.debug(\"This is a debug message.\")\n",
    "logging.info(\"This is an info message.\")\n",
    "logging.warning(\"This is a warning message.\")\n",
    "logging.error(\"This is an error message.\")\n",
    "logging.critical(\"This is a critical message.\")"
   ]
  },
  {
   "cell_type": "markdown",
   "metadata": {},
   "source": [
    "To configure logging so that it outputs all messages, we need to call the basicConfig method. The configuration runs only once when logging starts, it cannot be changed once logging is running. So you have to restart the kernel to make this configuration and see the difference in output."
   ]
  },
  {
   "cell_type": "code",
   "execution_count": 1,
   "metadata": {},
   "outputs": [
    {
     "name": "stderr",
     "output_type": "stream",
     "text": [
      "DEBUG:root:This is a debug message.\n",
      "INFO:root:This is an info message.\n",
      "WARNING:root:This is a warning message.\n",
      "ERROR:root:This is an error message.\n",
      "CRITICAL:root:This is a critical message.\n"
     ]
    }
   ],
   "source": [
    "# Re-start the Python kernel (Restart using Jupyter notebook)\n",
    "import logging\n",
    "\n",
    "logging.basicConfig(level=logging.DEBUG)\n",
    "logging.debug(\"This is a debug message.\")\n",
    "logging.info(\"This is an info message.\")\n",
    "logging.warning(\"This is a warning message.\")\n",
    "logging.error(\"This is an error message.\")\n",
    "logging.critical(\"This is a critical message.\")"
   ]
  },
  {
   "cell_type": "markdown",
   "metadata": {},
   "source": [
    "It's also a good idea not to print the output of logging straight to the notebook or terminal but to save it in a file (for example if you are running the code in a remote server you won't be able to see the output unless it's saved in a file). Re-start the kernel and import logging again to save the output to a file called output.log."
   ]
  },
  {
   "cell_type": "code",
   "execution_count": null,
   "metadata": {},
   "outputs": [],
   "source": [
    "# Re-start the Python kernel (Restart using Jupyter notebook)\n",
    "import logging\n",
    "\n",
    "logging.basicConfig(level=logging.DEBUG, filename=\"output.log\", filemode=\"w\")\n",
    "logging.debug(\"This is a debug message.\")\n",
    "logging.info(\"This is an info message.\")\n",
    "logging.warning(\"This is a warning message.\")\n",
    "logging.error(\"This is an error message.\")\n",
    "logging.critical(\"This is a critical message.\")\n",
    "\n",
    "var = 10\n",
    "logging.info(f\"Add this line to output file, with a numerical variable for example {var}\")"
   ]
  },
  {
   "cell_type": "markdown",
   "metadata": {},
   "source": [
    "Open output.log. What do you see (same as the screenshot below)? What happens when you keep running the above code?"
   ]
  },
  {
   "cell_type": "markdown",
   "metadata": {},
   "source": [
    "<img src=\"images/image1.PNG\" alt=\"Output of previous cell\" />"
   ]
  },
  {
   "cell_type": "markdown",
   "metadata": {},
   "source": [
    "Now let's costumise the output message so that it looks more professional and informative. Let's format and output a warning message. Let's also add a main function to the code to see in which line of code and function name the warning is given."
   ]
  },
  {
   "cell_type": "code",
   "execution_count": null,
   "metadata": {},
   "outputs": [],
   "source": [
    "# Re-start the Python kernel (Restart using Jupyter notebook)\n",
    "import logging\n",
    "\n",
    "def main():\n",
    "    fmtstr = \"%(asctime)s: %(funcName)s: %(levelname)s Line: %(lineno)d %(message)s\"\n",
    "    logging.basicConfig(level=logging.DEBUG, filename = \"output.log\", filemode=\"w\", format=fmtstr)\n",
    "    logging.warning(\"This is a warning message!\")\n",
    "\n",
    "main()"
   ]
  },
  {
   "cell_type": "markdown",
   "metadata": {},
   "source": [
    "The output inside the log file should look like this:\n",
    "\n",
    "<img src=\"images/image2.PNG\" alt=\"Output of previous cell\" />\n",
    "\n",
    "Now let's imagine we have more than one function. A sub-function inside the main function for example, how does the output of logging look like in this case."
   ]
  },
  {
   "cell_type": "code",
   "execution_count": 1,
   "metadata": {},
   "outputs": [],
   "source": [
    "# Re-start the Python kernel (Restart using Jupyter notebook)\n",
    "import logging\n",
    "\n",
    "def newFunc():\n",
    "    logging.debug(\"This is a debug message!\")\n",
    "\n",
    "def main():\n",
    "    fmtstr = \"%(asctime)s: %(funcName)s: %(levelname)s Line: %(lineno)d %(message)s\"\n",
    "    logging.basicConfig(level=logging.DEBUG, filename = \"output.log\", filemode=\"w\", format=fmtstr)\n",
    "    logging.warning(\"This is a warning message!\")\n",
    "    newFunc()\n",
    "\n",
    "main()"
   ]
  },
  {
   "cell_type": "markdown",
   "metadata": {},
   "source": [
    "The output should look like this:\n",
    "\n",
    "<img src=\"images/image3.PNG\" alt=\"Output of previous cell\" />\n",
    "\n",
    "To finalise this tutorial, we will add extra data to the log by creating a data dictionary that is passed to the logging function and then added to the formatted string of the log. For example we could ouput the user of the code with the rest of the information:\n"
   ]
  },
  {
   "cell_type": "code",
   "execution_count": 1,
   "metadata": {},
   "outputs": [],
   "source": [
    "# Re-start the Python kernel (Restart using Jupyter notebook)\n",
    "import logging\n",
    "\n",
    "# Data to be used for logging\n",
    "data = {'user' : 'username@email.com'}\n",
    "\n",
    "# Add data through the extra argument of the logging function\n",
    "def newFunc():\n",
    "    logging.debug(\"This is a debug message!\", extra=data)\n",
    "\n",
    "def main():\n",
    "    # Format the string to add the user data\n",
    "    fmtstr = \"User: %(user)s %(asctime)s: %(funcName)s: %(levelname)s Line: %(lineno)d %(message)s\"\n",
    "    logging.basicConfig(level=logging.DEBUG, filename = \"output.log\", filemode=\"w\", format=fmtstr)\n",
    "\n",
    "    # Add data through the extra argument of the logging function\n",
    "    logging.warning(\"This is a warning message!\", extra=data)\n",
    "    newFunc()\n",
    "\n",
    "main()"
   ]
  },
  {
   "cell_type": "markdown",
   "metadata": {},
   "source": [
    "The output should look like this:\n",
    "\n",
    "<img src=\"images/image4.PNG\" alt=\"Output of previous cell\" />"
   ]
  },
  {
   "cell_type": "markdown",
   "metadata": {},
   "source": [
    "<font color='red'>**TO DO:** write your own functions or code snippets and log information that you think would be useful to capture in order to debug or understand how the code is working.</red>"
   ]
  }
 ],
 "metadata": {
  "kernelspec": {
   "display_name": "Python 3 (ipykernel)",
   "language": "python",
   "name": "python3"
  },
  "language_info": {
   "codemirror_mode": {
    "name": "ipython",
    "version": 3
   },
   "file_extension": ".py",
   "mimetype": "text/x-python",
   "name": "python",
   "nbconvert_exporter": "python",
   "pygments_lexer": "ipython3",
   "version": "3.10.9"
  }
 },
 "nbformat": 4,
 "nbformat_minor": 2
}
