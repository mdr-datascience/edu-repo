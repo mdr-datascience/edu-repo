{
 "cells": [
  {
   "cell_type": "markdown",
   "metadata": {},
   "source": [
    "# Tutorial \n",
    "This tutorial illustrates the basic used of logging in Python. The logging module is \n",
    "Only the messages for warning, error and critical will be displayed."
   ]
  },
  {
   "cell_type": "code",
   "execution_count": 3,
   "metadata": {},
   "outputs": [],
   "source": [
    "import logging\n",
    "\n",
    "logging.debug(\"This is a debug message.\")\n",
    "logging.info(\"This is an info message.\")\n",
    "logging.warning(\"This is a warning message.\")\n",
    "logging.error(\"This is an error message.\")\n",
    "logging.critical(\"This is a critical message.\")"
   ]
  },
  {
   "cell_type": "markdown",
   "metadata": {},
   "source": [
    "Let's configure logging so that it outputs all messaged. This configuration runs only once when logging starts, it cannot be changed once logging is running. So you have to restart the kernel to make the configuration and see the difference in output."
   ]
  },
  {
   "cell_type": "code",
   "execution_count": 4,
   "metadata": {},
   "outputs": [],
   "source": [
    "logging.basicConfig(level=logging.DEBUG)\n",
    "logging.debug(\"This is a debug message.\")\n",
    "logging.info(\"This is an info message.\")\n",
    "logging.warning(\"This is a warning message.\")\n",
    "logging.error(\"This is an error message.\")\n",
    "logging.critical(\"This is a critical message.\")"
   ]
  },
  {
   "cell_type": "markdown",
   "metadata": {},
   "source": [
    "It's also a good idea not to print the output here but to save it in a file (for example if you are running the code in a remote server you won't be able to see the output unless it's saved in a file). Clear kernel and import logging again to make the following lines of code work."
   ]
  },
  {
   "cell_type": "code",
   "execution_count": 5,
   "metadata": {},
   "outputs": [],
   "source": [
    "logging.basicConfig(level=logging.DEBUG, filename=\"output.log\", filemode=\"w\")\n",
    "logging.debug(\"This is a debug message.\")\n",
    "logging.info(\"This is an info message.\")\n",
    "logging.warning(\"This is a warning message.\")\n",
    "logging.error(\"This is an error message.\")\n",
    "logging.critical(\"This is a critical message.\")\n",
    "\n",
    "var = 10\n",
    "logging.info(f\"Add this line to output file, with a numerical variable for example {var}\")"
   ]
  },
  {
   "cell_type": "markdown",
   "metadata": {},
   "source": [
    "Open output.log. What do you see? What happens when you keep running the above code?"
   ]
  },
  {
   "cell_type": "markdown",
   "metadata": {},
   "source": [
    "Now let's costumise the output message so that it looks more professional and informative. Let's format and output a warning message."
   ]
  },
  {
   "cell_type": "code",
   "execution_count": 7,
   "metadata": {},
   "outputs": [],
   "source": [
    "import logging\n",
    "\n",
    "def main():\n",
    "    fmtstr = \"%(asctime)s: %(funcName)s: %(levelname)s Line: %(lineno)d %(message)s\"\n",
    "    logging.basicConfig(level=logging.DEBUG, filename = \"output_formatted.log\", filemode=\"w\", format=fmtstr)\n",
    "    logging.warning(\"This is a warning message!\")\n",
    "\n",
    "main()"
   ]
  },
  {
   "cell_type": "code",
   "execution_count": 1,
   "metadata": {},
   "outputs": [],
   "source": [
    "import logging\n",
    "\n",
    "def newFunc():\n",
    "    logging.debug(\"This is a debug message!\")\n",
    "\n",
    "def main():\n",
    "    fmtstr = \"%(asctime)s: %(funcName)s: %(levelname)s Line: %(lineno)d %(message)s\"\n",
    "    logging.basicConfig(level=logging.DEBUG, filename = \"output_formatted.log\", filemode=\"w\", format=fmtstr)\n",
    "    logging.warning(\"This is a warning message!\")\n",
    "    newFunc()\n",
    "\n",
    "main()"
   ]
  },
  {
   "cell_type": "code",
   "execution_count": 1,
   "metadata": {},
   "outputs": [],
   "source": [
    "import logging\n",
    "\n",
    "data = {'user' : 'username@email.com'}\n",
    "\n",
    "def newFunc():\n",
    "    logging.debug(\"This is a debug message!\", extra=data)\n",
    "\n",
    "def main():\n",
    "    fmtstr = \"User: %(user)s %(asctime)s: %(funcName)s: %(levelname)s Line: %(lineno)d %(message)s\"\n",
    "    logging.basicConfig(level=logging.DEBUG, filename = \"output_formatted.log\", filemode=\"w\", format=fmtstr)\n",
    "    logging.warning(\"This is a warning message!\", extra=data)\n",
    "    newFunc()\n",
    "\n",
    "main()"
   ]
  },
  {
   "cell_type": "code",
   "execution_count": null,
   "metadata": {},
   "outputs": [],
   "source": []
  }
 ],
 "metadata": {
  "kernelspec": {
   "display_name": "base",
   "language": "python",
   "name": "python3"
  },
  "language_info": {
   "codemirror_mode": {
    "name": "ipython",
    "version": 3
   },
   "file_extension": ".py",
   "mimetype": "text/x-python",
   "name": "python",
   "nbconvert_exporter": "python",
   "pygments_lexer": "ipython3",
   "version": "3.10.9"
  }
 },
 "nbformat": 4,
 "nbformat_minor": 2
}
