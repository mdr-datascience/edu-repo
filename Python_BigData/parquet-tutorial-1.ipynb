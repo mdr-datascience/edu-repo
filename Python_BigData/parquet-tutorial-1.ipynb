{
 "cells": [
  {
   "cell_type": "code",
   "execution_count": 1,
   "metadata": {},
   "outputs": [],
   "source": [
    "# Load parquet or csv file\n",
    "import pandas as pd \n",
    "  \n",
    "file_name = '/content/drive/MyDrive/yellow_tripdata_2021-02.parquet'\n",
    "df = pd.read_parquet(file_name) \n",
    "df.head()\n",
    "\n",
    "# If not able to read parquet run the following code\n",
    "# file_name = '/content/drive/MyDrive/yellow_trip_data.csv'\n",
    "# df = pd.read_csv(file_name)"
   ]
  },
  {
   "cell_type": "code",
   "execution_count": null,
   "metadata": {},
   "outputs": [],
   "source": [
    "# Check memory size of dataframe\n",
    "mb = 1_000_000\n",
    "df.memory_usage(deep=True).sum() / mb"
   ]
  },
  {
   "cell_type": "code",
   "execution_count": null,
   "metadata": {},
   "outputs": [],
   "source": [
    "# Check size of the file\n",
    "from pathlib import Path\n",
    "Path(file_name).stat().st_size / mb"
   ]
  },
  {
   "cell_type": "code",
   "execution_count": null,
   "metadata": {},
   "outputs": [],
   "source": [
    "# Calculate median distance by vendor\n",
    "df.groupby('VendorID')['trip_distance'].median()"
   ]
  },
  {
   "cell_type": "code",
   "execution_count": null,
   "metadata": {},
   "outputs": [],
   "source": [
    "# Avoid loading all the columns into memory - load only the data you need\n",
    "columns=['VendorID', 'trip_distance']\n",
    "df = pd.read_parquet(file_name, columns=columns)\n",
    "df.memory_usage(deep=True).sum() / mb"
   ]
  },
  {
   "cell_type": "code",
   "execution_count": null,
   "metadata": {},
   "outputs": [],
   "source": [
    "# Calculate again the median distance by vendor\n",
    "df.groupby('VendorID')['trip_distance'].median()"
   ]
  }
 ],
 "metadata": {
  "kernelspec": {
   "display_name": "base",
   "language": "python",
   "name": "python3"
  },
  "language_info": {
   "codemirror_mode": {
    "name": "ipython",
    "version": 3
   },
   "file_extension": ".py",
   "mimetype": "text/x-python",
   "name": "python",
   "nbconvert_exporter": "python",
   "pygments_lexer": "ipython3",
   "version": "3.10.9"
  }
 },
 "nbformat": 4,
 "nbformat_minor": 2
}
