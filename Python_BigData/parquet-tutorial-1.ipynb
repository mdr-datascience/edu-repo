{
 "cells": [
  {
   "cell_type": "markdown",
   "metadata": {},
   "source": [
    "# Using Large Datasets with Pandas\n",
    "Tutorial based on \"Using large datasets with Pandas\" by Miki Tebeka"
   ]
  },
  {
   "cell_type": "code",
   "execution_count": null,
   "metadata": {},
   "outputs": [],
   "source": [
    "# Mount Google Drive\n",
    "from google.colab import drive\n",
    "drive.mount('/content/drive')\n",
    "\n",
    "# Load parquet or csv file\n",
    "import pandas as pd\n",
    "  \n",
    "file_name = '/content/drive/MyDrive/BigData/yellow_tripdata_2021-02.parquet'\n",
    "df = pd.read_parquet(file_name)\n",
    "\n",
    "# If not able to read parquet run the following code\n",
    "#file_name = '/content/drive/MyDrive/BigData/yellow_trip_data.csv'\n",
    "#df = pd.read_csv(file_name)\n",
    "\n",
    "df.head()"
   ]
  },
  {
   "cell_type": "code",
   "execution_count": null,
   "metadata": {},
   "outputs": [],
   "source": [
    "# Check size in memory of dataframe (MB)\n",
    "mb = 1_000_000\n",
    "df.memory_usage(deep=True).sum() / mb"
   ]
  },
  {
   "cell_type": "code",
   "execution_count": null,
   "metadata": {},
   "outputs": [],
   "source": [
    "# Check size of the file (MB)\n",
    "from pathlib import Path\n",
    "Path(file_name).stat().st_size / mb"
   ]
  },
  {
   "cell_type": "code",
   "execution_count": null,
   "metadata": {},
   "outputs": [],
   "source": [
    "# Calculate median distance by vendor\n",
    "df.groupby('VendorID')['trip_distance'].median()"
   ]
  },
  {
   "cell_type": "code",
   "execution_count": null,
   "metadata": {},
   "outputs": [],
   "source": [
    "# Avoid loading all the columns into memory - load only the data you need (in this case vendor and trip distance)\n",
    "columns=['VendorID', 'trip_distance']\n",
    "df = pd.read_parquet(file_name, columns=columns)\n",
    "# df = pd.read_csv(file_name, usecols=['VendorID', 'trip_distance'])\n",
    "df.memory_usage(deep=True).sum() / mb"
   ]
  },
  {
   "cell_type": "code",
   "execution_count": null,
   "metadata": {},
   "outputs": [],
   "source": [
    "# Calculate again the median distance by vendor\n",
    "df.groupby('VendorID')['trip_distance'].median()"
   ]
  },
  {
   "cell_type": "code",
   "execution_count": null,
   "metadata": {},
   "outputs": [],
   "source": [
    "# Reload data\n",
    "df = pd.read_parquet(file_name)\n",
    "# df = pd.read_csv(file_name)"
   ]
  },
  {
   "cell_type": "code",
   "execution_count": null,
   "metadata": {},
   "outputs": [],
   "source": [
    "# Check data types\n",
    "df.dtypes"
   ]
  },
  {
   "cell_type": "code",
   "execution_count": null,
   "metadata": {},
   "outputs": [],
   "source": [
    "# Check for range of a specific variable (total amount in this case)\n",
    "# Look for the min and max\n",
    "df['total_amount'].describe()"
   ]
  },
  {
   "cell_type": "code",
   "execution_count": null,
   "metadata": {},
   "outputs": [],
   "source": [
    "# Check if this variable could be stored as a float32 type instead of float64\n",
    "# to consume less memory\n",
    "# Check for min and max values that can fit into float32\n",
    "import numpy as np\n",
    "\n",
    "np.finfo(np.float32)"
   ]
  },
  {
   "cell_type": "code",
   "execution_count": null,
   "metadata": {},
   "outputs": [],
   "source": [
    "# Calculate memory usage of column stored as float64\n",
    "mb = 1_000_000\n",
    "df['total_amount'].memory_usage(deep=True) / mb"
   ]
  },
  {
   "cell_type": "code",
   "execution_count": null,
   "metadata": {},
   "outputs": [],
   "source": [
    "# Convert to float32 and check the size in memory - it's much less!\n",
    "amount = df['total_amount'].astype(np.float32)\n",
    "amount.memory_usage(deep=True) / mb"
   ]
  },
  {
   "cell_type": "code",
   "execution_count": null,
   "metadata": {},
   "outputs": [],
   "source": [
    "# Create strings for categorical data (easier to read than indices)\n",
    "names = {\n",
    "    1: 'Creative',\n",
    "    2: 'VeriFone',\n",
    "}\n",
    "df['vendor'] = df['VendorID'].map(names)"
   ]
  },
  {
   "cell_type": "code",
   "execution_count": null,
   "metadata": {},
   "outputs": [],
   "source": [
    "# Compare size in memory of indices versus string data\n",
    "mb = 1_000_000\n",
    "id_size = df['VendorID'].memory_usage(deep=True) / mb\n",
    "name_size = df['vendor'].memory_usage(deep=True) / mb\n",
    "print(f'id size: {id_size}, name size: {name_size}')"
   ]
  },
  {
   "cell_type": "code",
   "execution_count": null,
   "metadata": {},
   "outputs": [],
   "source": [
    "# Use data type 'category' to save memory\n",
    "df['vendor'] = df['vendor'].astype('category')\n",
    "df['vendor'].memory_usage(deep=True) / mb"
   ]
  },
  {
   "cell_type": "code",
   "execution_count": null,
   "metadata": {},
   "outputs": [],
   "source": [
    "# It is easier to read than indices and uses less data than strings\n",
    "df['vendor'][:10]"
   ]
  }
 ],
 "metadata": {
  "kernelspec": {
   "display_name": "base",
   "language": "python",
   "name": "python3"
  },
  "language_info": {
   "codemirror_mode": {
    "name": "ipython",
    "version": 3
   },
   "file_extension": ".py",
   "mimetype": "text/x-python",
   "name": "python",
   "nbconvert_exporter": "python",
   "pygments_lexer": "ipython3",
   "version": "3.10.9"
  }
 },
 "nbformat": 4,
 "nbformat_minor": 2
}
