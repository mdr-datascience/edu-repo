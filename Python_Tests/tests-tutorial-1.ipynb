{
 "cells": [
  {
   "cell_type": "markdown",
   "metadata": {},
   "source": [
    "# Tutorial 1\n",
    "\n",
    "In this tutorial we are going to explore *pytest* and its basic functionality for unit testing."
   ]
  },
  {
   "cell_type": "markdown",
   "metadata": {},
   "source": [
    "Before proceeding:\n",
    "- start by creating a new Python file and call it *test_tutorial.py*\n",
    "- inside this file import pytest and write your first test just to check if pytest is installed (see below)\n",
    "- run your Python code"
   ]
  },
  {
   "cell_type": "code",
   "execution_count": 2,
   "metadata": {},
   "outputs": [],
   "source": [
    "# First lines of code to check if pytest is working properly\n",
    "import pytest\n",
    "\n",
    "def test_canRunPyTest():\n",
    "    assert True"
   ]
  },
  {
   "cell_type": "markdown",
   "metadata": {},
   "source": [
    "When you run *test_tutorial.py* it should activate your testing environment in VSCode and you should see the output of the test, such as:\n",
    "\n",
    "<img src=\"images/image1.png\" alt=\"Output of previous cell\" width=350 />\n",
    "\n",
    "If you are not using VSCode, run pytest (call pytest from your terminal window) from the directory where you have your test_tutorial.py file. See here for more instructions on how to get started with pytest:\n",
    "https://docs.pytest.org/en/7.4.x/getting-started.html\n"
   ]
  },
  {
   "cell_type": "markdown",
   "metadata": {},
   "source": [
    "## Test-Driven Development (TDD)\n",
    "\n",
    "Now that you were able to import pytest and run the first test. Delete this test function and let's work on a simple Test-Driven Development (TDD) exercise.\n",
    "\n",
    "The goal is to write a simple program that creates a function, sayHelloWorld() that says 'hello' when you input 1 and 'world' when you input 2.\n",
    "\n",
    "When programming using the Test-Driven Development (TDD) paradigm we start by writing the test cases for our program. For our example, we could think of the following test cases:\n",
    "- Can I call the function sayHelloWorld()?\n",
    "- Does the function output 'hello' when I pass in 1?\n",
    "- Does the function output 'world' when I pass in 2?\n",
    "\n",
    "Start by writing your first test. It should fail when you run it (RED phase of TDD), because the function sayHelloWorld() is not yet defined."
   ]
  },
  {
   "cell_type": "code",
   "execution_count": null,
   "metadata": {},
   "outputs": [],
   "source": [
    "# Add the following test to your test_tutorial1.py file\n",
    "# when you first run it, it should fail\n",
    "def test_canCallSayHelloWorld():\n",
    "    sayHelloWorld(1)"
   ]
  },
  {
   "cell_type": "markdown",
   "metadata": {},
   "source": [
    "The output should be something like this:\n",
    "\n",
    "<img src=\"images/image2.PNG\" alt=\"Output of previous cell\" width=750 />\n",
    "\n",
    "Now let's define sayHelloWorld() to make the test pass. Add the following lines of code to your Python file above the test function."
   ]
  },
  {
   "cell_type": "code",
   "execution_count": null,
   "metadata": {},
   "outputs": [],
   "source": [
    "# Add the following lines of code above your test function to define sayHelloFunction()\n",
    "def sayHelloWorld(value):\n",
    "    return"
   ]
  },
  {
   "cell_type": "markdown",
   "metadata": {},
   "source": [
    "Re-run your first test."
   ]
  },
  {
   "cell_type": "code",
   "execution_count": null,
   "metadata": {},
   "outputs": [],
   "source": [
    "def test_canCallSayHelloWorld():\n",
    "    sayHelloWorld(1)"
   ]
  },
  {
   "cell_type": "markdown",
   "metadata": {},
   "source": [
    "The test should now pass (GREEN phase of TDD).\n",
    "\n",
    "Now let's add the second test case. Does the function output 'hello' when I pass in 1? Start with a test that fails (RED phase of TDD) by adding the following code:"
   ]
  },
  {
   "cell_type": "code",
   "execution_count": null,
   "metadata": {},
   "outputs": [],
   "source": [
    "def test_returnsHelloWhenInputIs1():\n",
    "    retVal = sayHelloWorld(1)\n",
    "    assert retVal == \"hello\""
   ]
  },
  {
   "cell_type": "markdown",
   "metadata": {},
   "source": [
    "You should get an AssertionError. To make the test pass, add the correct functionality to sayHelloWorld function."
   ]
  },
  {
   "cell_type": "code",
   "execution_count": null,
   "metadata": {},
   "outputs": [],
   "source": [
    "def sayHelloWorld(value):\n",
    "    if value == 1:\n",
    "        return \"hello\""
   ]
  },
  {
   "cell_type": "markdown",
   "metadata": {},
   "source": [
    "<font color='red'>**TO DO:**  to finalise, now write the final test case on your own. \n",
    "\n",
    "Test case: Does the function output 'world' when I pass in 2?.\n",
    "\n",
    "- Start by writing a test that fails (RED phase of TDD).\n",
    "- Then implement the correct functionlity in sayHelloFunction().\n",
    "- Re-run the test to make sure it now passes (GREEN phase of TDD).</font>"
   ]
  },
  {
   "cell_type": "markdown",
   "metadata": {},
   "source": [
    "You may now notice that there is some repetition in your tests. We could refactor them (REFACTOR phase of TDD) by modifying the code to reduce repetition. You could add the following utility function to your code, and then adapt the rest to call this function when needed:"
   ]
  },
  {
   "cell_type": "code",
   "execution_count": null,
   "metadata": {},
   "outputs": [],
   "source": [
    "def checkSayHelloWorld(value, expOut):\n",
    "    retVal = sayHelloWorld(value)\n",
    "    assert retVal == expOut"
   ]
  },
  {
   "cell_type": "markdown",
   "metadata": {},
   "source": [
    "<font color='red'>**TO DO:** Try to refactor your tests using the above utility function. Hint: maybe you can delete your first test case, it's redundant, and reduce the code inside your other test functions from 2 lines of code to 1 line of code.</font> "
   ]
  },
  {
   "cell_type": "markdown",
   "metadata": {},
   "source": [
    "## PyTest *approx* function\n",
    "\n",
    "Now let's work on a different problem. Let's test a division function and use the *approx* functionality from pytest. Add the following lines of code to your *test_tutorial.py* file. And check to see if you understand what is the problem and why *approx* is useful."
   ]
  },
  {
   "cell_type": "code",
   "execution_count": null,
   "metadata": {},
   "outputs": [],
   "source": [
    "def divide(a, b):\n",
    "    return a / b\n",
    "\n",
    "def test_exact_comparison():\n",
    "    result = divide(1, 3)\n",
    "    assert result == 0.3333333333333333\n",
    "\n",
    "def test_approximate_comparison():\n",
    "    result = divide(1, 3)\n",
    "    assert result == pytest.approx(0.3333333)"
   ]
  },
  {
   "cell_type": "markdown",
   "metadata": {},
   "source": [
    "## raise Exception test"
   ]
  },
  {
   "cell_type": "markdown",
   "metadata": {},
   "source": [
    "One important test case you might want to add to your code is testing if your code properly raises exceptions. You can use the functionality *with pytest.raises* from pytest to check if a given exception is properly raised in your code. For example (add the following lines to your *test_tutorial.py* file). The following function should raise an exception (ValueError) if it's numerical input is greater than 10. We can add the test below to check if when we input a number greater than 10 the expected ValueError is returned."
   ]
  },
  {
   "cell_type": "code",
   "execution_count": 1,
   "metadata": {},
   "outputs": [],
   "source": [
    "def myFunction(x):\n",
    "    if x > 10:\n",
    "        raise ValueError\n",
    "    \n",
    "\n",
    "def test_exceptionFunction():\n",
    "    with pytest.raises(ValueError):\n",
    "        myFunction(100)"
   ]
  },
  {
   "cell_type": "markdown",
   "metadata": {},
   "source": [
    "<font color='red'>**TO DO:** Try to make the above test fail. For example, by changing the exception in the function to NameError. Add more functionality to your code to test other exceptions. For example, add a function that divides two numbers and outputs a ZeroDivisionError when the number to divide by is 0. Then modify the test to see if you can test that the ZeroDivisionError is correctly implemented in your function.</font> "
   ]
  }
 ],
 "metadata": {
  "kernelspec": {
   "display_name": "Python 3 (ipykernel)",
   "language": "python",
   "name": "python3"
  },
  "language_info": {
   "codemirror_mode": {
    "name": "ipython",
    "version": 3
   },
   "file_extension": ".py",
   "mimetype": "text/x-python",
   "name": "python",
   "nbconvert_exporter": "python",
   "pygments_lexer": "ipython3",
   "version": "3.10.9"
  }
 },
 "nbformat": 4,
 "nbformat_minor": 2
}
