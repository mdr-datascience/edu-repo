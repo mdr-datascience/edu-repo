{
 "cells": [
  {
   "cell_type": "markdown",
   "metadata": {},
   "source": [
    "# Tutorial 4\n",
    "# Class and static methods\n",
    "Class methods and attributes are different from the instance methods and attributes because they are shared at the class level across all instances of that class. For example, if one attribute applies to every single object of the class, it makes sense to define it only once as a class attribute.\n",
    "For the Book class we could set the available types of books as a class attribute."
   ]
  },
  {
   "cell_type": "code",
   "execution_count": 75,
   "metadata": {},
   "outputs": [],
   "source": [
    "# Re-use a simpler version of Book class to add class attributes\n",
    "class Book:\n",
    "\n",
    "    BOOK_TYPES = (\"HARDCOVER\", \"PAPERBACK\")\n",
    "\n",
    "    def __init__(self, title, booktype):\n",
    "        self.title = title\n",
    "        if not (booktype in Book.BOOK_TYPES):\n",
    "            raise ValueError(f\"{booktype} not a valid book type.\")\n",
    "        else:\n",
    "            self.booktype = booktype"
   ]
  },
  {
   "cell_type": "code",
   "execution_count": 76,
   "metadata": {},
   "outputs": [],
   "source": [
    "# Create new objects of the class Book with a certain title\n",
    "book1 = Book(\"To Kill a Mockingbird\", \"HARDCOVER\")"
   ]
  },
  {
   "cell_type": "code",
   "execution_count": 77,
   "metadata": {},
   "outputs": [
    {
     "ename": "ValueError",
     "evalue": "eBook not a valid book type.",
     "output_type": "error",
     "traceback": [
      "\u001b[1;31m---------------------------------------------------------------------------\u001b[0m",
      "\u001b[1;31mValueError\u001b[0m                                Traceback (most recent call last)",
      "Cell \u001b[1;32mIn[77], line 1\u001b[0m\n\u001b[1;32m----> 1\u001b[0m book2 \u001b[39m=\u001b[39m Book(\u001b[39m\"\u001b[39;49m\u001b[39mWar and Peace\u001b[39;49m\u001b[39m\"\u001b[39;49m, \u001b[39m\"\u001b[39;49m\u001b[39meBook\u001b[39;49m\u001b[39m\"\u001b[39;49m)\n",
      "Cell \u001b[1;32mIn[75], line 9\u001b[0m, in \u001b[0;36mBook.__init__\u001b[1;34m(self, title, booktype)\u001b[0m\n\u001b[0;32m      7\u001b[0m \u001b[39mself\u001b[39m\u001b[39m.\u001b[39mtitle \u001b[39m=\u001b[39m title\n\u001b[0;32m      8\u001b[0m \u001b[39mif\u001b[39;00m \u001b[39mnot\u001b[39;00m (booktype \u001b[39min\u001b[39;00m Book\u001b[39m.\u001b[39mBOOK_TYPES):\n\u001b[1;32m----> 9\u001b[0m     \u001b[39mraise\u001b[39;00m \u001b[39mValueError\u001b[39;00m(\u001b[39mf\u001b[39m\u001b[39m\"\u001b[39m\u001b[39m{\u001b[39;00mbooktype\u001b[39m}\u001b[39;00m\u001b[39m not a valid book type.\u001b[39m\u001b[39m\"\u001b[39m)\n\u001b[0;32m     10\u001b[0m \u001b[39melse\u001b[39;00m:\n\u001b[0;32m     11\u001b[0m     \u001b[39mself\u001b[39m\u001b[39m.\u001b[39mbooktype \u001b[39m=\u001b[39m booktype\n",
      "\u001b[1;31mValueError\u001b[0m: eBook not a valid book type."
     ]
    }
   ],
   "source": [
    "book2 = Book(\"War and Peace\", \"eBook\")\n"
   ]
  },
  {
   "cell_type": "markdown",
   "metadata": {},
   "source": [
    "Now lets add a class method. To do that we need to use a function decorator."
   ]
  },
  {
   "cell_type": "code",
   "execution_count": 78,
   "metadata": {},
   "outputs": [],
   "source": [
    "class Book:\n",
    "\n",
    "    BOOK_TYPES = (\"HARDCOVER\", \"PAPERBACK\")\n",
    "\n",
    "    def __init__(self, title, booktype):\n",
    "        self.title = title\n",
    "        if not (booktype in Book.BOOK_TYPES):\n",
    "            raise ValueError(f\"{booktype} not a valid book type.\")\n",
    "        else:\n",
    "            self.booktype = booktype\n",
    "    \n",
    "    @classmethod\n",
    "    def get_booktypes(cls):\n",
    "        return cls.BOOK_TYPES"
   ]
  },
  {
   "cell_type": "markdown",
   "metadata": {},
   "source": [
    "Check the titles of the objects created:"
   ]
  },
  {
   "cell_type": "code",
   "execution_count": 79,
   "metadata": {},
   "outputs": [
    {
     "name": "stdout",
     "output_type": "stream",
     "text": [
      "Book types available: ('HARDCOVER', 'PAPERBACK')\n"
     ]
    }
   ],
   "source": [
    "print(\"Book types available:\", Book.get_booktypes())"
   ]
  },
  {
   "cell_type": "markdown",
   "metadata": {},
   "source": [
    "There aren't a lot of use cases for static methods but let's add a static method here just for completion."
   ]
  },
  {
   "cell_type": "code",
   "execution_count": 80,
   "metadata": {},
   "outputs": [],
   "source": [
    "class Book:\n",
    "\n",
    "    # Variable to be used in static method\n",
    "    __booklist = None\n",
    "\n",
    "    def __init__(self, title):\n",
    "        self.title = title\n",
    "\n",
    " #   def __repr__(self):\n",
    " #       return f'Book({self.title})'\n",
    "    \n",
    "    @staticmethod\n",
    "    def getbooklist():\n",
    "        if Book.__booklist == None:\n",
    "            Book.__booklist = []\n",
    "        return Book.__booklist"
   ]
  },
  {
   "cell_type": "code",
   "execution_count": 81,
   "metadata": {},
   "outputs": [
    {
     "data": {
      "text/plain": [
       "[]"
      ]
     },
     "execution_count": 81,
     "metadata": {},
     "output_type": "execute_result"
    }
   ],
   "source": [
    "book1 = Book(\"To Kill a Mockingbird\")\n",
    "book2 = Book(\"War and Peace\")\n",
    "books = Book.getbooklist()\n",
    "books"
   ]
  },
  {
   "cell_type": "code",
   "execution_count": 82,
   "metadata": {},
   "outputs": [
    {
     "data": {
      "text/plain": [
       "[<__main__.Book at 0x19382f51750>, <__main__.Book at 0x19384125ae0>]"
      ]
     },
     "execution_count": 82,
     "metadata": {},
     "output_type": "execute_result"
    }
   ],
   "source": [
    "books.append(book1)\n",
    "books.append(book2)\n",
    "books"
   ]
  },
  {
   "cell_type": "markdown",
   "metadata": {},
   "source": [
    "To finish this tutorial let's add __repr__ and __spr__ methods to our simple *Book* class to illustrate what these do. These methods are used to enrich the class and are useful to users and code developers. For example:"
   ]
  },
  {
   "cell_type": "code",
   "execution_count": 128,
   "metadata": {},
   "outputs": [],
   "source": [
    "class Book:\n",
    "\n",
    "    def __init__(self, title, author, year):\n",
    "        self.title = title\n",
    "        self.author = author\n",
    "        self.year = year\n",
    "\n",
    "    # Returns a detailed description for a programmer who needs to maintain and debug the code.\n",
    "    def __repr__(self):\n",
    "        cname = type(self).__name__\n",
    "        return f\"{cname}(title = {self.title}, author = {self.author}, year = {self.year})\"\n",
    "\n",
    "    # Returns a simpler description with information for the user of the program.\n",
    "    def __str__(self):\n",
    "        return  f'\"{self.title}\" by {self.author}.'\n"
   ]
  },
  {
   "cell_type": "code",
   "execution_count": 131,
   "metadata": {},
   "outputs": [
    {
     "data": {
      "text/plain": [
       "Book(title = The Great Gatsby, author = F. Scott Fitzgerald, year = 1925)"
      ]
     },
     "execution_count": 131,
     "metadata": {},
     "output_type": "execute_result"
    }
   ],
   "source": [
    "obj = Book('The Great Gatsby','F. Scott Fitzgerald', 1925)\n",
    "obj"
   ]
  },
  {
   "cell_type": "code",
   "execution_count": 132,
   "metadata": {},
   "outputs": [
    {
     "name": "stdout",
     "output_type": "stream",
     "text": [
      "\"The Great Gatsby\" by F. Scott Fitzgerald.\n"
     ]
    }
   ],
   "source": [
    "print(obj)"
   ]
  },
  {
   "cell_type": "code",
   "execution_count": null,
   "metadata": {},
   "outputs": [],
   "source": []
  }
 ],
 "metadata": {
  "kernelspec": {
   "display_name": "base",
   "language": "python",
   "name": "python3"
  },
  "language_info": {
   "codemirror_mode": {
    "name": "ipython",
    "version": 3
   },
   "file_extension": ".py",
   "mimetype": "text/x-python",
   "name": "python",
   "nbconvert_exporter": "python",
   "pygments_lexer": "ipython3",
   "version": "3.10.9"
  },
  "orig_nbformat": 4
 },
 "nbformat": 4,
 "nbformat_minor": 2
}
