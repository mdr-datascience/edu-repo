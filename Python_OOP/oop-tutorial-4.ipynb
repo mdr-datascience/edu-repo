{
 "cells": [
  {
   "cell_type": "markdown",
   "metadata": {},
   "source": [
    "# Tutorial 4\n",
    "# Class and static methods\n",
    "*Class* methods and attributes are different from *instance* methods and attributes because they are shared at the class level across all instances of that class. For example, if one attribute applies to every single object of the class, it makes sense to define it only once as a class attribute.\n",
    "For the Book class we could set the available types of books as a class attribute."
   ]
  },
  {
   "cell_type": "code",
   "execution_count": 1,
   "metadata": {},
   "outputs": [],
   "source": [
    "# Re-use a simpler version of the Book class to add class attributes\n",
    "class Book:\n",
    "\n",
    "    BOOK_TYPES = (\"HARDCOVER\", \"PAPERBACK\")\n",
    "\n",
    "    def __init__(self, title, booktype):\n",
    "        self.title = title\n",
    "        if not (booktype in Book.BOOK_TYPES):\n",
    "            raise ValueError(f\"{booktype} not a valid book type.\")\n",
    "        else:\n",
    "            self.booktype = booktype"
   ]
  },
  {
   "cell_type": "code",
   "execution_count": 2,
   "metadata": {},
   "outputs": [],
   "source": [
    "# Create new objects of the class Book with a certain book type\n",
    "book1 = Book(\"To Kill a Mockingbird\", \"HARDCOVER\")"
   ]
  },
  {
   "cell_type": "markdown",
   "metadata": {},
   "source": [
    "If the book type used to create a new object is not one of the allowed book types defined as *class* attributes the following line will error."
   ]
  },
  {
   "cell_type": "code",
   "execution_count": 3,
   "metadata": {},
   "outputs": [
    {
     "ename": "ValueError",
     "evalue": "eBook not a valid book type.",
     "output_type": "error",
     "traceback": [
      "\u001b[1;31m---------------------------------------------------------------------------\u001b[0m",
      "\u001b[1;31mValueError\u001b[0m                                Traceback (most recent call last)",
      "Cell \u001b[1;32mIn[3], line 1\u001b[0m\n\u001b[1;32m----> 1\u001b[0m book2 \u001b[38;5;241m=\u001b[39m \u001b[43mBook\u001b[49m\u001b[43m(\u001b[49m\u001b[38;5;124;43m\"\u001b[39;49m\u001b[38;5;124;43mWar and Peace\u001b[39;49m\u001b[38;5;124;43m\"\u001b[39;49m\u001b[43m,\u001b[49m\u001b[43m \u001b[49m\u001b[38;5;124;43m\"\u001b[39;49m\u001b[38;5;124;43meBook\u001b[39;49m\u001b[38;5;124;43m\"\u001b[39;49m\u001b[43m)\u001b[49m\n",
      "Cell \u001b[1;32mIn[1], line 9\u001b[0m, in \u001b[0;36mBook.__init__\u001b[1;34m(self, title, booktype)\u001b[0m\n\u001b[0;32m      7\u001b[0m \u001b[38;5;28mself\u001b[39m\u001b[38;5;241m.\u001b[39mtitle \u001b[38;5;241m=\u001b[39m title\n\u001b[0;32m      8\u001b[0m \u001b[38;5;28;01mif\u001b[39;00m \u001b[38;5;129;01mnot\u001b[39;00m (booktype \u001b[38;5;129;01min\u001b[39;00m Book\u001b[38;5;241m.\u001b[39mBOOK_TYPES):\n\u001b[1;32m----> 9\u001b[0m     \u001b[38;5;28;01mraise\u001b[39;00m \u001b[38;5;167;01mValueError\u001b[39;00m(\u001b[38;5;124mf\u001b[39m\u001b[38;5;124m\"\u001b[39m\u001b[38;5;132;01m{\u001b[39;00mbooktype\u001b[38;5;132;01m}\u001b[39;00m\u001b[38;5;124m not a valid book type.\u001b[39m\u001b[38;5;124m\"\u001b[39m)\n\u001b[0;32m     10\u001b[0m \u001b[38;5;28;01melse\u001b[39;00m:\n\u001b[0;32m     11\u001b[0m     \u001b[38;5;28mself\u001b[39m\u001b[38;5;241m.\u001b[39mbooktype \u001b[38;5;241m=\u001b[39m booktype\n",
      "\u001b[1;31mValueError\u001b[0m: eBook not a valid book type."
     ]
    }
   ],
   "source": [
    "book2 = Book(\"War and Peace\", \"eBook\")"
   ]
  },
  {
   "cell_type": "markdown",
   "metadata": {},
   "source": [
    "Now let's add a *class* method as well. To do that, we need to use a function decorator *@classmethod*. *Class* methods do not need to access the object (they don't need the *self* argument as *instance* methods do)."
   ]
  },
  {
   "cell_type": "code",
   "execution_count": 78,
   "metadata": {},
   "outputs": [],
   "source": [
    "class Book:\n",
    "\n",
    "    BOOK_TYPES = (\"HARDCOVER\", \"PAPERBACK\")\n",
    "\n",
    "    def __init__(self, title, booktype):\n",
    "        self.title = title\n",
    "        if not (booktype in Book.BOOK_TYPES):\n",
    "            raise ValueError(f\"{booktype} not a valid book type.\")\n",
    "        else:\n",
    "            self.booktype = booktype\n",
    "    \n",
    "    @classmethod\n",
    "    def get_booktypes(cls):\n",
    "        return cls.BOOK_TYPES"
   ]
  },
  {
   "cell_type": "markdown",
   "metadata": {},
   "source": [
    "Check the titles of the objects created:"
   ]
  },
  {
   "cell_type": "code",
   "execution_count": 79,
   "metadata": {},
   "outputs": [
    {
     "name": "stdout",
     "output_type": "stream",
     "text": [
      "Book types available: ('HARDCOVER', 'PAPERBACK')\n"
     ]
    }
   ],
   "source": [
    "print(\"Book types available:\", Book.get_booktypes())"
   ]
  },
  {
   "cell_type": "markdown",
   "metadata": {},
   "source": [
    "There aren't a lot of use cases for *static* methods but let's add a static method here just for completion. Static methods do not need any input argument. They can be seen as utily functions that make sense defining inside the class."
   ]
  },
  {
   "cell_type": "code",
   "execution_count": 4,
   "metadata": {},
   "outputs": [],
   "source": [
    "class Book:\n",
    "\n",
    "    # Variable to be used in the static method\n",
    "    __booklist = None\n",
    "\n",
    "    def __init__(self, title):\n",
    "        self.title = title\n",
    "    \n",
    "    # Static method\n",
    "    @staticmethod\n",
    "    def getbooklist():\n",
    "        if Book.__booklist == None:\n",
    "            Book.__booklist = []\n",
    "        return Book.__booklist"
   ]
  },
  {
   "cell_type": "markdown",
   "metadata": {},
   "source": [
    "Use the static method to create an empty list of books."
   ]
  },
  {
   "cell_type": "code",
   "execution_count": 5,
   "metadata": {},
   "outputs": [
    {
     "data": {
      "text/plain": [
       "[]"
      ]
     },
     "execution_count": 5,
     "metadata": {},
     "output_type": "execute_result"
    }
   ],
   "source": [
    "book1 = Book(\"To Kill a Mockingbird\")\n",
    "book2 = Book(\"War and Peace\")\n",
    "books = Book.getbooklist()\n",
    "books"
   ]
  },
  {
   "cell_type": "markdown",
   "metadata": {},
   "source": [
    "Now books can be added to the list as objects. This is just to illustrate how to define static methods. A list could have been created outside the class."
   ]
  },
  {
   "cell_type": "code",
   "execution_count": 82,
   "metadata": {},
   "outputs": [
    {
     "data": {
      "text/plain": [
       "[<__main__.Book at 0x19382f51750>, <__main__.Book at 0x19384125ae0>]"
      ]
     },
     "execution_count": 82,
     "metadata": {},
     "output_type": "execute_result"
    }
   ],
   "source": [
    "books.append(book1)\n",
    "books.append(book2)\n",
    "books"
   ]
  },
  {
   "cell_type": "markdown",
   "metadata": {},
   "source": [
    "To finish this tutorial let's add *__repr__* and *__str__* methods to our simple *Book* class to illustrate what these do. These methods are used to enrich the class and are useful to users and code developers. For example, without *repr* and *str*, if you print the object you get:"
   ]
  },
  {
   "cell_type": "code",
   "execution_count": 11,
   "metadata": {},
   "outputs": [],
   "source": [
    "class Book:\n",
    "\n",
    "    def __init__(self, title, author, year):\n",
    "        self.title = title\n",
    "        self.author = author\n",
    "        self.year = year"
   ]
  },
  {
   "cell_type": "code",
   "execution_count": 12,
   "metadata": {},
   "outputs": [
    {
     "data": {
      "text/plain": [
       "<__main__.Book at 0x18446bfbcd0>"
      ]
     },
     "execution_count": 12,
     "metadata": {},
     "output_type": "execute_result"
    }
   ],
   "source": [
    "obj = Book('The Great Gatsby','F. Scott Fitzgerald', 1925)\n",
    "obj"
   ]
  },
  {
   "cell_type": "code",
   "execution_count": 13,
   "metadata": {},
   "outputs": [
    {
     "name": "stdout",
     "output_type": "stream",
     "text": [
      "<__main__.Book object at 0x0000018446BFBCD0>\n"
     ]
    }
   ],
   "source": [
    "print(obj)"
   ]
  },
  {
   "cell_type": "markdown",
   "metadata": {},
   "source": [
    "Now with *repr* and *str* defined, the output is nicer and more informative (*repr* is more for developers and *str* for users of the class)."
   ]
  },
  {
   "cell_type": "code",
   "execution_count": 14,
   "metadata": {},
   "outputs": [],
   "source": [
    "class Book:\n",
    "\n",
    "    def __init__(self, title, author, year):\n",
    "        self.title = title\n",
    "        self.author = author\n",
    "        self.year = year\n",
    "\n",
    "    # Returns a detailed description for a programmer who needs to maintain and debug the code.\n",
    "    def __repr__(self):\n",
    "        cname = type(self).__name__\n",
    "        return f\"{cname}(title = {self.title}, author = {self.author}, year = {self.year})\"\n",
    "\n",
    "    # Returns a simpler description with information for the user of the program.\n",
    "    def __str__(self):\n",
    "        return  f'\"{self.title}\" by {self.author}.'"
   ]
  },
  {
   "cell_type": "code",
   "execution_count": 15,
   "metadata": {},
   "outputs": [
    {
     "data": {
      "text/plain": [
       "Book(title = The Great Gatsby, author = F. Scott Fitzgerald, year = 1925)"
      ]
     },
     "execution_count": 15,
     "metadata": {},
     "output_type": "execute_result"
    }
   ],
   "source": [
    "obj = Book('The Great Gatsby','F. Scott Fitzgerald', 1925)\n",
    "obj"
   ]
  },
  {
   "cell_type": "code",
   "execution_count": 16,
   "metadata": {},
   "outputs": [
    {
     "name": "stdout",
     "output_type": "stream",
     "text": [
      "\"The Great Gatsby\" by F. Scott Fitzgerald.\n"
     ]
    }
   ],
   "source": [
    "print(obj)"
   ]
  }
 ],
 "metadata": {
  "kernelspec": {
   "display_name": "Python 3 (ipykernel)",
   "language": "python",
   "name": "python3"
  },
  "language_info": {
   "codemirror_mode": {
    "name": "ipython",
    "version": 3
   },
   "file_extension": ".py",
   "mimetype": "text/x-python",
   "name": "python",
   "nbconvert_exporter": "python",
   "pygments_lexer": "ipython3",
   "version": "3.10.9"
  }
 },
 "nbformat": 4,
 "nbformat_minor": 2
}
