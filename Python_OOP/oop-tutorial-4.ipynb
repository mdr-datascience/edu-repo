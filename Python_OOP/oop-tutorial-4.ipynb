{
 "cells": [
  {
   "cell_type": "markdown",
   "metadata": {},
   "source": [
    "# Tutorial 4\n",
    "# Class and static methods\n",
    "Class methods and attributes are different from the instance methods and attributes because they are shared at the class level across all instances of that class. For example, if one attribute applies to every single object of the class, it makes sense to define it only once as a class attribute.\n",
    "For the Book class we could set the available types of books as a class attribute."
   ]
  },
  {
   "cell_type": "code",
   "execution_count": 15,
   "metadata": {},
   "outputs": [
    {
     "name": "stdout",
     "output_type": "stream",
     "text": [
      "['__class__', '__delattr__', '__dict__', '__dir__', '__doc__', '__eq__', '__format__', '__ge__', '__getattribute__', '__gt__', '__hash__', '__init__', '__init_subclass__', '__le__', '__lt__', '__module__', '__ne__', '__new__', '__reduce__', '__reduce_ex__', '__repr__', '__setattr__', '__sizeof__', '__str__', '__subclasshook__', '__weakref__']\n"
     ]
    }
   ],
   "source": [
    "# Re-use a simpler version of Book class to add class attributes\n",
    "class Book:\n",
    "\n",
    "    BOOK_TYPES = (\"HARDCOVER\", \"PAPERBACK\")\n",
    "\n",
    "    def __init__(self, title, booktype):\n",
    "        self.title = title\n",
    "        if not (booktype in Book.BOOK_TYPES):\n",
    "            raise ValueError(f\"{booktype} not valid.\")\n",
    "        else:\n",
    "            self.booktype = booktype\n"
   ]
  },
  {
   "cell_type": "markdown",
   "metadata": {},
   "source": [
    "If you run the above code do you find anything you were not expecting? Does the class have any methods already? Does it have a `__init__()` method?\n"
   ]
  },
  {
   "cell_type": "markdown",
   "metadata": {},
   "source": [
    "This method initialises the object and is a special built-in method. To initialise the objects of our class with data we can override this method. Lets define a new Book class, which initialises objects with a title."
   ]
  },
  {
   "cell_type": "code",
   "execution_count": 10,
   "metadata": {},
   "outputs": [],
   "source": [
    "# Define new Book class and initialise with a title\n",
    "class Book:\n",
    "    def __init__(self, title):\n",
    "        self.title = title\n",
    "\n",
    "# Create new objects of the class Book with a certain title\n",
    "book1 = Book(\"Pride and Prejudice \")\n",
    "book2 = Book(\"To Kill a Mockingbird\")"
   ]
  },
  {
   "cell_type": "markdown",
   "metadata": {},
   "source": [
    "Check the type of object for book1 and book2:"
   ]
  },
  {
   "cell_type": "code",
   "execution_count": 16,
   "metadata": {},
   "outputs": [
    {
     "name": "stdout",
     "output_type": "stream",
     "text": [
      "<__main__.Book object at 0x00000211EE6FE410>\n",
      "<__main__.Book object at 0x00000211EEC9A1D0>\n"
     ]
    }
   ],
   "source": [
    "print(book1)\n",
    "print(book2)"
   ]
  },
  {
   "cell_type": "markdown",
   "metadata": {},
   "source": [
    "Check the titles of the objects created:"
   ]
  },
  {
   "cell_type": "code",
   "execution_count": 14,
   "metadata": {},
   "outputs": [
    {
     "name": "stdout",
     "output_type": "stream",
     "text": [
      "Pride and Prejudice \n",
      "To Kill a Mockingbird\n"
     ]
    }
   ],
   "source": [
    "print(book1.title)\n",
    "print(book2.title)"
   ]
  },
  {
   "cell_type": "markdown",
   "metadata": {},
   "source": [
    "Now lets create more instance methods and properties. Starting by adding more information to the initialising function and adding our first user-defined method that returns some information about the book (title and author)."
   ]
  },
  {
   "cell_type": "code",
   "execution_count": 32,
   "metadata": {},
   "outputs": [],
   "source": [
    "# Define new Book class and initialise with a title\n",
    "class Book:\n",
    "    def __init__(self, title, author, year, pages, onload):\n",
    "        self.title = title\n",
    "        self.author = author\n",
    "        self.year = year\n",
    "        self.pages = pages\n",
    "        self.onloan = onload\n",
    "\n",
    "    def get_info(self):\n",
    "        print(f\"Book: {self.title} by {self.author}\")\n"
   ]
  },
  {
   "cell_type": "code",
   "execution_count": 33,
   "metadata": {},
   "outputs": [
    {
     "name": "stdout",
     "output_type": "stream",
     "text": [
      "Book: Pride and Prejudice by Jane Austen\n"
     ]
    }
   ],
   "source": [
    "b = Book(\"Pride and Prejudice\", \"Jane Austen\", 1813, 432, False)\n",
    "b.get_info()"
   ]
  },
  {
   "cell_type": "markdown",
   "metadata": {},
   "source": [
    "Add new function that creates a new attribute to the class when called."
   ]
  },
  {
   "cell_type": "code",
   "execution_count": 47,
   "metadata": {},
   "outputs": [],
   "source": [
    "class Book:\n",
    "    def __init__(self, title, author, year, pages, onloan = 0):\n",
    "        self.title = title\n",
    "        self.author = author\n",
    "        self.year = year\n",
    "        self.pages = pages\n",
    "        self.onloan = onloan\n",
    "\n",
    "    # Add method to get information on title and author\n",
    "    def get_info(self):\n",
    "        print(f\"Book: {self.title} by {self.author}\")\n",
    "\n",
    "    # Add function to request to loan a book\n",
    "    def set_request(self):\n",
    "        if self.onloan:\n",
    "            print(f\"{self.title} is not currently available.\")\n",
    "        else:\n",
    "            self.onloan = True\n",
    "            print(f\"{self.title} has been requested.\")"
   ]
  },
  {
   "cell_type": "code",
   "execution_count": 48,
   "metadata": {},
   "outputs": [],
   "source": [
    "b = Book(\"Pride and Prejudice\", \"Jane Austen\", 1813, 432)"
   ]
  },
  {
   "cell_type": "code",
   "execution_count": 49,
   "metadata": {},
   "outputs": [
    {
     "name": "stdout",
     "output_type": "stream",
     "text": [
      "Pride and Prejudice requested.\n",
      "Pride and Prejudice is not currently available.\n"
     ]
    }
   ],
   "source": [
    "b.set_request()\n",
    "b.set_request()"
   ]
  },
  {
   "cell_type": "markdown",
   "metadata": {},
   "source": [
    "We can set attributes to the class outside the init function, for example, inside a method. We use _ underscore before the name of an attribute to tell other developes that this attribute is internal to the class and should not be used outside of it."
   ]
  },
  {
   "cell_type": "code",
   "execution_count": 64,
   "metadata": {},
   "outputs": [],
   "source": [
    "class Book:\n",
    "    def __init__(self, title, author, year, pages, onloan = 0):\n",
    "        self.title = title\n",
    "        self.author = author\n",
    "        self.year = year\n",
    "        self.pages = pages\n",
    "        self.onloan = onloan\n",
    "        self.__secret = \"secret attribute\"\n",
    "\n",
    "    # Add method to get information on title and author\n",
    "    def get_info(self):\n",
    "        print(f\"Book: {self.title} by {self.author}\")\n",
    "\n",
    "    # Add function to request to loan a book\n",
    "    def set_request(self):\n",
    "        if self.onloan:\n",
    "            print(f\"{self.title} is not currently available.\")\n",
    "        else:\n",
    "            self.onloan = True\n",
    "            print(f\"{self.title} has been requested.\")\n",
    "    \n",
    "    # Add method that sets a new attribute to class\n",
    "    def set_comment(self, comment):\n",
    "        self._comment = comment\n",
    "\n",
    "    # Add method that prints comments if available\n",
    "    def get_comment(self):\n",
    "        if hasattr(self, \"_comment\"):\n",
    "            print(self._comment)"
   ]
  },
  {
   "cell_type": "code",
   "execution_count": 65,
   "metadata": {},
   "outputs": [
    {
     "name": "stdout",
     "output_type": "stream",
     "text": [
      "This book is missing one page.\n"
     ]
    }
   ],
   "source": [
    "b = Book(\"Pride and Prejudice\", \"Jane Austen\", 1813, 432)\n",
    "b.set_comment(\"This book is missing one page.\")\n",
    "b.get_comment()"
   ]
  },
  {
   "cell_type": "markdown",
   "metadata": {},
   "source": [
    "If you use double underscore for the name of an attribute, this attribute cannot be seen outside the class and if you try to access it, it will return the following error:"
   ]
  },
  {
   "cell_type": "code",
   "execution_count": 67,
   "metadata": {},
   "outputs": [
    {
     "ename": "AttributeError",
     "evalue": "'Book' object has no attribute '__secret'",
     "output_type": "error",
     "traceback": [
      "\u001b[1;31m---------------------------------------------------------------------------\u001b[0m",
      "\u001b[1;31mAttributeError\u001b[0m                            Traceback (most recent call last)",
      "Cell \u001b[1;32mIn[67], line 1\u001b[0m\n\u001b[1;32m----> 1\u001b[0m \u001b[39mprint\u001b[39m(b\u001b[39m.\u001b[39;49m__secret)\n",
      "\u001b[1;31mAttributeError\u001b[0m: 'Book' object has no attribute '__secret'"
     ]
    }
   ],
   "source": [
    "print(b.__secret)\n"
   ]
  },
  {
   "cell_type": "markdown",
   "metadata": {},
   "source": [
    "However, the attribute can still be accessed using the name of the class (this is called name mangling). The name of the class is added to avoid overriding by subclasses."
   ]
  },
  {
   "cell_type": "code",
   "execution_count": 69,
   "metadata": {},
   "outputs": [
    {
     "name": "stdout",
     "output_type": "stream",
     "text": [
      "secret attribute\n"
     ]
    }
   ],
   "source": [
    "print(b._Book__secret)"
   ]
  },
  {
   "cell_type": "markdown",
   "metadata": {},
   "source": [
    "In Python everything is a subclass of the *object* class."
   ]
  },
  {
   "cell_type": "code",
   "execution_count": 70,
   "metadata": {},
   "outputs": [
    {
     "data": {
      "text/plain": [
       "True"
      ]
     },
     "execution_count": 70,
     "metadata": {},
     "output_type": "execute_result"
    }
   ],
   "source": [
    "isinstance(b, object)"
   ]
  },
  {
   "cell_type": "code",
   "execution_count": null,
   "metadata": {},
   "outputs": [],
   "source": []
  }
 ],
 "metadata": {
  "kernelspec": {
   "display_name": "base",
   "language": "python",
   "name": "python3"
  },
  "language_info": {
   "codemirror_mode": {
    "name": "ipython",
    "version": 3
   },
   "file_extension": ".py",
   "mimetype": "text/x-python",
   "name": "python",
   "nbconvert_exporter": "python",
   "pygments_lexer": "ipython3",
   "version": "3.10.9"
  },
  "orig_nbformat": 4
 },
 "nbformat": 4,
 "nbformat_minor": 2
}
