{
 "cells": [
  {
   "cell_type": "markdown",
   "metadata": {},
   "source": [
    "# Tutorial 7\n",
    "## Composition"
   ]
  },
  {
   "cell_type": "code",
   "execution_count": 29,
   "metadata": {},
   "outputs": [],
   "source": [
    "class Vehicle:\n",
    "    def __init__(self, type, price, owner = None):\n",
    "        self.type = type\n",
    "        self.price = price\n",
    "\n",
    "        # Use references to other objects, like author and chapters\n",
    "        self.owner = owner\n",
    "        self.rides = []\n",
    "\n",
    "    def addride(self, ride):\n",
    "        self.rides.append(ride)\n",
    "\n",
    "    def gettotalmiles(self):\n",
    "        result = 0\n",
    "        for r in self.rides:\n",
    "            result += r.miles\n",
    "        return f\"Total number of miles: {result}\"\n",
    "\n",
    "\n",
    "class Owner:\n",
    "    def __init__(self, fname, lname, address = None):\n",
    "        self.fname = fname\n",
    "        self.lname = lname\n",
    "        self.address = address\n",
    "\n",
    "    def __str__(self):\n",
    "        return f\"Owner| Name: {self.fname} {self.lname}, \"\\\n",
    "            f\"Address: {self.address}\"\n",
    "\n",
    "class Ride:\n",
    "    def __init__(self, description, miles):\n",
    "        self.description = description\n",
    "        self.miles = miles"
   ]
  },
  {
   "cell_type": "code",
   "execution_count": 30,
   "metadata": {},
   "outputs": [
    {
     "name": "stdout",
     "output_type": "stream",
     "text": [
      "Owner| Name: Jane Smith, Address: None\n",
      "Total number of miles: 12000\n"
     ]
    }
   ],
   "source": [
    "own = Owner(\"Jane\", \"Smith\")\n",
    "v1 = Vehicle(\"Car\", 15000, own)\n",
    "\n",
    "v1.addride(Ride(\"TRip to France\", 10000))\n",
    "v1.addride(Ride(\"Roadtrip UK\", 2000))\n",
    "\n",
    "print(v1.owner)\n",
    "print(v1.gettotalmiles())"
   ]
  },
  {
   "cell_type": "code",
   "execution_count": 31,
   "metadata": {},
   "outputs": [
    {
     "name": "stdout",
     "output_type": "stream",
     "text": [
      "Owner| Name: Oliver Twist, Address: 10 Brick Lane, London, UK\n",
      "Total number of miles: 1220\n"
     ]
    }
   ],
   "source": [
    "own = Owner(\"Oliver\", \"Twist\", \"10 Brick Lane, London, UK\")\n",
    "v1 = Vehicle(\"Motorbike\", 7000, own)\n",
    "\n",
    "v1.addride(Ride(\"Daily commute\", 20))\n",
    "v1.addride(Ride(\"Trip to Scotland\", 500))\n",
    "v1.addride(Ride(\"Trip to Wales\", 700))\n",
    "\n",
    "print(v1.owner)\n",
    "print(v1.gettotalmiles())"
   ]
  },
  {
   "cell_type": "code",
   "execution_count": null,
   "metadata": {},
   "outputs": [],
   "source": []
  }
 ],
 "metadata": {
  "kernelspec": {
   "display_name": "base",
   "language": "python",
   "name": "python3"
  },
  "language_info": {
   "codemirror_mode": {
    "name": "ipython",
    "version": 3
   },
   "file_extension": ".py",
   "mimetype": "text/x-python",
   "name": "python",
   "nbconvert_exporter": "python",
   "pygments_lexer": "ipython3",
   "version": "3.10.9"
  },
  "orig_nbformat": 4
 },
 "nbformat": 4,
 "nbformat_minor": 2
}
