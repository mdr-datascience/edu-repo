{
 "cells": [
  {
   "cell_type": "markdown",
   "metadata": {},
   "source": [
    "# Tutorial 8\n",
    "## Special functions\n",
    "This tutorial illustrates some of the special methods that exist in every class and that can be overridden to add more costumization to the class."
   ]
  },
  {
   "cell_type": "markdown",
   "metadata": {},
   "source": [
    "For example, we can add the functionality of comparing two objects. Are two objects the same? Without overriding the *eq* method the output of comparing two objects is the following:"
   ]
  },
  {
   "cell_type": "code",
   "execution_count": 1,
   "metadata": {},
   "outputs": [],
   "source": [
    "# Define Book class and initialise with a title and author\n",
    "class Book:\n",
    "    def __init__(self, title, author):\n",
    "        self.title = title\n",
    "        self.author = author\n",
    "\n",
    "# Create new objects of the class Book with a certain title and author\n",
    "book1 = Book(\"Pride and Prejudice\", \"Jane Austin\")\n",
    "book2 = Book(\"Pride and Prejudice\", \"Jane Austin\")"
   ]
  },
  {
   "cell_type": "code",
   "execution_count": 2,
   "metadata": {},
   "outputs": [
    {
     "data": {
      "text/plain": [
       "False"
      ]
     },
     "execution_count": 2,
     "metadata": {},
     "output_type": "execute_result"
    }
   ],
   "source": [
    "book1 == book2"
   ]
  },
  {
   "cell_type": "markdown",
   "metadata": {},
   "source": [
    "For the used they are the same object (the same book) but for Python they are two different objects. We can add an *eq* method to fix this."
   ]
  },
  {
   "cell_type": "code",
   "execution_count": 3,
   "metadata": {},
   "outputs": [],
   "source": [
    "class Book:\n",
    "    def __init__(self, title, author):\n",
    "        self.title = title\n",
    "        self.author = author\n",
    "    \n",
    "    # Override the special method __eq__\n",
    "    def __eq__(self, value):\n",
    "        if not isinstance(value, Book):\n",
    "            raise ValueError(\"Cannot compare book to non-book object\")\n",
    "        \n",
    "        return (self.title == value.title and self.author == value.author)\n",
    "    \n",
    "book1 = Book(\"Pride and Prejudice\", \"Jane Austin\")\n",
    "book2 = Book(\"Pride and Prejudice\", \"Jane Austin\")\n",
    "book3 = Book(\"The Catcher in the Rye\", \"J. D. Salinger\")"
   ]
  },
  {
   "cell_type": "markdown",
   "metadata": {},
   "source": [
    "Let's test if as users we can now compare the objects:"
   ]
  },
  {
   "cell_type": "code",
   "execution_count": 4,
   "metadata": {},
   "outputs": [
    {
     "name": "stdout",
     "output_type": "stream",
     "text": [
      "True\n",
      "False\n",
      "False\n",
      "True\n"
     ]
    }
   ],
   "source": [
    "print(book1 == book2)\n",
    "print(book1 == book3)\n",
    "print(book2 == book3)\n",
    "print(book2 == book1)"
   ]
  },
  {
   "cell_type": "markdown",
   "metadata": {},
   "source": [
    "And test our exception (we cannot compare Book objects with anything else):"
   ]
  },
  {
   "cell_type": "code",
   "execution_count": 5,
   "metadata": {},
   "outputs": [
    {
     "ename": "ValueError",
     "evalue": "Cannot compare book to non-book object",
     "output_type": "error",
     "traceback": [
      "\u001b[1;31m---------------------------------------------------------------------------\u001b[0m",
      "\u001b[1;31mValueError\u001b[0m                                Traceback (most recent call last)",
      "Cell \u001b[1;32mIn[5], line 1\u001b[0m\n\u001b[1;32m----> 1\u001b[0m \u001b[38;5;28mprint\u001b[39m(\u001b[43mbook1\u001b[49m\u001b[43m \u001b[49m\u001b[38;5;241;43m==\u001b[39;49m\u001b[43m \u001b[49m\u001b[38;5;124;43m\"\u001b[39;49m\u001b[38;5;124;43mThe Great Gatsby\u001b[39;49m\u001b[38;5;124;43m\"\u001b[39;49m)\n",
      "Cell \u001b[1;32mIn[3], line 9\u001b[0m, in \u001b[0;36mBook.__eq__\u001b[1;34m(self, value)\u001b[0m\n\u001b[0;32m      7\u001b[0m \u001b[38;5;28;01mdef\u001b[39;00m \u001b[38;5;21m__eq__\u001b[39m(\u001b[38;5;28mself\u001b[39m, value):\n\u001b[0;32m      8\u001b[0m     \u001b[38;5;28;01mif\u001b[39;00m \u001b[38;5;129;01mnot\u001b[39;00m \u001b[38;5;28misinstance\u001b[39m(value, Book):\n\u001b[1;32m----> 9\u001b[0m         \u001b[38;5;28;01mraise\u001b[39;00m \u001b[38;5;167;01mValueError\u001b[39;00m(\u001b[38;5;124m\"\u001b[39m\u001b[38;5;124mCannot compare book to non-book object\u001b[39m\u001b[38;5;124m\"\u001b[39m)\n\u001b[0;32m     11\u001b[0m     \u001b[38;5;28;01mreturn\u001b[39;00m (\u001b[38;5;28mself\u001b[39m\u001b[38;5;241m.\u001b[39mtitle \u001b[38;5;241m==\u001b[39m value\u001b[38;5;241m.\u001b[39mtitle \u001b[38;5;129;01mand\u001b[39;00m \u001b[38;5;28mself\u001b[39m\u001b[38;5;241m.\u001b[39mauthor \u001b[38;5;241m==\u001b[39m value\u001b[38;5;241m.\u001b[39mauthor)\n",
      "\u001b[1;31mValueError\u001b[0m: Cannot compare book to non-book object"
     ]
    }
   ],
   "source": [
    "print(book1 == \"The Great Gatsby\")"
   ]
  },
  {
   "cell_type": "markdown",
   "metadata": {},
   "source": [
    "Another functionality we can add to compare object is to check if one thing is greater or smaller than some other object. This is done by overriding the *lt* function (for lower than comparisons). Without overring:"
   ]
  },
  {
   "cell_type": "code",
   "execution_count": 6,
   "metadata": {},
   "outputs": [
    {
     "ename": "TypeError",
     "evalue": "'<' not supported between instances of 'Book' and 'Book'",
     "output_type": "error",
     "traceback": [
      "\u001b[1;31m---------------------------------------------------------------------------\u001b[0m",
      "\u001b[1;31mTypeError\u001b[0m                                 Traceback (most recent call last)",
      "Cell \u001b[1;32mIn[6], line 1\u001b[0m\n\u001b[1;32m----> 1\u001b[0m \u001b[43mbook1\u001b[49m\u001b[43m \u001b[49m\u001b[38;5;241;43m<\u001b[39;49m\u001b[43m \u001b[49m\u001b[43mbook3\u001b[49m\n",
      "\u001b[1;31mTypeError\u001b[0m: '<' not supported between instances of 'Book' and 'Book'"
     ]
    }
   ],
   "source": [
    "book1 < book3"
   ]
  },
  {
   "cell_type": "markdown",
   "metadata": {},
   "source": [
    "After overriding *lt* so that Python knows what lower than means when we compare two Book objects:"
   ]
  },
  {
   "cell_type": "code",
   "execution_count": 7,
   "metadata": {},
   "outputs": [],
   "source": [
    "class Book:\n",
    "    def __init__(self, title, author, year):\n",
    "        self.title = title\n",
    "        self.author = author\n",
    "        self.year = year\n",
    "    \n",
    "    # Override the special method __eq__\n",
    "    def __eq__(self, value):\n",
    "        if not isinstance(value, Book):\n",
    "            raise ValueError(\"Cannot compare book to non-book object\")\n",
    "        \n",
    "        return (self.title == value.title and self.author == value.author)\n",
    "    \n",
    "    # Override the special method __lt__\n",
    "    def __lt__(self, value):\n",
    "        if not isinstance(value, Book):\n",
    "            raise ValueError(\"Cannot compare book to non-book object\")\n",
    "        \n",
    "        return (self.year < value.year)\n",
    "    \n",
    "book1 = Book(\"Pride and Prejudice\", \"Jane Austin\", 1813)\n",
    "book2 = Book(\"Pride and Prejudice\", \"Jane Austin\", 1813)\n",
    "book3 = Book(\"The Catcher in the Rye\", \"J. D. Salinger\", 1951)\n",
    "book4 = Book(\"To Kill a Mockingbird\", \"Harper Lee\", 1960)"
   ]
  },
  {
   "cell_type": "code",
   "execution_count": 8,
   "metadata": {},
   "outputs": [
    {
     "name": "stdout",
     "output_type": "stream",
     "text": [
      "True\n"
     ]
    }
   ],
   "source": [
    "print(book1 < book3)"
   ]
  },
  {
   "cell_type": "markdown",
   "metadata": {},
   "source": [
    "A very nice feature of having the 'lower than' method defined is that we can now create lists of objects and use sort to sort them. For example, the code below creates a list of books in a random order and prints the publication year before and after sorting:"
   ]
  },
  {
   "cell_type": "code",
   "execution_count": 9,
   "metadata": {},
   "outputs": [
    {
     "name": "stdout",
     "output_type": "stream",
     "text": [
      "[1813, 1960, 1813, 1951]\n",
      "[1813, 1813, 1951, 1960]\n"
     ]
    }
   ],
   "source": [
    "list_of_objects = [book2, book4, book1, book3]\n",
    "print([b.year for b in list_of_objects])\n",
    "list_of_objects.sort()\n",
    "print([b.year for b in list_of_objects])"
   ]
  },
  {
   "cell_type": "markdown",
   "metadata": {},
   "source": [
    "We can use the special method *setattr* for example to check if a certain attribute satisfies some requirements before we attribute it to the object. Here we can check if the publication year is an int (integer) before we set this attribute in the object:"
   ]
  },
  {
   "cell_type": "code",
   "execution_count": 10,
   "metadata": {},
   "outputs": [],
   "source": [
    "class Book:\n",
    "    def __init__(self, title, author, year):\n",
    "        self.title = title\n",
    "        self.author = author\n",
    "        self.year = year\n",
    "    \n",
    "    # Override the special method __setattr__\n",
    "    def __setattr__(self, name, value):\n",
    "        if name == \"year\":\n",
    "            if type(value) is not int:\n",
    "                raise ValueError(\"Year attribute must be of type int.\")\n",
    "            return super().__setattr__(name, value)\n",
    "\n",
    "book1 = Book(\"Pride and Prejudice\", \"Jane Austin\", 1813)"
   ]
  },
  {
   "cell_type": "markdown",
   "metadata": {},
   "source": [
    "To check that we cannot attribute a non integer year to a Book object let's try to raise the exception:"
   ]
  },
  {
   "cell_type": "code",
   "execution_count": 11,
   "metadata": {},
   "outputs": [
    {
     "ename": "ValueError",
     "evalue": "Year attribute must be of type int.",
     "output_type": "error",
     "traceback": [
      "\u001b[1;31m---------------------------------------------------------------------------\u001b[0m",
      "\u001b[1;31mValueError\u001b[0m                                Traceback (most recent call last)",
      "Cell \u001b[1;32mIn[11], line 1\u001b[0m\n\u001b[1;32m----> 1\u001b[0m book1\u001b[38;5;241m.\u001b[39myear \u001b[38;5;241m=\u001b[39m \u001b[38;5;241m1813.0\u001b[39m\n",
      "Cell \u001b[1;32mIn[10], line 11\u001b[0m, in \u001b[0;36mBook.__setattr__\u001b[1;34m(self, name, value)\u001b[0m\n\u001b[0;32m      9\u001b[0m \u001b[38;5;28;01mif\u001b[39;00m name \u001b[38;5;241m==\u001b[39m \u001b[38;5;124m\"\u001b[39m\u001b[38;5;124myear\u001b[39m\u001b[38;5;124m\"\u001b[39m:\n\u001b[0;32m     10\u001b[0m     \u001b[38;5;28;01mif\u001b[39;00m \u001b[38;5;28mtype\u001b[39m(value) \u001b[38;5;129;01mis\u001b[39;00m \u001b[38;5;129;01mnot\u001b[39;00m \u001b[38;5;28mint\u001b[39m:\n\u001b[1;32m---> 11\u001b[0m         \u001b[38;5;28;01mraise\u001b[39;00m \u001b[38;5;167;01mValueError\u001b[39;00m(\u001b[38;5;124m\"\u001b[39m\u001b[38;5;124mYear attribute must be of type int.\u001b[39m\u001b[38;5;124m\"\u001b[39m)\n\u001b[0;32m     12\u001b[0m     \u001b[38;5;28;01mreturn\u001b[39;00m \u001b[38;5;28msuper\u001b[39m()\u001b[38;5;241m.\u001b[39m\u001b[38;5;21m__setattr__\u001b[39m(name, value)\n",
      "\u001b[1;31mValueError\u001b[0m: Year attribute must be of type int."
     ]
    }
   ],
   "source": [
    "book1.year = 1813.0"
   ]
  },
  {
   "cell_type": "markdown",
   "metadata": {},
   "source": [
    "## Shallow versus Deep copy\n",
    "To finish let's see how a shallow copy and a deep copy of an object work. Starting with a shallow copy:"
   ]
  },
  {
   "cell_type": "code",
   "execution_count": 12,
   "metadata": {},
   "outputs": [],
   "source": [
    "class Book:\n",
    "    def __init__(self, title, author):\n",
    "        self.title = title\n",
    "        self.author = author\n",
    "\n",
    "book1 = Book(\"Pride and Prejudice\", \"Jane Austen\")\n",
    "book2 = book1"
   ]
  },
  {
   "cell_type": "markdown",
   "metadata": {},
   "source": [
    "Changing an attribute of one copy changes the attribute of the other copy. For example:"
   ]
  },
  {
   "cell_type": "code",
   "execution_count": 13,
   "metadata": {},
   "outputs": [
    {
     "name": "stdout",
     "output_type": "stream",
     "text": [
      "Sense and Sensibility\n"
     ]
    }
   ],
   "source": [
    "book2.title = \"Sense and Sensibility\"\n",
    "print(book1.title)"
   ]
  },
  {
   "cell_type": "markdown",
   "metadata": {},
   "source": [
    "To implement a deep copy we need the copy module."
   ]
  },
  {
   "cell_type": "code",
   "execution_count": 14,
   "metadata": {},
   "outputs": [
    {
     "name": "stdout",
     "output_type": "stream",
     "text": [
      "Jane Austen\n"
     ]
    }
   ],
   "source": [
    "from copy import deepcopy \n",
    "\n",
    "book3 = deepcopy(book1)\n",
    "print(book3.author)"
   ]
  },
  {
   "cell_type": "markdown",
   "metadata": {},
   "source": [
    "Now changing the attributes of the copy does not change the original object."
   ]
  },
  {
   "cell_type": "code",
   "execution_count": 15,
   "metadata": {},
   "outputs": [],
   "source": [
    "book3.title = \"One Hundred Years of Solitude\"\n",
    "book3.author = \"Gabriel García Márquez\""
   ]
  },
  {
   "cell_type": "code",
   "execution_count": 16,
   "metadata": {},
   "outputs": [
    {
     "name": "stdout",
     "output_type": "stream",
     "text": [
      "Gabriel García Márquez\n",
      "Jane Austen\n"
     ]
    }
   ],
   "source": [
    "print(book3.author)\n",
    "print(book1.author)"
   ]
  }
 ],
 "metadata": {
  "kernelspec": {
   "display_name": "Python 3 (ipykernel)",
   "language": "python",
   "name": "python3"
  },
  "language_info": {
   "codemirror_mode": {
    "name": "ipython",
    "version": 3
   },
   "file_extension": ".py",
   "mimetype": "text/x-python",
   "name": "python",
   "nbconvert_exporter": "python",
   "pygments_lexer": "ipython3",
   "version": "3.10.9"
  }
 },
 "nbformat": 4,
 "nbformat_minor": 2
}
