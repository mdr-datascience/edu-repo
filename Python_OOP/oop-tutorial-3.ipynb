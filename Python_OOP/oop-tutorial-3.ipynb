{
 "cells": [
  {
   "cell_type": "markdown",
   "metadata": {},
   "source": [
    "# Tutorial 3\n",
    "# Methods and Atributes\n",
    "We have created a new class called Book in the previous tutorial."
   ]
  },
  {
   "cell_type": "code",
   "execution_count": 1,
   "metadata": {},
   "outputs": [
    {
     "data": {
      "text/plain": [
       "['__class__',\n",
       " '__delattr__',\n",
       " '__dict__',\n",
       " '__dir__',\n",
       " '__doc__',\n",
       " '__eq__',\n",
       " '__format__',\n",
       " '__ge__',\n",
       " '__getattribute__',\n",
       " '__gt__',\n",
       " '__hash__',\n",
       " '__init__',\n",
       " '__init_subclass__',\n",
       " '__le__',\n",
       " '__lt__',\n",
       " '__module__',\n",
       " '__ne__',\n",
       " '__new__',\n",
       " '__reduce__',\n",
       " '__reduce_ex__',\n",
       " '__repr__',\n",
       " '__setattr__',\n",
       " '__sizeof__',\n",
       " '__str__',\n",
       " '__subclasshook__',\n",
       " '__weakref__']"
      ]
     },
     "execution_count": 1,
     "metadata": {},
     "output_type": "execute_result"
    }
   ],
   "source": [
    "class Book:\n",
    "    pass\n",
    "b = Book()\n",
    "dir(b)"
   ]
  },
  {
   "cell_type": "markdown",
   "metadata": {},
   "source": [
    "If you run the above code do you find anything you were not expecting? Does the class have any methods already? Does it have a `__init__()` method?\n"
   ]
  },
  {
   "cell_type": "markdown",
   "metadata": {},
   "source": [
    "This method initialises the object and is a special built-in method. To initialise the objects of our class with data we can *override* this method. Lets define a new Book class, which initialises objects with a title.  You may notice that there is a parameter *self* for defining this method in the class. A class instance method must have this extra argument as the first argument when you define it. This particular argument refers to the object itself; conventionally, we use self to name it. Through this self parameter, instance methods can freely access attributes and other methods in the same object. When we define or call an instance method within a class, we need to use this self parameter."
   ]
  },
  {
   "cell_type": "code",
   "execution_count": 2,
   "metadata": {},
   "outputs": [],
   "source": [
    "# Define new Book class and initialise with a title\n",
    "class Book:\n",
    "    def __init__(self, title):\n",
    "        self.title = title\n",
    "\n",
    "# Create new objects of the class Book with a certain title\n",
    "book1 = Book(\"Pride and Prejudice\")\n",
    "book2 = Book(\"To Kill a Mockingbird\")"
   ]
  },
  {
   "cell_type": "markdown",
   "metadata": {},
   "source": [
    "Check the type of object for book1 and book2:"
   ]
  },
  {
   "cell_type": "code",
   "execution_count": 3,
   "metadata": {},
   "outputs": [
    {
     "name": "stdout",
     "output_type": "stream",
     "text": [
      "<__main__.Book object at 0x000002234D818580>\n",
      "<__main__.Book object at 0x000002234D826CE0>\n"
     ]
    }
   ],
   "source": [
    "print(book1)\n",
    "print(book2)"
   ]
  },
  {
   "cell_type": "markdown",
   "metadata": {},
   "source": [
    "Check the titles of the objects created:"
   ]
  },
  {
   "cell_type": "code",
   "execution_count": 4,
   "metadata": {},
   "outputs": [
    {
     "name": "stdout",
     "output_type": "stream",
     "text": [
      "Pride and Prejudice\n",
      "To Kill a Mockingbird\n"
     ]
    }
   ],
   "source": [
    "print(book1.title)\n",
    "print(book2.title)"
   ]
  },
  {
   "cell_type": "markdown",
   "metadata": {},
   "source": [
    "Now let's create more *instance methods* and *properties*. Start by adding more information to the initialising function and adding our first user-defined method that returns information about the book (title and author)."
   ]
  },
  {
   "cell_type": "code",
   "execution_count": 5,
   "metadata": {},
   "outputs": [],
   "source": [
    "class Book:\n",
    "    def __init__(self, title, author, year, pages, onload):\n",
    "        self.title = title\n",
    "        self.author = author\n",
    "        self.year = year\n",
    "        self.pages = pages\n",
    "        self.onloan = onload\n",
    "\n",
    "    def get_info(self):\n",
    "        print(f\"Book: {self.title} by {self.author}\")"
   ]
  },
  {
   "cell_type": "code",
   "execution_count": 6,
   "metadata": {},
   "outputs": [
    {
     "name": "stdout",
     "output_type": "stream",
     "text": [
      "Book: Pride and Prejudice by Jane Austen\n"
     ]
    }
   ],
   "source": [
    "b = Book(\"Pride and Prejudice\", \"Jane Austen\", 1813, 432, False)\n",
    "b.get_info()"
   ]
  },
  {
   "cell_type": "markdown",
   "metadata": {},
   "source": [
    "Add a new function that creates a new attribute to the class when called."
   ]
  },
  {
   "cell_type": "code",
   "execution_count": 7,
   "metadata": {},
   "outputs": [],
   "source": [
    "class Book:\n",
    "    def __init__(self, title, author, year, pages, onloan = 0):\n",
    "        self.title = title\n",
    "        self.author = author\n",
    "        self.year = year\n",
    "        self.pages = pages\n",
    "        self.onloan = onloan\n",
    "\n",
    "    # Add method to get information on title and author\n",
    "    def get_info(self):\n",
    "        print(f\"Book: {self.title} by {self.author}\")\n",
    "\n",
    "    # Add function to request to loan a book\n",
    "    def set_request(self):\n",
    "        if self.onloan:\n",
    "            print(f\"{self.title} is not currently available.\")\n",
    "        else:\n",
    "            self.onloan = True\n",
    "            print(f\"{self.title} has been requested.\")"
   ]
  },
  {
   "cell_type": "code",
   "execution_count": 8,
   "metadata": {},
   "outputs": [],
   "source": [
    "b = Book(\"Pride and Prejudice\", \"Jane Austen\", 1813, 432)"
   ]
  },
  {
   "cell_type": "code",
   "execution_count": 9,
   "metadata": {},
   "outputs": [
    {
     "name": "stdout",
     "output_type": "stream",
     "text": [
      "Pride and Prejudice has been requested.\n",
      "Pride and Prejudice is not currently available.\n"
     ]
    }
   ],
   "source": [
    "b.set_request()\n",
    "b.set_request()"
   ]
  },
  {
   "cell_type": "markdown",
   "metadata": {},
   "source": [
    "We can set attributes to the class outside the init function, for example, inside a method. We use _ (single underscore) before the name of an attribute to tell other developers that this attribute is internal to the class and should not be used outside of it. Python does not enforce private attributes and does not stop developers from accessing this attribute."
   ]
  },
  {
   "cell_type": "code",
   "execution_count": 10,
   "metadata": {},
   "outputs": [],
   "source": [
    "class Book:\n",
    "    def __init__(self, title, author, year, pages, onloan = 0):\n",
    "        self.title = title\n",
    "        self.author = author\n",
    "        self.year = year\n",
    "        self.pages = pages\n",
    "        self.onloan = onloan\n",
    "        self.__secret = \"secret attribute\"\n",
    "\n",
    "    # Add method to get information on title and author\n",
    "    def get_info(self):\n",
    "        print(f\"Book: {self.title} by {self.author}\")\n",
    "\n",
    "    # Add function to request to loan a book\n",
    "    def set_request(self):\n",
    "        if self.onloan:\n",
    "            print(f\"{self.title} is not currently available.\")\n",
    "        else:\n",
    "            self.onloan = True\n",
    "            print(f\"{self.title} has been requested.\")\n",
    "    \n",
    "    # Add method that sets a new attribute to class (outside the init function)\n",
    "    def set_comment(self, comment):\n",
    "        self._comment = comment\n",
    "\n",
    "    # Add method that prints comments if available\n",
    "    def get_comment(self):\n",
    "        if hasattr(self, \"_comment\"):\n",
    "            print(self._comment)"
   ]
  },
  {
   "cell_type": "code",
   "execution_count": 11,
   "metadata": {},
   "outputs": [
    {
     "name": "stdout",
     "output_type": "stream",
     "text": [
      "This book is missing one page.\n"
     ]
    },
    {
     "data": {
      "text/plain": [
       "'This book is missing one page.'"
      ]
     },
     "execution_count": 11,
     "metadata": {},
     "output_type": "execute_result"
    }
   ],
   "source": [
    "b = Book(\"Pride and Prejudice\", \"Jane Austen\", 1813, 432)\n",
    "b.set_comment(\"This book is missing one page.\")\n",
    "b.get_comment()\n",
    "b._comment"
   ]
  },
  {
   "cell_type": "markdown",
   "metadata": {},
   "source": [
    "If you use double underscore for the name of an attribute, Python replaces each underscore and the character following it with the name of the class, in order to avoid name clashes between attributes in different classes. So if you call the attribute as following you get an error:"
   ]
  },
  {
   "cell_type": "code",
   "execution_count": 12,
   "metadata": {},
   "outputs": [
    {
     "ename": "AttributeError",
     "evalue": "'Book' object has no attribute '__secret'",
     "output_type": "error",
     "traceback": [
      "\u001b[1;31m---------------------------------------------------------------------------\u001b[0m",
      "\u001b[1;31mAttributeError\u001b[0m                            Traceback (most recent call last)",
      "Cell \u001b[1;32mIn[12], line 1\u001b[0m\n\u001b[1;32m----> 1\u001b[0m \u001b[38;5;28mprint\u001b[39m(\u001b[43mb\u001b[49m\u001b[38;5;241;43m.\u001b[39;49m\u001b[43m__secret\u001b[49m)\n",
      "\u001b[1;31mAttributeError\u001b[0m: 'Book' object has no attribute '__secret'"
     ]
    }
   ],
   "source": [
    "print(b.__secret)"
   ]
  },
  {
   "cell_type": "markdown",
   "metadata": {},
   "source": [
    "The attribute can still be accessed using the name of the class (this is called name mangling). The name of the class is added to avoid overriding by subclasses."
   ]
  },
  {
   "cell_type": "code",
   "execution_count": 13,
   "metadata": {},
   "outputs": [
    {
     "name": "stdout",
     "output_type": "stream",
     "text": [
      "secret attribute\n"
     ]
    }
   ],
   "source": [
    "print(b._Book__secret)"
   ]
  }
 ],
 "metadata": {
  "kernelspec": {
   "display_name": "Python 3 (ipykernel)",
   "language": "python",
   "name": "python3"
  },
  "language_info": {
   "codemirror_mode": {
    "name": "ipython",
    "version": 3
   },
   "file_extension": ".py",
   "mimetype": "text/x-python",
   "name": "python",
   "nbconvert_exporter": "python",
   "pygments_lexer": "ipython3",
   "version": "3.10.9"
  }
 },
 "nbformat": 4,
 "nbformat_minor": 2
}
