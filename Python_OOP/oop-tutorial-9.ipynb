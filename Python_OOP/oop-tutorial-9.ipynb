{
 "cells": [
  {
   "cell_type": "markdown",
   "metadata": {},
   "source": [
    "# Tutorial 9\n",
    "## Data classes"
   ]
  },
  {
   "cell_type": "markdown",
   "metadata": {},
   "source": [
    "The dataclasses can be used to facilitate the process of creating classes that store data. Let's convert our book class to a dataclass to see the difference in construction.\n",
    "The original Book class:"
   ]
  },
  {
   "cell_type": "code",
   "execution_count": 4,
   "metadata": {},
   "outputs": [
    {
     "name": "stdout",
     "output_type": "stream",
     "text": [
      "<__main__.Book object at 0x00000158829CE5F0>\n"
     ]
    }
   ],
   "source": [
    "class Book:\n",
    "    def __init__(self, title, author, year, price):\n",
    "        self.title = title\n",
    "        self.author = author\n",
    "        self.year = year\n",
    "        self.price = price\n",
    "\n",
    "book1 = Book(\"Pride and Prejudice\", \"Jane Austen\", 1813, 12.99)\n",
    "print(book1)"
   ]
  },
  {
   "cell_type": "markdown",
   "metadata": {},
   "source": [
    "Now using the dataclasses module:"
   ]
  },
  {
   "cell_type": "code",
   "execution_count": 5,
   "metadata": {},
   "outputs": [
    {
     "name": "stdout",
     "output_type": "stream",
     "text": [
      "Book(title='Pride and Prejudice', author='Jane Austen', year=1813, price=12.99)\n"
     ]
    }
   ],
   "source": [
    "from dataclasses import dataclass\n",
    "\n",
    "@dataclass\n",
    "class Book:\n",
    "    title : str\n",
    "    author : str\n",
    "    year : int\n",
    "    price : float\n",
    "\n",
    "book1 = Book(\"Pride and Prejudice\", \"Jane Austen\", 1813, 12.99)\n",
    "print(book1)"
   ]
  },
  {
   "cell_type": "markdown",
   "metadata": {},
   "source": [
    "Notice how the __repr__ method is defined by default in dataClass. Other things we can do with dataClass classes is to set default values quite easly and also make the attributes immutable, for example:"
   ]
  },
  {
   "cell_type": "code",
   "execution_count": 8,
   "metadata": {},
   "outputs": [
    {
     "name": "stdout",
     "output_type": "stream",
     "text": [
      "Book(title='Title', author='Author', year=0, price=0.0)\n"
     ]
    }
   ],
   "source": [
    "from dataclasses import dataclass\n",
    "\n",
    "@dataclass\n",
    "class Book:\n",
    "    title : str = \"Title\"\n",
    "    author : str = \"Author\"\n",
    "    year : int = 0\n",
    "    price : float = 0.0\n",
    "\n",
    "book1 = Book()\n",
    "print(book1)"
   ]
  },
  {
   "cell_type": "code",
   "execution_count": 13,
   "metadata": {},
   "outputs": [
    {
     "name": "stdout",
     "output_type": "stream",
     "text": [
      "Book(title='Title', author='Author', year=0, price=0.0)\n"
     ]
    }
   ],
   "source": [
    "from dataclasses import dataclass\n",
    "\n",
    "@dataclass(frozen=True)\n",
    "class Book:\n",
    "    title : str = \"Title\"\n",
    "    author : str = \"Author\"\n",
    "    year : int = 0\n",
    "    price : float = 0.0\n",
    "\n",
    "book1 = Book()\n",
    "print(book1)"
   ]
  },
  {
   "cell_type": "code",
   "execution_count": 14,
   "metadata": {},
   "outputs": [
    {
     "ename": "FrozenInstanceError",
     "evalue": "cannot assign to field 'title'",
     "output_type": "error",
     "traceback": [
      "\u001b[1;31m---------------------------------------------------------------------------\u001b[0m",
      "\u001b[1;31mFrozenInstanceError\u001b[0m                       Traceback (most recent call last)",
      "Cell \u001b[1;32mIn[14], line 1\u001b[0m\n\u001b[1;32m----> 1\u001b[0m book1\u001b[39m.\u001b[39mtitle \u001b[39m=\u001b[39m \u001b[39m\"\u001b[39m\u001b[39mRomeo and Juliet\u001b[39m\u001b[39m\"\u001b[39m\n",
      "File \u001b[1;32m<string>:4\u001b[0m, in \u001b[0;36m__setattr__\u001b[1;34m(self, name, value)\u001b[0m\n",
      "\u001b[1;31mFrozenInstanceError\u001b[0m: cannot assign to field 'title'"
     ]
    }
   ],
   "source": [
    "book1.title = \"Romeo and Juliet\""
   ]
  },
  {
   "cell_type": "markdown",
   "metadata": {},
   "source": [
    "## Shallow versus Deep copy\n",
    "To finish let's see how a shallow copy and deep copy work. Starting with a shallow copy:"
   ]
  },
  {
   "cell_type": "code",
   "execution_count": 20,
   "metadata": {},
   "outputs": [],
   "source": [
    "class Book:\n",
    "    def __init__(self, title, author, year):\n",
    "        self.title = title\n",
    "        self.author = author\n",
    "        self.year = year\n",
    "\n",
    "book1 = Book(\"Pride and Prejudice\", \"Jane Austen\", 1813)\n",
    "book2 = book1"
   ]
  },
  {
   "cell_type": "markdown",
   "metadata": {},
   "source": [
    "Changing an attribute of one copy changes the attribute of the other copy. For example:"
   ]
  },
  {
   "cell_type": "code",
   "execution_count": 24,
   "metadata": {},
   "outputs": [
    {
     "name": "stdout",
     "output_type": "stream",
     "text": [
      "Sense and Sensibility\n"
     ]
    }
   ],
   "source": [
    "book2.title = \"Sense and Sensibility\"\n",
    "print(book1.title)"
   ]
  },
  {
   "cell_type": "markdown",
   "metadata": {},
   "source": [
    "To implement a deep copy we need the *copy* module."
   ]
  },
  {
   "cell_type": "code",
   "execution_count": 27,
   "metadata": {},
   "outputs": [
    {
     "name": "stdout",
     "output_type": "stream",
     "text": [
      "Jane Austen\n"
     ]
    }
   ],
   "source": [
    "from copy import deepcopy \n",
    "\n",
    "book3 = deepcopy(book1)\n",
    "print(book3.author)"
   ]
  },
  {
   "cell_type": "markdown",
   "metadata": {},
   "source": [
    "Now changing the attributes of the copy does not change the original object."
   ]
  },
  {
   "cell_type": "code",
   "execution_count": 30,
   "metadata": {},
   "outputs": [],
   "source": [
    "book3.title = \"One Hundred Years of Solitude\"\n",
    "book3.author = \"Gabriel García Márquez\"\n",
    "book3.year = 1967"
   ]
  },
  {
   "cell_type": "code",
   "execution_count": 31,
   "metadata": {},
   "outputs": [
    {
     "name": "stdout",
     "output_type": "stream",
     "text": [
      "Gabriel García Márquez\n",
      "Jane Austen\n"
     ]
    }
   ],
   "source": [
    "print(book3.author)\n",
    "print(book1.author)"
   ]
  }
 ],
 "metadata": {
  "kernelspec": {
   "display_name": "base",
   "language": "python",
   "name": "python3"
  },
  "language_info": {
   "codemirror_mode": {
    "name": "ipython",
    "version": 3
   },
   "file_extension": ".py",
   "mimetype": "text/x-python",
   "name": "python",
   "nbconvert_exporter": "python",
   "pygments_lexer": "ipython3",
   "version": "3.10.9"
  },
  "orig_nbformat": 4
 },
 "nbformat": 4,
 "nbformat_minor": 2
}
