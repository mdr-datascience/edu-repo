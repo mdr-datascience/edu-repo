{
 "cells": [
  {
   "cell_type": "markdown",
   "metadata": {},
   "source": [
    "# Tutorial 7\n",
    "## Composition\n",
    "In this tutorial we will use composition to create a more complex class from other classes. By using the class name or by creating the object we can access instances of one class inside another class. A class *Composite* contains objects of another class *Component*. This type of relationship is known as *Has-A* relation between classes. In our example we are going to create a class called Vehicle that contains an object from the class Owner and one from the class Ride."
   ]
  },
  {
   "cell_type": "code",
   "execution_count": 1,
   "metadata": {},
   "outputs": [],
   "source": [
    "class Vehicle:\n",
    "    def __init__(self, type, price, owner = None):\n",
    "        self.type = type\n",
    "        self.price = price\n",
    "\n",
    "        # Where the references to other objects are stored\n",
    "        self.owner = owner\n",
    "        self.rides = []\n",
    "\n",
    "    def addride(self, ride):\n",
    "        self.rides.append(ride)\n",
    "\n",
    "    def gettotalmiles(self):\n",
    "        result = 0\n",
    "        for r in self.rides:\n",
    "            result += r.miles\n",
    "        return f\"Total number of miles: {result}\"\n",
    "\n",
    "\n",
    "class Owner:\n",
    "    def __init__(self, fname, lname, address = None):\n",
    "        self.fname = fname\n",
    "        self.lname = lname\n",
    "        self.address = address\n",
    "\n",
    "    def __str__(self):\n",
    "        return f\"Owner| Name: {self.fname} {self.lname}, \"\\\n",
    "            f\"Address: {self.address}\"\n",
    "\n",
    "class Ride:\n",
    "    def __init__(self, description, miles):\n",
    "        self.description = description\n",
    "        self.miles = miles"
   ]
  },
  {
   "cell_type": "markdown",
   "metadata": {},
   "source": [
    "Now we can create an Owner (by instantiating from the Owner class) and add this object to a particular Vehicle (an instance of the Vehicle class)."
   ]
  },
  {
   "cell_type": "code",
   "execution_count": 2,
   "metadata": {},
   "outputs": [],
   "source": [
    "# Create instance of Owner\n",
    "own = Owner(\"Jane\", \"Smith\")\n",
    "\n",
    "# Create a new Vehicle using the object own inside of it\n",
    "v1 = Vehicle(\"Car\", 15000, own)"
   ]
  },
  {
   "cell_type": "markdown",
   "metadata": {},
   "source": [
    "For the ride object, we can create and add it to the Vehicle class in one line of code, as follows (however, we could have created a Ride object first and then pass it to the addride() method in a separate line of code)."
   ]
  },
  {
   "cell_type": "code",
   "execution_count": 3,
   "metadata": {},
   "outputs": [
    {
     "name": "stdout",
     "output_type": "stream",
     "text": [
      "Owner| Name: Jane Smith, Address: None\n",
      "Total number of miles: 12000\n"
     ]
    }
   ],
   "source": [
    "v1.addride(Ride(\"TRip to France\", 10000))\n",
    "v1.addride(Ride(\"Roadtrip UK\", 2000))\n",
    "\n",
    "print(v1.owner)\n",
    "print(v1.gettotalmiles())"
   ]
  },
  {
   "cell_type": "markdown",
   "metadata": {},
   "source": [
    "Create one more example of an Owner object and several Ride objects and add them to a new Vehicle."
   ]
  },
  {
   "cell_type": "code",
   "execution_count": 9,
   "metadata": {},
   "outputs": [
    {
     "name": "stdout",
     "output_type": "stream",
     "text": [
      "Owner| Name: Oliver Twist, Address: 10 Brick Lane, London, UK\n",
      "Total number of miles: 1220\n"
     ]
    }
   ],
   "source": [
    "own = Owner(\"Oliver\", \"Twist\", \"10 Brick Lane, London, UK\")\n",
    "v1 = Vehicle(\"Motorbike\", 7000, own)\n",
    "\n",
    "v1.addride(Ride(\"Daily commute\", 20))\n",
    "v1.addride(Ride(\"Trip to Scotland\", 500))\n",
    "v1.addride(Ride(\"Trip to Wales\", 700))\n",
    "\n",
    "print(v1.owner)\n",
    "print(v1.gettotalmiles())"
   ]
  }
 ],
 "metadata": {
  "kernelspec": {
   "display_name": "Python 3 (ipykernel)",
   "language": "python",
   "name": "python3"
  },
  "language_info": {
   "codemirror_mode": {
    "name": "ipython",
    "version": 3
   },
   "file_extension": ".py",
   "mimetype": "text/x-python",
   "name": "python",
   "nbconvert_exporter": "python",
   "pygments_lexer": "ipython3",
   "version": "3.10.9"
  }
 },
 "nbformat": 4,
 "nbformat_minor": 2
}
