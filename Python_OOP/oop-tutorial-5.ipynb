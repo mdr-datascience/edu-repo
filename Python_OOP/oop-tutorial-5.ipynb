{
 "cells": [
  {
   "cell_type": "markdown",
   "metadata": {},
   "source": [
    "# Tutorial 5\n",
    "## Single-level Inheritance\n"
   ]
  },
  {
   "cell_type": "markdown",
   "metadata": {},
   "source": [
    "Inheritance is one of the pillars of Object-Oriented Programming. Without inheritance it's easy to end with lots of repeated code when building new classes. For example, when creating classes for different animals, without the concept of inheritance there is clearly some code repetition that could potentially be avoided. Can you spot where?"
   ]
  },
  {
   "cell_type": "code",
   "execution_count": 1,
   "metadata": {},
   "outputs": [],
   "source": [
    "class Dog():\n",
    "    def __init__(self, species, common_name, breed, ind_name):\n",
    "        self.species = species\n",
    "        self.common_name = common_name\n",
    "        self.breed = breed\n",
    "        self.ind_name = ind_name\n",
    "\n",
    "class Bat():\n",
    "    def __init__(self, species, common_name, endemic):\n",
    "        self.species = species\n",
    "        self.common_name = common_name\n",
    "        self.endemic = endemic\n",
    "\n",
    "class Cat():\n",
    "    def __init__(self, species, common_name, breed, ind_name, indoor):\n",
    "        self.species = species\n",
    "        self.common_name = common_name\n",
    "        self.breed = breed\n",
    "        self.ind_name = ind_name\n",
    "        self.indoor = indoor\n",
    "\n",
    "d1 = Dog(\"Canis lupus familiaris\", \"Dog\", \"Labrador\", \"Snoopy\")\n",
    "b1 = Bat(\"Pipistrellus pipistrellus\", \"Common pipistrelle\", True)\n",
    "c1 = Cat(\"Felis catus\", \"Domestic cat\", \"Siemese\", \"Felix\", False)"
   ]
  },
  {
   "cell_type": "markdown",
   "metadata": {},
   "source": [
    "With inheritance, we can create a super class with the common attributes/methods present in the subclasses and we don't need to define these when we create the subclasses. All we need to do is to inherit these from the superclass. In our example, all the animals are mammals so we could have a class for mammals with what is common for all other animals:"
   ]
  },
  {
   "cell_type": "code",
   "execution_count": 4,
   "metadata": {},
   "outputs": [],
   "source": [
    "class Mammal():\n",
    "    def __init__(self, species, common_name):\n",
    "        self.species = species\n",
    "        self.common_name = common_name\n",
    "\n",
    "# The syntax to inherit is to add the superclass name inside the () when you define a new class\n",
    "# One way to get the attributes/methods from the superclass is to use the function super() as below:\n",
    "class Dog(Mammal):\n",
    "    def __init__(self, species, common_name, breed, ind_name):\n",
    "        super().__init__(species, common_name)\n",
    "        self.breed = breed\n",
    "        self.ind_name = ind_name\n",
    "\n",
    "class Cat(Mammal):\n",
    "    def __init__(self, species, common_name, breed, ind_name, indoor):\n",
    "        super().__init__(species, common_name)\n",
    "        self.breed = breed\n",
    "        self.ind_name = ind_name\n",
    "        self.indoor = indoor\n",
    "\n",
    "class Bat(Mammal):\n",
    "    def __init__(self, species, common_name, endemic):\n",
    "        super().__init__(species, common_name)\n",
    "        self.endemic = endemic\n",
    "\n",
    "d1 = Dog(\"Canis lupus familiaris\", \"Dog\", \"Labrador\", \"Snoopy\")\n",
    "b1 = Bat(\"Pipistrellus pipistrellus\", \"Common pipistrelle\", True)\n",
    "c1 = Cat(\"Felis catus\", \"Domestic cat\", \"Siemese\", \"Felix\", False)"
   ]
  },
  {
   "cell_type": "markdown",
   "metadata": {},
   "source": [
    "## Multi-level inheritance\n",
    "Some of the subclasses still have some attributes in common so we could try to define them from another superclass that itself inherits the properties from a more general class. This is called multi-level inheritance and in our example, we can have a general superclass called Animal (all our classes represent animals) and have a Mammal class (in this case we only have mammnals) but also have a DomesticAnimal subclass to define Cat and Dog from. Notice that when we define the Cat class we are inheriting lots of properties from multiple classes, from DomesticAnimal, from Mammal and from Animal."
   ]
  },
  {
   "cell_type": "code",
   "execution_count": 5,
   "metadata": {},
   "outputs": [],
   "source": [
    "class Animal():\n",
    "    def __init__(self, species, common_name):\n",
    "        self.species = species\n",
    "        self.common_name = common_name\n",
    "    \n",
    "class Mammal(Animal):\n",
    "    def __init__(self, species, common_name, gestation_months):\n",
    "        super().__init__(species, common_name)\n",
    "        self.gestation_months = gestation_months\n",
    "\n",
    "class DomesticAnimal(Mammal):\n",
    "    def __init__(self, species, common_name, gestation_months, breed, ind_name):\n",
    "        super().__init__(species, common_name, gestation_months)\n",
    "        self.breed = breed\n",
    "        self.ind_name = ind_name \n",
    "\n",
    "class Cat(DomesticAnimal):\n",
    "    def __init__(self, species, common_name, gestation_months, breed, ind_name, indoor):\n",
    "        super().__init__(species, common_name, gestation_months, breed, ind_name)\n",
    "        self.indoor = indoor\n",
    "\n",
    "    def __str__(self):\n",
    "        return  f\"Species: {self.species}\\nCommon Name: {self.common_name}\\n\"\\\n",
    "            f\"Gestation period (months): {self.gestation_months}\\nBreed: {self.breed}\\n\"\\\n",
    "            f\"Individual name: {self.ind_name}\\nIndoor cat: {self.indoor}\"\n",
    "            \n",
    "\n",
    "c1 = Cat(\"Felis catus\", \"Domestic cat\", 2, \"Siemese\", \"Felix\", False)"
   ]
  },
  {
   "cell_type": "code",
   "execution_count": 7,
   "metadata": {},
   "outputs": [
    {
     "name": "stdout",
     "output_type": "stream",
     "text": [
      "Species: Felis catus\n",
      "Common Name: Domestic cat\n",
      "Gestation period (months): 2\n",
      "Breed: Siemese\n",
      "Individual name: Felix\n",
      "Indoor cat: False\n"
     ]
    }
   ],
   "source": [
    "print(c1)"
   ]
  },
  {
   "cell_type": "markdown",
   "metadata": {},
   "source": [
    "## Multiple class inheritance\n",
    "Instead of multiple levels we could inherit from more than one class in one go. This is called multi-class inheritance but we need to be careful here. If both superclasses have the same attribute, the attribute from the first class is usually the one that gets passed down to the subclass. The order in which attributes have priority can be checked using the *mro* method. MRO stands for Method Resolution Order and it is the order in which a method/attribute is searched for in a class hierarchy."
   ]
  },
  {
   "cell_type": "code",
   "execution_count": 2,
   "metadata": {},
   "outputs": [
    {
     "name": "stdout",
     "output_type": "stream",
     "text": [
      "Attribute A\n",
      "Attribute B\n"
     ]
    }
   ],
   "source": [
    "class ClassA:\n",
    "    def __init__(self):\n",
    "        super().__init__()\n",
    "        self.name = \"Class A\"\n",
    "        self.attr_A = \"Attribute A\"\n",
    "\n",
    "class ClassB:\n",
    "    def __init__(self):\n",
    "        super().__init__()\n",
    "        self.name = \"Class B\"\n",
    "        self.attr_B = \"Attribute B\"\n",
    "\n",
    "class ClassC(ClassA, ClassB):\n",
    "    def __init__(self):\n",
    "        super().__init__()\n",
    "\n",
    "c = ClassC()\n",
    "print(c.attr_A)\n",
    "print(c.attr_B)"
   ]
  },
  {
   "cell_type": "markdown",
   "metadata": {},
   "source": [
    "The attribute *name* exists in both class A and B, check what is passed down to class C. Also use *mro* to check why this is the case:"
   ]
  },
  {
   "cell_type": "code",
   "execution_count": 3,
   "metadata": {},
   "outputs": [
    {
     "name": "stdout",
     "output_type": "stream",
     "text": [
      "Class A\n",
      "(<class '__main__.ClassC'>, <class '__main__.ClassA'>, <class '__main__.ClassB'>, <class 'object'>)\n"
     ]
    }
   ],
   "source": [
    "print(c.name)\n",
    "print(ClassC.__mro__)"
   ]
  },
  {
   "cell_type": "markdown",
   "metadata": {},
   "source": [
    "You can use the function *issubclass* to check if a class is a subclass (or inherits from) a specific class, for example:"
   ]
  },
  {
   "cell_type": "code",
   "execution_count": 10,
   "metadata": {},
   "outputs": [
    {
     "name": "stdout",
     "output_type": "stream",
     "text": [
      "True\n",
      "True\n",
      "False\n"
     ]
    }
   ],
   "source": [
    "print(issubclass(ClassC, ClassA))\n",
    "print(issubclass(ClassC, ClassB))\n",
    "print(issubclass(ClassA, ClassB))"
   ]
  }
 ],
 "metadata": {
  "kernelspec": {
   "display_name": "Python 3 (ipykernel)",
   "language": "python",
   "name": "python3"
  },
  "language_info": {
   "codemirror_mode": {
    "name": "ipython",
    "version": 3
   },
   "file_extension": ".py",
   "mimetype": "text/x-python",
   "name": "python",
   "nbconvert_exporter": "python",
   "pygments_lexer": "ipython3",
   "version": "3.10.9"
  }
 },
 "nbformat": 4,
 "nbformat_minor": 2
}
