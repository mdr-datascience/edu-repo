{
 "cells": [
  {
   "cell_type": "markdown",
   "metadata": {},
   "source": [
    "# Tutorial 5\n",
    "## Inheritance\n"
   ]
  },
  {
   "cell_type": "markdown",
   "metadata": {},
   "source": [
    "Without inheritance there is more code repetition, for example:"
   ]
  },
  {
   "cell_type": "code",
   "execution_count": 1,
   "metadata": {},
   "outputs": [],
   "source": [
    "class Dog():\n",
    "    def __init__(self, species, common_name, breed, ind_name):\n",
    "        self.species = species\n",
    "        self.common_name = common_name\n",
    "        self.breed = breed\n",
    "        self.ind_name = ind_name\n",
    "\n",
    "class Bat():\n",
    "    def __init__(self, species, common_name, endemic):\n",
    "        self.species = species\n",
    "        self.common_name = common_name\n",
    "        self.endemic = endemic\n",
    "\n",
    "class Cat():\n",
    "    def __init__(self, species, common_name, breed, ind_name, indoor):\n",
    "        self.species = species\n",
    "        self.common_name = common_name\n",
    "        self.breed = breed\n",
    "        self.ind_name = ind_name\n",
    "        self.indoor = indoor\n",
    "\n",
    "d1 = Dog(\"Canis lupus familiaris\", \"Dog\", \"Labrador\", \"Snoopy\")\n",
    "b1 = Bat(\"Pipistrellus pipistrellus\", \"Common pipistrelle\", True)\n",
    "c1 = Cat(\"Felis catus\", \"Domestic cat\", \"Siemese\", \"Felix\", False)"
   ]
  },
  {
   "cell_type": "markdown",
   "metadata": {},
   "source": [
    "With inheritance:"
   ]
  },
  {
   "cell_type": "code",
   "execution_count": 2,
   "metadata": {},
   "outputs": [],
   "source": [
    "class Mammal():\n",
    "    def __init__(self, species, common_name):\n",
    "        self.species = species\n",
    "        self.common_name = common_name\n",
    "\n",
    "class Dog(Mammal):\n",
    "    def __init__(self, species, common_name, breed, ind_name):\n",
    "        super().__init__(species, common_name)\n",
    "        self.breed = breed\n",
    "        self.ind_name = ind_name\n",
    "\n",
    "class Cat(Mammal):\n",
    "    def __init__(self, species, common_name, breed, ind_name, indoor):\n",
    "        super().__init__(species, common_name)\n",
    "        self.breed = breed\n",
    "        self.ind_name = ind_name\n",
    "        self.indoor = indoor\n",
    "\n",
    "class Bat(Mammal):\n",
    "    def __init__(self, species, common_name, endemic):\n",
    "        super().__init__(species, common_name)\n",
    "        self.endemic = endemic\n",
    "\n",
    "d1 = Dog(\"Canis lupus familiaris\", \"Dog\", \"Labrador\", \"Snoopy\")\n",
    "b1 = Bat(\"Pipistrellus pipistrellus\", \"Common pipistrelle\", True)\n",
    "c1 = Cat(\"Felis catus\", \"Domestic cat\", \"Siemese\", \"Felix\", False)"
   ]
  },
  {
   "cell_type": "markdown",
   "metadata": {},
   "source": [
    "With multi-level inheritance:"
   ]
  },
  {
   "cell_type": "code",
   "execution_count": 8,
   "metadata": {},
   "outputs": [],
   "source": [
    "class Animal():\n",
    "    def __init__(self, species, common_name):\n",
    "        self.species = species\n",
    "        self.common_name = common_name\n",
    "    \n",
    "class Mammal(Animal):\n",
    "    def __init__(self, species, common_name, gestation_months):\n",
    "        super().__init__(species, common_name)\n",
    "        self.gestation_months = gestation_months\n",
    "\n",
    "class DomesticAnimal(Mammal):\n",
    "    def __init__(self, species, common_name, gestation_months, breed, ind_name):\n",
    "        super().__init__(species, common_name, gestation_months)\n",
    "        self.breed = breed\n",
    "        self.ind_name = ind_name \n",
    "\n",
    "class Cat(DomesticAnimal):\n",
    "    def __init__(self, species, common_name, gestation_months, breed, ind_name, indoor):\n",
    "        super().__init__(species, common_name, gestation_months, breed, ind_name)\n",
    "        self.indoor = indoor\n",
    "\n",
    "    def __str__(self):\n",
    "        return  f\"Species: {self.species},'\\n' Common Name: {self.common_name},'\\n' Gestation period (months): {self.gestation_months}, Breed: {self.breed}, Individual name: {self.ind_name}, Indoor cat: {self.indoor}\"\n",
    "            \n",
    "\n",
    "c1 = Cat(\"Felis catus\", \"Domestic cat\", 2, \"Siemese\", \"Felix\", False)"
   ]
  },
  {
   "cell_type": "code",
   "execution_count": 6,
   "metadata": {},
   "outputs": [
    {
     "name": "stdout",
     "output_type": "stream",
     "text": [
      "Species: Felis catus,'\n",
      "' Common Name: Domestic cat, Gestation period (months): 2, Breed: Siemese, Individual name: Felix, Indoor cat: False\n"
     ]
    }
   ],
   "source": [
    "print(c1)"
   ]
  },
  {
   "cell_type": "code",
   "execution_count": null,
   "metadata": {},
   "outputs": [],
   "source": []
  }
 ],
 "metadata": {
  "kernelspec": {
   "display_name": "base",
   "language": "python",
   "name": "python3"
  },
  "language_info": {
   "codemirror_mode": {
    "name": "ipython",
    "version": 3
   },
   "file_extension": ".py",
   "mimetype": "text/x-python",
   "name": "python",
   "nbconvert_exporter": "python",
   "pygments_lexer": "ipython3",
   "version": "3.10.9"
  },
  "orig_nbformat": 4
 },
 "nbformat": 4,
 "nbformat_minor": 2
}
